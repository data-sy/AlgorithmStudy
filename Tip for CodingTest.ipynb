{
 "cells": [
  {
   "cell_type": "markdown",
   "id": "92f0c19e",
   "metadata": {},
   "source": [
    "### 리스트 원소 중복제거\n",
    "- 결론 : set사용\n",
    "( 물론, 순서 바뀌면 안 되거나, 뭔가 다른 동작을 같이 한다면 새 리스트에 append 써야겠지)"
   ]
  },
  {
   "cell_type": "code",
   "execution_count": 1,
   "id": "de43855a",
   "metadata": {},
   "outputs": [
    {
     "name": "stdout",
     "output_type": "stream",
     "text": [
      "['apple', 'banana', 'orange', 'kiwi']\n",
      "['banana', 'apple', 'orange', 'kiwi']\n"
     ]
    }
   ],
   "source": [
    "# apple 2개, 'banana' 1개, 'orange' 3개, 'kiwi' 4개\n",
    "items = ['apple', 'apple', 'banana', 'orange', 'orange','orange', 'kiwi', 'kiwi', 'kiwi', 'kiwi']\n",
    "\n",
    "# 방법 1 : 리스트 append\n",
    "list1 = []\n",
    "for item in items :\n",
    "    if item not in list1:\n",
    "        list1.append(item)\n",
    "    else : continue\n",
    "print(list1)\n",
    "\n",
    "# 방법 2 : set (set은 순서 바뀔 수 있음)\n",
    "list2 = []\n",
    "list2 = list(set(items))\n",
    "print(list2)"
   ]
  },
  {
   "cell_type": "markdown",
   "id": "5ff8a75d",
   "metadata": {},
   "source": [
    "### 중복된 것 개수 셀 때 (집계용 코드)\n",
    "- collections 라이브러리의 defaultdict 활용 =====> Counter 자료구조가 더 간단"
   ]
  },
  {
   "cell_type": "code",
   "execution_count": 2,
   "id": "641cf83a",
   "metadata": {
    "scrolled": true
   },
   "outputs": [
    {
     "name": "stdout",
     "output_type": "stream",
     "text": [
      "{'apple': 2, 'banana': 1, 'orange': 3, 'kiwi': 4}\n",
      "defaultdict(<class 'int'>, {'apple': 2, 'banana': 1, 'orange': 3, 'kiwi': 4})\n"
     ]
    }
   ],
   "source": [
    "# apple 2개, 'banana' 1개, 'orange' 3개, 'kiwi' 4개\n",
    "items = ['apple', 'apple', 'banana', 'orange', 'orange','orange', 'kiwi', 'kiwi', 'kiwi', 'kiwi']\n",
    "\n",
    "# 방법 1 : 딕셔너리 사용\n",
    "num_items1 = {}\n",
    "for item in items :\n",
    "    if item not in num_items1 : # 처음이면 key로 등록\n",
    "        num_items1[item] = 1\n",
    "    else :\n",
    "        num_items1[item] += 1    # 개수 카운트\n",
    "print(num_items1)\n",
    "\n",
    "\n",
    "# 방법 2 : defaultdict 사용\n",
    "from collections import defaultdict\n",
    "num_items2 = defaultdict(int)  # 초기값 0\n",
    "for item in items :\n",
    "    num_items2[item] += 1  \n",
    "print(num_items2)"
   ]
  },
  {
   "cell_type": "code",
   "execution_count": 2,
   "id": "fb715890",
   "metadata": {},
   "outputs": [
    {
     "name": "stdout",
     "output_type": "stream",
     "text": [
      "{'apple': 2, 'banana': 1, 'orange': 3, 'kiwi': 4}\n"
     ]
    }
   ],
   "source": [
    "# 방법3 : Counter =================== 채택!!\n",
    "\n",
    "from collections import Counter\n",
    "\n",
    "items = ['apple', 'apple', 'banana', 'orange', 'orange','orange', 'kiwi', 'kiwi', 'kiwi', 'kiwi']\n",
    "\n",
    "\n",
    "counter = Counter(items)\n",
    "print(dict(counter))"
   ]
  },
  {
   "cell_type": "code",
   "execution_count": null,
   "id": "d5ceb35b",
   "metadata": {},
   "outputs": [],
   "source": []
  }
 ],
 "metadata": {
  "kernelspec": {
   "display_name": "Python 3 (ipykernel)",
   "language": "python",
   "name": "python3"
  },
  "language_info": {
   "codemirror_mode": {
    "name": "ipython",
    "version": 3
   },
   "file_extension": ".py",
   "mimetype": "text/x-python",
   "name": "python",
   "nbconvert_exporter": "python",
   "pygments_lexer": "ipython3",
   "version": "3.10.9"
  }
 },
 "nbformat": 4,
 "nbformat_minor": 5
}
