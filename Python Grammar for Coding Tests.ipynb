{
 "cells": [
  {
   "cell_type": "markdown",
   "id": "396672b9",
   "metadata": {},
   "source": [
    "- 실제 개발 : 각 모듈을 클래스별로 구분하여 작성\n",
    "- 코딩 테스트용 코드 : 클래스 작성 x, 함수만으로 문제 풀이에 필요한 기능을 모듈화\n",
    "\n",
    "∴ 클래스 문법 제외"
   ]
  },
  {
   "cell_type": "markdown",
   "id": "24dd2a6e",
   "metadata": {},
   "source": [
    "# 1. 자료형"
   ]
  },
  {
   "cell_type": "markdown",
   "id": "d1b7cdb2",
   "metadata": {},
   "source": [
    "## 1) 수 자료형\n",
    "- 코테에서 다루는 알고리즘 문제는 입출력 데이터가 대부분 정수형\n",
    "- 실수형은 빈도 낮음"
   ]
  },
  {
   "cell_type": "markdown",
   "id": "383ab7bb",
   "metadata": {},
   "source": [
    "### 정수형"
   ]
  },
  {
   "cell_type": "markdown",
   "id": "1d6c75be",
   "metadata": {},
   "source": [
    "### 실수형"
   ]
  },
  {
   "cell_type": "code",
   "execution_count": 3,
   "id": "f9f67d6f",
   "metadata": {},
   "outputs": [
    {
     "name": "stdout",
     "output_type": "stream",
     "text": [
      "5.0\n",
      "-0.7\n"
     ]
    }
   ],
   "source": [
    "# 소수부, 정수부 0 생략 가능\n",
    "a = 5.\n",
    "print(a)\n",
    "b = -.7\n",
    "print(b)"
   ]
  },
  {
   "cell_type": "code",
   "execution_count": 5,
   "id": "3b716026",
   "metadata": {},
   "outputs": [
    {
     "name": "stdout",
     "output_type": "stream",
     "text": [
      "1000000000.0\n",
      "752.5\n",
      "3.952\n"
     ]
    }
   ],
   "source": [
    "# 유효숫자e지수 = 유효숫자*10^지수\n",
    "# 최단 경로 문제 : 무한(INF)을 표현할 때 사용\n",
    "\n",
    "a = 1e9      # 코테 : 10억\n",
    "print(a)\n",
    "\n",
    "b = 75.25e1\n",
    "print(b)\n",
    "c= 3952e-3\n",
    "print(c)"
   ]
  },
  {
   "cell_type": "code",
   "execution_count": 12,
   "id": "c2372a14",
   "metadata": {},
   "outputs": [
    {
     "name": "stdout",
     "output_type": "stream",
     "text": [
      "0.8999999999999999\n"
     ]
    }
   ],
   "source": [
    "# 컴퓨터는 실수를 정확하게 표현하지 못함\n",
    "# 2진수 체계이므로\n",
    "a = 0.3 + 0.6\n",
    "print(a)"
   ]
  },
  {
   "cell_type": "code",
   "execution_count": 13,
   "id": "22904507",
   "metadata": {},
   "outputs": [
    {
     "name": "stdout",
     "output_type": "stream",
     "text": [
      "0.9\n",
      "123.46\n"
     ]
    }
   ],
   "source": [
    "# 실수값 비교할 때는 round() 함수 사용\n",
    "# round() 함수 : round(실수, 소수 자리수) 반올림하는 함수\n",
    "\n",
    "print(round(a, 4))    ###### 코테 : 소수점 다섯 번째 자리에서 반올림한 결과가 같으면 정답 인정 조건\n",
    "\n",
    "b = round(123.456, 2)\n",
    "print(b)"
   ]
  },
  {
   "cell_type": "markdown",
   "id": "e19ea980",
   "metadata": {},
   "source": [
    "### 수 자료형의 연산\n",
    "- / : 나누기 연산자. 나눠진 결과 실수형으로 처리\n",
    "- // : 몫 연산자\n",
    "- % : 나머지 연산자\n",
    "- ** : 거듭제곱 연산자"
   ]
  },
  {
   "cell_type": "markdown",
   "id": "b2df86cc",
   "metadata": {},
   "source": [
    "## 2) 리스트 자료형\n",
    "- 내부적으로 배열Array을 채택\n",
    "- 연결 리스트 자료구조 기능 포함 : append(), remove() 등의 메서드 지원"
   ]
  },
  {
   "cell_type": "code",
   "execution_count": 14,
   "id": "3bbb7a6b",
   "metadata": {},
   "outputs": [
    {
     "name": "stdout",
     "output_type": "stream",
     "text": [
      "[0, 0, 0, 0, 0, 0, 0, 0, 0, 0]\n"
     ]
    }
   ],
   "source": [
    "###### 코테 : 크기 N, 모든 값 0인 1차원 리스트 초기화\n",
    "n = 10\n",
    "a = [0]*n    # cf.원소별로 곱하려면 list는 for돌려야 해. -> 넘파이 라이브러리 간편\n",
    "print(a)"
   ]
  },
  {
   "cell_type": "code",
   "execution_count": 17,
   "id": "4fe71773",
   "metadata": {},
   "outputs": [
    {
     "data": {
      "text/plain": [
       "[5, 4, 3]"
      ]
     },
     "execution_count": 17,
     "metadata": {},
     "output_type": "execute_result"
    }
   ],
   "source": [
    "# 슬라이싱\n",
    "list = [1, 2, 3, 4, 5, 6]\n",
    "list[-2:-5:-1]"
   ]
  },
  {
   "cell_type": "markdown",
   "id": "ee794e02",
   "metadata": {},
   "source": [
    "ㅇ 리스트 컴프리헨션 (List comprehension)\n",
    "- [표현식 for 항목 in 반복가능객체 if 조건문]\n",
    "- [표현식 for 항목1 in 반복가능객체1 if 조건문1 <br/>\n",
    "          for 항목2 in 반복가능객체2 if 조건문2<br/>\n",
    "        ...<br/>\n",
    "        for 항목n in 반복가능객체n if 조건문n]\n",
    "- 반복문을 통해 얻은 결과물로 list를 만들고 싶을 때 사용"
   ]
  },
  {
   "cell_type": "code",
   "execution_count": 1,
   "id": "37bf1ba6",
   "metadata": {},
   "outputs": [
    {
     "name": "stdout",
     "output_type": "stream",
     "text": [
      "[1, 3, 5, 7, 9, 11, 13, 15, 17, 19]\n",
      "[2, 4, 6, 8, 10, 12, 14, 16, 18, 20]\n",
      "[1, 4, 9, 16, 25, 36, 49, 64, 81]\n",
      "[2, 4, 6, 8, 10, 12, 14, 16, 18, 3, 6, 9, 12, 15, 18, 21, 24, 27, 4, 8, 12, 16, 20, 24, 28, 32, 36, 5, 10, 15, 20, 25, 30, 35, 40, 45, 6, 12, 18, 24, 30, 36, 42, 48, 54, 7, 14, 21, 28, 35, 42, 49, 56, 63, 8, 16, 24, 32, 40, 48, 56, 64, 72, 9, 18, 27, 36, 45, 54, 63, 72, 81]\n"
     ]
    }
   ],
   "source": [
    "# 리스트 컴프리헨션                 # 참고 : https://wikidocs.net/22805\n",
    "# [ ] 안에 조건문, 반복믄 가능\n",
    "\n",
    "# 0~19에서 홀수만\n",
    "arr1 = [i for i in range(20) if i%2 == 1]\n",
    "print(arr1)\n",
    "\n",
    "# 2의 배수 10개\n",
    "arr2 = [ 2*i for i in range(1, 10+1) ]\n",
    "print(arr2)\n",
    "\n",
    "# 1~9 제곱 값\n",
    "arr3 = [ i*i for i in range(1, 10)]\n",
    "print(arr3)\n",
    "\n",
    "# 구구단\n",
    "result = [x*y for x in range(2,10)\n",
    "          for y in range(1,10)]\n",
    "print(result)"
   ]
  },
  {
   "cell_type": "markdown",
   "id": "7f037bac",
   "metadata": {},
   "source": [
    "###  <font color=magenta> 오늘의 포인트 </font>\n",
    "- 특정한 크기를 가지는 2차원 리스트를 초기화할 때에는 리스트 컴프리헨션 이용해야 함!"
   ]
  },
  {
   "cell_type": "code",
   "execution_count": 30,
   "id": "22046a96",
   "metadata": {},
   "outputs": [
    {
     "data": {
      "text/plain": [
       "[[0, 0, 0, 0], [0, 0, 0, 0], [0, 0, 0, 0]]"
      ]
     },
     "execution_count": 30,
     "metadata": {},
     "output_type": "execute_result"
    }
   ],
   "source": [
    "###### 코테 : N*M 크기의 2차원 리스트 초기화\n",
    "n=3\n",
    "m=4\n",
    "arr = [[0]*m for _ in range(n)]\n",
    "arr"
   ]
  },
  {
   "cell_type": "code",
   "execution_count": 28,
   "id": "8bcf9c2d",
   "metadata": {},
   "outputs": [
    {
     "name": "stdout",
     "output_type": "stream",
     "text": [
      "Hello World\n",
      "Hello World\n",
      "Hello World\n"
     ]
    }
   ],
   "source": [
    "# cf. _ 언더바의 역할 : 반복을 위한 변수의 값을 무시하고자 할 때\n",
    "# for i 에서 i가 쓰이지 않고 반복 갯수를 세는데에만 활용 될 때\n",
    "for _ in range(3):\n",
    "    print(\"Hello World\")"
   ]
  },
  {
   "cell_type": "code",
   "execution_count": 39,
   "id": "4cca9611",
   "metadata": {},
   "outputs": [
    {
     "name": "stdout",
     "output_type": "stream",
     "text": [
      "[[0, 0, 0, 0], [0, 0, 0, 0], [0, 0, 0, 0]]\n",
      "[[0, 0, 5, 0], [0, 0, 5, 0], [0, 0, 5, 0]]\n"
     ]
    }
   ],
   "source": [
    "# [[0]*m]*n의 의미\n",
    "# n개의 [0]*m 리스트가 모두 동일한 객체에 대한 n개의 레퍼런스로 인식된다.  =============> 이 부분 이론 좀 더 알아보기!!!\n",
    "# test[0], test[1], test[2]가 모두 한 객체 [0, 0, 5, 0]에 대한 레퍼런스\n",
    "\n",
    "# 초기화 할 땐 모두 0이라 티가 안나지만\n",
    "test = [[0]*m]*n\n",
    "print(test)\n",
    "\n",
    "# \n",
    "test[1][2] = 5\n",
    "print(test)"
   ]
  },
  {
   "cell_type": "code",
   "execution_count": null,
   "id": "aaaf5e99",
   "metadata": {},
   "outputs": [],
   "source": []
  },
  {
   "cell_type": "code",
   "execution_count": null,
   "id": "cd66c00d",
   "metadata": {},
   "outputs": [],
   "source": []
  },
  {
   "cell_type": "code",
   "execution_count": null,
   "id": "ad3c0a96",
   "metadata": {},
   "outputs": [],
   "source": []
  },
  {
   "cell_type": "code",
   "execution_count": null,
   "id": "18294a03",
   "metadata": {},
   "outputs": [],
   "source": []
  },
  {
   "cell_type": "code",
   "execution_count": null,
   "id": "5613b734",
   "metadata": {},
   "outputs": [],
   "source": []
  },
  {
   "cell_type": "code",
   "execution_count": null,
   "id": "0d8138c7",
   "metadata": {},
   "outputs": [],
   "source": []
  },
  {
   "cell_type": "code",
   "execution_count": null,
   "id": "2827555d",
   "metadata": {},
   "outputs": [],
   "source": []
  }
 ],
 "metadata": {
  "kernelspec": {
   "display_name": "Python 3 (ipykernel)",
   "language": "python",
   "name": "python3"
  },
  "language_info": {
   "codemirror_mode": {
    "name": "ipython",
    "version": 3
   },
   "file_extension": ".py",
   "mimetype": "text/x-python",
   "name": "python",
   "nbconvert_exporter": "python",
   "pygments_lexer": "ipython3",
   "version": "3.10.9"
  }
 },
 "nbformat": 4,
 "nbformat_minor": 5
}
