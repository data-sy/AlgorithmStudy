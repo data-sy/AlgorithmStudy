{
 "cells": [
  {
   "cell_type": "markdown",
   "id": "396672b9",
   "metadata": {},
   "source": [
    "- 실제 개발 : 각 모듈을 클래스별로 구분하여 작성\n",
    "- 코딩 테스트용 코드 : 클래스 작성 x, 함수만으로 문제 풀이에 필요한 기능을 모듈화\n",
    "\n",
    "∴ 클래스 문법 제외"
   ]
  },
  {
   "cell_type": "markdown",
   "id": "24dd2a6e",
   "metadata": {},
   "source": [
    "# 1. 자료형"
   ]
  },
  {
   "cell_type": "markdown",
   "id": "d1b7cdb2",
   "metadata": {},
   "source": [
    "## 1) 수 자료형\n",
    "- 코테에서 다루는 알고리즘 문제는 입출력 데이터가 대부분 정수형\n",
    "- 실수형은 빈도 낮음"
   ]
  },
  {
   "cell_type": "markdown",
   "id": "383ab7bb",
   "metadata": {},
   "source": [
    "### 정수형"
   ]
  },
  {
   "cell_type": "markdown",
   "id": "1d6c75be",
   "metadata": {},
   "source": [
    "### 실수형"
   ]
  },
  {
   "cell_type": "code",
   "execution_count": 3,
   "id": "f9f67d6f",
   "metadata": {},
   "outputs": [
    {
     "name": "stdout",
     "output_type": "stream",
     "text": [
      "5.0\n",
      "-0.7\n"
     ]
    }
   ],
   "source": [
    "# 소수부, 정수부 0 생략 가능\n",
    "a = 5.\n",
    "print(a)\n",
    "b = -.7\n",
    "print(b)"
   ]
  },
  {
   "cell_type": "code",
   "execution_count": 5,
   "id": "3b716026",
   "metadata": {},
   "outputs": [
    {
     "name": "stdout",
     "output_type": "stream",
     "text": [
      "1000000000.0\n",
      "752.5\n",
      "3.952\n"
     ]
    }
   ],
   "source": [
    "# 유효숫자e지수 = 유효숫자*10^지수\n",
    "# 최단 경로 문제 : 무한(INF)을 표현할 때 사용\n",
    "\n",
    "a = 1e9      # 코테 : 10억\n",
    "print(a)\n",
    "\n",
    "b = 75.25e1\n",
    "print(b)\n",
    "c= 3952e-3\n",
    "print(c)"
   ]
  },
  {
   "cell_type": "code",
   "execution_count": 12,
   "id": "c2372a14",
   "metadata": {},
   "outputs": [
    {
     "name": "stdout",
     "output_type": "stream",
     "text": [
      "0.8999999999999999\n"
     ]
    }
   ],
   "source": [
    "# 컴퓨터는 실수를 정확하게 표현하지 못함\n",
    "# 2진수 체계이므로\n",
    "a = 0.3 + 0.6\n",
    "print(a)"
   ]
  },
  {
   "cell_type": "code",
   "execution_count": 13,
   "id": "22904507",
   "metadata": {},
   "outputs": [
    {
     "name": "stdout",
     "output_type": "stream",
     "text": [
      "0.9\n",
      "123.46\n"
     ]
    }
   ],
   "source": [
    "# 실수값 비교할 때는 round() 함수 사용\n",
    "# round() 함수 : round(실수, 소수 자리수) 반올림하는 함수\n",
    "\n",
    "print(round(a, 4))    # ★★★코테★★★ : 소수점 다섯 번째 자리에서 반올림한 결과가 같으면 정답 인정 조건\n",
    "\n",
    "b = round(123.456, 2)\n",
    "print(b)"
   ]
  },
  {
   "cell_type": "markdown",
   "id": "e19ea980",
   "metadata": {},
   "source": [
    "### 수 자료형의 연산\n",
    "- / : 나누기 연산자. 나눠진 결과 실수형으로 처리\n",
    "- // : 몫 연산자\n",
    "- % : 나머지 연산자\n",
    "- ** : 거듭제곱 연산자"
   ]
  },
  {
   "cell_type": "markdown",
   "id": "b2df86cc",
   "metadata": {},
   "source": [
    "## 2) 리스트 자료형\n",
    "- 내부적으로 배열Array을 채택\n",
    "- 연결 리스트 자료구조 기능 포함 : append(), remove() 등의 메서드 지원"
   ]
  },
  {
   "cell_type": "code",
   "execution_count": 14,
   "id": "3bbb7a6b",
   "metadata": {},
   "outputs": [
    {
     "name": "stdout",
     "output_type": "stream",
     "text": [
      "[0, 0, 0, 0, 0, 0, 0, 0, 0, 0]\n"
     ]
    }
   ],
   "source": [
    "# ★★★코테★★★ : 크기 N, 모든 값 0인 1차원 리스트 초기화\n",
    "n = 10\n",
    "a = [0]*n    # cf.원소별로 곱하려면 list는 for돌려야 해. -> 넘파이 라이브러리 간편\n",
    "print(a)"
   ]
  },
  {
   "cell_type": "code",
   "execution_count": 17,
   "id": "4fe71773",
   "metadata": {},
   "outputs": [
    {
     "data": {
      "text/plain": [
       "[5, 4, 3]"
      ]
     },
     "execution_count": 17,
     "metadata": {},
     "output_type": "execute_result"
    }
   ],
   "source": [
    "# 슬라이싱\n",
    "list = [1, 2, 3, 4, 5, 6]\n",
    "list[-2:-5:-1]"
   ]
  },
  {
   "cell_type": "markdown",
   "id": "ee794e02",
   "metadata": {},
   "source": [
    "### ㅇ 리스트 컴프리헨션 (List comprehension)\n",
    "- [표현식 for 항목 in 반복가능객체 if 조건문]\n",
    "- [표현식 for 항목1 in 반복가능객체1 if 조건문1 <br/>\n",
    "          for 항목2 in 반복가능객체2 if 조건문2<br/>\n",
    "        ...<br/>\n",
    "        for 항목n in 반복가능객체n if 조건문n]\n",
    "- 반복문을 통해 얻은 결과물로 list를 만들고 싶을 때 사용"
   ]
  },
  {
   "cell_type": "code",
   "execution_count": 1,
   "id": "37bf1ba6",
   "metadata": {},
   "outputs": [
    {
     "name": "stdout",
     "output_type": "stream",
     "text": [
      "[1, 3, 5, 7, 9, 11, 13, 15, 17, 19]\n",
      "[2, 4, 6, 8, 10, 12, 14, 16, 18, 20]\n",
      "[1, 4, 9, 16, 25, 36, 49, 64, 81]\n",
      "[2, 4, 6, 8, 10, 12, 14, 16, 18, 3, 6, 9, 12, 15, 18, 21, 24, 27, 4, 8, 12, 16, 20, 24, 28, 32, 36, 5, 10, 15, 20, 25, 30, 35, 40, 45, 6, 12, 18, 24, 30, 36, 42, 48, 54, 7, 14, 21, 28, 35, 42, 49, 56, 63, 8, 16, 24, 32, 40, 48, 56, 64, 72, 9, 18, 27, 36, 45, 54, 63, 72, 81]\n"
     ]
    }
   ],
   "source": [
    "# 리스트 컴프리헨션                 # 참고 : https://wikidocs.net/22805\n",
    "# [ ] 안에 조건문, 반복믄 가능\n",
    "\n",
    "# 0~19에서 홀수만\n",
    "arr1 = [i for i in range(20) if i%2 == 1]\n",
    "print(arr1)\n",
    "\n",
    "# 2의 배수 10개\n",
    "arr2 = [ 2*i for i in range(1, 10+1) ]\n",
    "print(arr2)\n",
    "\n",
    "# 1~9 제곱 값\n",
    "arr3 = [ i*i for i in range(1, 10)]\n",
    "print(arr3)\n",
    "\n",
    "# 구구단\n",
    "result = [x*y for x in range(2,10)\n",
    "          for y in range(1,10)]\n",
    "print(result)"
   ]
  },
  {
   "cell_type": "markdown",
   "id": "7f037bac",
   "metadata": {},
   "source": [
    "###  <font color=magenta> 포인트 </font>\n",
    "- 특정한 크기를 가지는 2차원 리스트를 초기화할 때에는 리스트 컴프리헨션 이용해야 함!"
   ]
  },
  {
   "cell_type": "code",
   "execution_count": 30,
   "id": "22046a96",
   "metadata": {},
   "outputs": [
    {
     "data": {
      "text/plain": [
       "[[0, 0, 0, 0], [0, 0, 0, 0], [0, 0, 0, 0]]"
      ]
     },
     "execution_count": 30,
     "metadata": {},
     "output_type": "execute_result"
    }
   ],
   "source": [
    "# ★★★코테★★★: N*M 크기의 2차원 리스트 초기화\n",
    "n=3\n",
    "m=4\n",
    "arr = [[0]*m for _ in range(n)]\n",
    "arr"
   ]
  },
  {
   "cell_type": "code",
   "execution_count": 28,
   "id": "8bcf9c2d",
   "metadata": {},
   "outputs": [
    {
     "name": "stdout",
     "output_type": "stream",
     "text": [
      "Hello World\n",
      "Hello World\n",
      "Hello World\n"
     ]
    }
   ],
   "source": [
    "# cf. _ 언더바의 역할 : 반복을 위한 변수의 값을 무시하고자 할 때\n",
    "# for i 에서 i가 쓰이지 않고 반복 갯수를 세는데에만 활용 될 때\n",
    "for _ in range(3):\n",
    "    print(\"Hello World\")"
   ]
  },
  {
   "cell_type": "code",
   "execution_count": 39,
   "id": "4cca9611",
   "metadata": {},
   "outputs": [
    {
     "name": "stdout",
     "output_type": "stream",
     "text": [
      "[[0, 0, 0, 0], [0, 0, 0, 0], [0, 0, 0, 0]]\n",
      "[[0, 0, 5, 0], [0, 0, 5, 0], [0, 0, 5, 0]]\n"
     ]
    }
   ],
   "source": [
    "# [[0]*m]*n의 의미\n",
    "# n개의 [0]*m 리스트가 모두 동일한 객체에 대한 n개의 레퍼런스로 인식된다.  =============> 이 부분 이론 좀 더 알아보기!!!\n",
    "# test[0], test[1], test[2]가 모두 한 객체 [0, 0, 5, 0]에 대한 레퍼런스\n",
    "n=3\n",
    "m=4\n",
    "\n",
    "# 초기화 할 땐 모두 0이라 티가 안나지만\n",
    "test = [[0]*m]*n\n",
    "print(test)\n",
    "\n",
    "# \n",
    "test[1][2] = 5\n",
    "print(test)"
   ]
  },
  {
   "cell_type": "markdown",
   "id": "29cfc535",
   "metadata": {},
   "source": [
    "### 리스트 메서드\n",
    " ★★★코테★★★ : 눈여겨 볼 메서드\n",
    "- append() : 맨 뒤에 추가 , O(1)\n",
    "- Insert(삽입할 위치 인덱스, 삽입할 값) : 원하는 위치에 추가 , O(N)  => insert를 남발하면 시간 초과\n",
    "- remove(삭제할 값) : 여러 개이면 하나 삭제 , O(N)"
   ]
  },
  {
   "cell_type": "code",
   "execution_count": 1,
   "id": "cd66c00d",
   "metadata": {},
   "outputs": [
    {
     "name": "stdout",
     "output_type": "stream",
     "text": [
      "[1, 2, 4]\n"
     ]
    }
   ],
   "source": [
    "# 특정한 값 모두 제거\n",
    "list = [1, 2, 3, 4, 5, 5, 5]\n",
    "remove_set = {3, 5}   # 제거할 값들\n",
    "\n",
    "# remove_set에 포함되지 않은 값만 저장\n",
    "result = [i for i in list if i not in remove_set]   # list에 포함된 원소를 하나씩 확인\n",
    "print(result)"
   ]
  },
  {
   "cell_type": "markdown",
   "id": "577aa85b",
   "metadata": {},
   "source": [
    "## 3)  문자열 자료형\n",
    "- 내부적으로 리스트와 같이 처리됨 => 인덱싱, 슬라이싱 가능"
   ]
  },
  {
   "cell_type": "markdown",
   "id": "1edad04a",
   "metadata": {},
   "source": [
    "### 문자열 초기화"
   ]
  },
  {
   "cell_type": "markdown",
   "id": "4d796f27",
   "metadata": {},
   "source": [
    "### 문자열 연산\n",
    "- \\+ : 문자열 연결\n",
    "- \\* : 문자열 반복"
   ]
  },
  {
   "cell_type": "markdown",
   "id": "7db7977b",
   "metadata": {},
   "source": [
    "## 4)  튜플 자료형\n",
    "- ★★★코테★★★ : 그래프 알고리즘 구현에서 자주 사용   예) 다익스트라 최단 경로 알고리즘\n",
    "- 우선순위 큐에 한 번 들어간 값은 변경 X => 튜플로 구성\n",
    "- (알고리즘 구현 과정에서 변경하면 안 되는 값이 변경되고 있지는 않은지 체크 가능)\n",
    "- 사용 관례 : (비용, 노드 번호)"
   ]
  },
  {
   "cell_type": "code",
   "execution_count": 3,
   "id": "b6a755db",
   "metadata": {},
   "outputs": [
    {
     "ename": "TypeError",
     "evalue": "'tuple' object does not support item assignment",
     "output_type": "error",
     "traceback": [
      "\u001b[1;31m---------------------------------------------------------------------------\u001b[0m",
      "\u001b[1;31mTypeError\u001b[0m                                 Traceback (most recent call last)",
      "Cell \u001b[1;32mIn[3], line 3\u001b[0m\n\u001b[0;32m      1\u001b[0m \u001b[38;5;66;03m# 한 번 선언된 값 변경 불가능\u001b[39;00m\n\u001b[0;32m      2\u001b[0m \u001b[38;5;28mtuple\u001b[39m \u001b[38;5;241m=\u001b[39m (\u001b[38;5;241m1\u001b[39m, \u001b[38;5;241m2\u001b[39m, \u001b[38;5;241m3\u001b[39m, \u001b[38;5;241m4\u001b[39m)\n\u001b[1;32m----> 3\u001b[0m \u001b[38;5;28mtuple\u001b[39m[\u001b[38;5;241m2\u001b[39m] \u001b[38;5;241m=\u001b[39m \u001b[38;5;241m5\u001b[39m\n",
      "\u001b[1;31mTypeError\u001b[0m: 'tuple' object does not support item assignment"
     ]
    }
   ],
   "source": [
    "# 한 번 선언된 값 변경 불가능\n",
    "tuple = (1, 2, 3, 4)\n",
    "tuple[2] = 5\n",
    "# item assignment : 원소의 대입 => 즉, 대입연산자(=)를 사용하여 값을 변경할 수 없다."
   ]
  },
  {
   "cell_type": "markdown",
   "id": "e2eca4ff",
   "metadata": {},
   "source": [
    "## 5)  사전 자료형\n",
    "- 내부적으로 해시 테이블 (Hash Table) 이용 => 검색, 수정 O(1)   즉, 빠르게 동작\n",
    "- 변경 불가능한 자료형 (수, 문자열, 튜플)을 Key로 사용"
   ]
  },
  {
   "cell_type": "code",
   "execution_count": 4,
   "id": "c91c26b0",
   "metadata": {},
   "outputs": [
    {
     "name": "stdout",
     "output_type": "stream",
     "text": [
      "'사과'를 키로 가지는 데이터 존재\n"
     ]
    }
   ],
   "source": [
    "# ★★★코테★★★ : 검색이 빠름\n",
    "data = dict()\n",
    "data['사과'] = 'Apple'\n",
    "data['바나나'] = 'Banana'\n",
    "data['코코넛'] = 'Coconut'\n",
    "\n",
    "if '사과' in data :                              # list는 원소 순서대로 다 뒤지지만 dictionary는 검색 O(1)\n",
    "    print(\"'사과'를 키로 가지는 데이터 존재\")"
   ]
  },
  {
   "cell_type": "markdown",
   "id": "d2ced9c3",
   "metadata": {},
   "source": [
    "### 사전 자료형 관련 함수"
   ]
  },
  {
   "cell_type": "code",
   "execution_count": 5,
   "id": "be7a7437",
   "metadata": {},
   "outputs": [
    {
     "name": "stdout",
     "output_type": "stream",
     "text": [
      "Apple\n",
      "Banana\n",
      "Coconut\n"
     ]
    }
   ],
   "source": [
    "# keys() : 키 리스트로\n",
    "# values() : 값 리스트로\n",
    "\n",
    "# 키에 따른 값 출력\n",
    "for key in data.keys() :\n",
    "    print(data[key])"
   ]
  },
  {
   "cell_type": "markdown",
   "id": "33299768",
   "metadata": {},
   "source": [
    "## 6)  집합 자료형\n",
    "- 중복 허용 x, 순서 x\n",
    "- 검색 O(1)\n",
    "- 특정 데이터가 이미 등장한 적이 있는지 여부 체크할 때 효과적"
   ]
  },
  {
   "cell_type": "markdown",
   "id": "40374dd3",
   "metadata": {},
   "source": [
    "### 집합 자료형의 연산\n",
    "- | : 합집합\n",
    "- & : 교집합\n",
    "- \\- : 차집합"
   ]
  },
  {
   "cell_type": "markdown",
   "id": "9c65103d",
   "metadata": {},
   "source": [
    "### 집합 자료형 관련 함수\n",
    "- add() : 추가    => O(1)\n",
    "- update(리스트) : 여러 개 추가\n",
    "- remove(삭제할 값) : 삭제    => O(1)"
   ]
  },
  {
   "cell_type": "markdown",
   "id": "9bd05fe4",
   "metadata": {},
   "source": [
    "## +) iterable 객체\n",
    "- 반복 가능한 객체\n",
    "- 리스트, 사전, 튜플"
   ]
  },
  {
   "cell_type": "markdown",
   "id": "07dbf6eb",
   "metadata": {},
   "source": [
    "# 2. 조건문\n",
    "- if, elif, else\n",
    "- 들여쓰기는 탭 보다는 스페이스 바 4번으로\n",
    "- True, False"
   ]
  },
  {
   "cell_type": "markdown",
   "id": "23f60e00",
   "metadata": {},
   "source": [
    "### 비교 연산자"
   ]
  },
  {
   "cell_type": "markdown",
   "id": "887e2b38",
   "metadata": {},
   "source": [
    "### 논리 연산자"
   ]
  },
  {
   "cell_type": "code",
   "execution_count": 1,
   "id": "0aa51f29",
   "metadata": {},
   "outputs": [
    {
     "name": "stdout",
     "output_type": "stream",
     "text": [
      "False\n",
      "True\n",
      "False\n"
     ]
    }
   ],
   "source": [
    "x = True\n",
    "y = False\n",
    "print(x and y)\n",
    "print(x or y)\n",
    "print(not x)"
   ]
  },
  {
   "cell_type": "markdown",
   "id": "6e958e26",
   "metadata": {},
   "source": [
    "### 기타 연산자\n",
    "- in, not in 리스트, 튜플, 문자열, 사전\n",
    "- pass : ★★★코테★★★ 조건문의 형태만 만들어두고 처리하는 부분 비워둘 때 사용\n",
    "- 조건부 표현식\n",
    "- 80<=x<90 사용 가능"
   ]
  },
  {
   "cell_type": "code",
   "execution_count": 3,
   "id": "cdf56f57",
   "metadata": {},
   "outputs": [
    {
     "name": "stdout",
     "output_type": "stream",
     "text": [
      "True\n",
      "False\n"
     ]
    }
   ],
   "source": [
    "# x in 리스트 : 리스트 안에 x가 있을 때 True 반환\n",
    "print(1 in [1,3,4])\n",
    "print(2 in [1,3,4])"
   ]
  },
  {
   "cell_type": "code",
   "execution_count": 4,
   "id": "a933da64",
   "metadata": {},
   "outputs": [
    {
     "name": "stdout",
     "output_type": "stream",
     "text": [
      "프로그램을 종료합니다.\n"
     ]
    }
   ],
   "source": [
    "# pass\n",
    "score = 86\n",
    "\n",
    "if score >= 80 :\n",
    "    pass     # 나중에 작성할 소스코드\n",
    "else :\n",
    "    print(\"성적이 80점 미만입니다.\")\n",
    "    \n",
    "print(\"프로그램을 종료합니다.\")"
   ]
  },
  {
   "cell_type": "code",
   "execution_count": 5,
   "id": "bfee6d69",
   "metadata": {},
   "outputs": [
    {
     "name": "stdout",
     "output_type": "stream",
     "text": [
      "Success\n"
     ]
    }
   ],
   "source": [
    "# 실행될 소스코드가 한 줄인 경우 간략하게 표현\n",
    "score = 85\n",
    "\n",
    "if score>=80 : result = \"Success\"\n",
    "else : result = \"Fail\"\n",
    "    \n",
    "print(result)"
   ]
  },
  {
   "cell_type": "code",
   "execution_count": 6,
   "id": "d2a82c99",
   "metadata": {},
   "outputs": [
    {
     "name": "stdout",
     "output_type": "stream",
     "text": [
      "Success\n"
     ]
    }
   ],
   "source": [
    "# 조건부 표현식으로 더 간결하게\n",
    "\n",
    "score = 85\n",
    "\n",
    "result = \"Success\" if score>=80 else \"Fail\"\n",
    "\n",
    "print(result)"
   ]
  },
  {
   "cell_type": "code",
   "execution_count": 7,
   "id": "2c09b055",
   "metadata": {},
   "outputs": [
    {
     "name": "stdout",
     "output_type": "stream",
     "text": [
      "[1, 2, 4]\n"
     ]
    }
   ],
   "source": [
    "# 조건부 표현식 : 리스트에 있는 원소의 값 변경해서 또 다른 리스트 만들 때 사용 (앞에서 했음. remove_set 이용했던 예제)\n",
    "list = [1, 2, 3, 4, 5, 5, 5]\n",
    "remove_set = {3, 5} \n",
    "\n",
    "result = [i for i in list if i not in remove_set]\n",
    "print(result)"
   ]
  },
  {
   "cell_type": "markdown",
   "id": "a0f4e922",
   "metadata": {},
   "source": [
    "# 3. 반복문\n",
    "- continue : 반복문의 처음으로 돌아감"
   ]
  },
  {
   "cell_type": "markdown",
   "id": "377bf9f0",
   "metadata": {},
   "source": [
    "## 1) while문"
   ]
  },
  {
   "cell_type": "markdown",
   "id": "a17f1f1d",
   "metadata": {},
   "source": [
    "## 2) For문\n",
    "- for 변수 in 데이터 : <br/>\n",
    "실행할 소스코드\n",
    "- 데이터 : 리스트, 튜플, 문자열, 사전, 집합\n",
    "- 모든 원소를 차례대로 하나씩 방문\n",
    "- range(시작, 끝+1, 증가)"
   ]
  },
  {
   "cell_type": "code",
   "execution_count": 10,
   "id": "f1888742",
   "metadata": {},
   "outputs": [
    {
     "name": "stdout",
     "output_type": "stream",
     "text": [
      "a\n",
      "b\n",
      "c\n",
      "b\n",
      "a\n"
     ]
    }
   ],
   "source": [
    "# 실험\n",
    "dic = { 'a' : 1, 'b' : 2 }\n",
    "sett = {'a', 'b', 'c'}\n",
    "\n",
    "for i in dic :   # 사전으로 하면 key가 나오고\n",
    "    print(i)\n",
    "for i in sett :  # 집합으로 하면 순서 상관 없이 나옴\n",
    "    print(i)"
   ]
  },
  {
   "cell_type": "code",
   "execution_count": 12,
   "id": "17c25e36",
   "metadata": {},
   "outputs": [
    {
     "name": "stdout",
     "output_type": "stream",
     "text": [
      "1번 학생은 합격입니다.\n",
      "5번 학생은 합격입니다.\n"
     ]
    }
   ],
   "source": [
    "# continue\n",
    "# 2,4번 학생은 블랙리스트. 점수가 높아도 합격하지 못하도록\n",
    "\n",
    "scores = [90, 85, 77, 65, 97]\n",
    "cheating_list = {2, 4}\n",
    "\n",
    "for i in range(5):\n",
    "    if i+1 in cheating_list:\n",
    "        continue\n",
    "    if scores[i]>=80:\n",
    "        print(f\"{i+1}번 학생은 합격입니다.\")"
   ]
  },
  {
   "cell_type": "markdown",
   "id": "9b3a12b2",
   "metadata": {},
   "source": [
    "### 중첩된 반복문\n",
    "- ★★★코테★★★ : 플로이드 워셜 알고리즘, 다이나믹 프로그래밍 등"
   ]
  },
  {
   "cell_type": "markdown",
   "id": "a6e965d9",
   "metadata": {},
   "source": [
    "# 4. 함수\n",
    "- ★★★코테★★★ : 테스트 케이스만큼 특정 알고리즘 수행 결과를 반복적으로 출력하도록 요구하는 문제 => 문제 푸는 코드를 함수화"
   ]
  },
  {
   "cell_type": "code",
   "execution_count": 13,
   "id": "e54d744e",
   "metadata": {},
   "outputs": [],
   "source": [
    "# 함수 형태\n",
    "# 매개변수, return은 없을 수 있음\n",
    "\n",
    "def 함수명(매개변수):\n",
    "\n",
    "    #실행할 소스코드\n",
    "\n",
    "    return 반환값"
   ]
  },
  {
   "cell_type": "markdown",
   "id": "d1b308d6",
   "metadata": {},
   "source": [
    "### global 키워드\n",
    "- 함수 안에서의 지역변수 x, 바깥에 선언된 변수를 바로 참조"
   ]
  },
  {
   "cell_type": "code",
   "execution_count": 1,
   "id": "89ce3f4d",
   "metadata": {},
   "outputs": [
    {
     "name": "stdout",
     "output_type": "stream",
     "text": [
      "10\n"
     ]
    }
   ],
   "source": [
    "# global\n",
    "a = 0\n",
    "\n",
    "def func():\n",
    "    global a\n",
    "    a+=1\n",
    "    \n",
    "for i in range(10):\n",
    "    func()\n",
    "    \n",
    "print(a)"
   ]
  },
  {
   "cell_type": "markdown",
   "id": "7895130c",
   "metadata": {},
   "source": [
    "### 람다 표현식\n",
    "- 함수를 한 줄에 작성\n",
    "- ★★★코테★★★ 정렬 라이브러리 사용 시, 정렬기준(key)을 설정할 때 자주 사용"
   ]
  },
  {
   "cell_type": "code",
   "execution_count": 3,
   "id": "1c5c1895",
   "metadata": {},
   "outputs": [
    {
     "name": "stdout",
     "output_type": "stream",
     "text": [
      "10\n"
     ]
    }
   ],
   "source": [
    "# 람다 표현식\n",
    "\n",
    "print((lambda a, b:a+b)(3, 7))"
   ]
  },
  {
   "cell_type": "markdown",
   "id": "7f805dec",
   "metadata": {},
   "source": [
    "# 5. 입출력"
   ]
  },
  {
   "cell_type": "markdown",
   "id": "b84af174",
   "metadata": {},
   "source": [
    "### 입력"
   ]
  },
  {
   "cell_type": "markdown",
   "id": "fca616f7",
   "metadata": {},
   "source": [
    "★★★코테★★★\n",
    "- 보통 첫 줄 : 데이터 개수, 둘 째줄 : 처리할 데이터\n",
    "- 공백으로 입력받은 여러 데이터를 리스트로 : list(map(int, input().split()))"
   ]
  },
  {
   "cell_type": "code",
   "execution_count": null,
   "id": "1c150ad0",
   "metadata": {},
   "outputs": [],
   "source": [
    "# 리스트로 \n",
    "data = list(map(int, input().split()))\n",
    "\n",
    "# 그냥 각 변수로 바로\n",
    "n, m, k = map(int, input().split()))"
   ]
  },
  {
   "cell_type": "markdown",
   "id": "7591ae24",
   "metadata": {},
   "source": [
    "★★★코테★★★ 입력 빠르게 받아야 할 때 sys.stdin.readline()\n",
    "- 예) 정렬, 이진 탐색, 최단 경로, 1000만개 넘는 라인이 입력되는 경우\n",
    "- input()으로는 무리\n",
    "- sys 라이브러리 : sys.stdin.readline()\n",
    "  - readline()은 입력 후 엔터기호가 줄바꿈 기호로 입력되므로\n",
    "  - rstrip() 사용해서 지워주자\n",
    "    - int로 바꿀거면 신경 쓸 필요 없어"
   ]
  },
  {
   "cell_type": "code",
   "execution_count": 8,
   "id": "01d33074",
   "metadata": {},
   "outputs": [
    {
     "name": "stdout",
     "output_type": "stream",
     "text": [
      "\n"
     ]
    }
   ],
   "source": [
    "import sys\n",
    "\n",
    "data = sys.stdin.readline().rstrip()\n",
    "print(data)"
   ]
  },
  {
   "cell_type": "code",
   "execution_count": 9,
   "id": "f6150848",
   "metadata": {},
   "outputs": [
    {
     "ename": "ValueError",
     "evalue": "invalid literal for int() with base 10: ''",
     "output_type": "error",
     "traceback": [
      "\u001b[1;31m---------------------------------------------------------------------------\u001b[0m",
      "\u001b[1;31mValueError\u001b[0m                                Traceback (most recent call last)",
      "Cell \u001b[1;32mIn[9], line 3\u001b[0m\n\u001b[0;32m      1\u001b[0m \u001b[38;5;28;01mimport\u001b[39;00m \u001b[38;5;21;01msys\u001b[39;00m\n\u001b[1;32m----> 3\u001b[0m a \u001b[38;5;241m=\u001b[39m \u001b[38;5;28;43mint\u001b[39;49m\u001b[43m(\u001b[49m\u001b[43msys\u001b[49m\u001b[38;5;241;43m.\u001b[39;49m\u001b[43mstdin\u001b[49m\u001b[38;5;241;43m.\u001b[39;49m\u001b[43mreadline\u001b[49m\u001b[43m(\u001b[49m\u001b[43m)\u001b[49m\u001b[43m)\u001b[49m\n\u001b[0;32m      4\u001b[0m \u001b[38;5;28mprint\u001b[39m(a)\n",
      "\u001b[1;31mValueError\u001b[0m: invalid literal for int() with base 10: ''"
     ]
    }
   ],
   "source": [
    "import sys\n",
    "\n",
    "a = int(sys.stdin.readline())\n",
    "print(a)"
   ]
  },
  {
   "cell_type": "markdown",
   "id": "397b6f42",
   "metadata": {},
   "source": [
    "### cf. 작동이 안 되서 검색해 봤더니 코랩이나 주피터노트북에서는 sys.stdin.readline()가 동작 X\n",
    "- vscode에서 실습함\n",
    "- 공백은 split(), 줄바꿈은 rstrip() 처리\n",
    "- 1 문자\n",
    "  - 1-1 : 공백일 때 : split()\n",
    "    - arr_str1 = sys.stdin.readline().split()\n",
    "  - 1-2 : 줄바꿈일 때 : strip() (입력 개수도 같이 정해주겠지\n",
    "    - n = int(sys.stdin.readline())  (데이터 개수)\n",
    "    - arr_str2 = [sys.stdin.readline().rstrip() for _ in range(n)]\n",
    "- 2 숫자\n",
    "  - 2-1 : 공백일 때 : list로 바꾸는 것 까먹지 말자!  **가장 자주 사용될 상황**\n",
    "    - a,b,c = map(int,sys.stdin.readline().split()) \n",
    "    - arr_num1 = list(map(int,sys.stdin.readline().split()))         \n",
    "  - 2-2 : 줄바꿈일 때 : strip 안 써도 돼\n",
    "    - n = int(sys.stdin.readline())  (데이터 개수)\n",
    "    - arr_num2 = list(map(int, [sys.stdin.readline() for _ in range(n)]))           "
   ]
  },
  {
   "cell_type": "markdown",
   "id": "79a725b1",
   "metadata": {},
   "source": [
    "### 출력"
   ]
  },
  {
   "cell_type": "code",
   "execution_count": null,
   "id": "2c2a1d20",
   "metadata": {},
   "outputs": [
    {
     "name": "stdout",
     "output_type": "stream",
     "text": [
      "hi ~\n",
      "hi~\n"
     ]
    }
   ],
   "source": [
    "a='hi'\n",
    "b='~'\n",
    "print(a, b) #컴마는 공백 생겨\n",
    "print(f'{a}{b}')"
   ]
  },
  {
   "cell_type": "markdown",
   "id": "451fd26c",
   "metadata": {},
   "source": [
    "# 6. 주요 라이브러리\n",
    "- ★★★코테★★★ : 수행 시간 비효율적으로 증가할 수 있으므로 적재적소에 사용햐기\n",
    "- 대부분 표준 라이브러리 사용할 수 있도록 허용\n",
    "- 파이썬 표준 라이브러리 : https://docs.python.org/ko/3/library/index.html"
   ]
  },
  {
   "cell_type": "markdown",
   "id": "fb8eb889",
   "metadata": {},
   "source": [
    "★★★코테★★★ 6개 정도 \n",
    "- 내장 함수 : print(), input(), sorted()\n",
    "- itertools : 반복되는 형태의 데이터 처리, 순열과 조합 라이브러리 제공\n",
    "- heapq : 힙(Heap) 기능 제공, 우선순위 큐\n",
    "- bisect : 이진탐색(Binary Search)\n",
    "- colletions : 덱(deque), 카운터(Counter) 등\n",
    "- math : 팩토리얼, 제곱근, 최대공약수(GCD), 삼각함수, 파이(pi) 등"
   ]
  },
  {
   "cell_type": "markdown",
   "id": "dafdc337",
   "metadata": {},
   "source": [
    "### cf) lambda 매개변수 : 표현식\n",
    "- 출처 : https://wikidocs.net/64\n",
    "- 사용법\n",
    "  - map(람다함수, 리스트) : 리스트로부터 원소를 하나씩 꺼내서 함수를 적용시킬 수 있음\n",
    "  - reduce(람다함수, 시퀀스(문자열, 리스트, 튜플)) : 원소들을 누적적으로 함수에 적용 (from functools import reduce 임포트 필요)\n",
    "    - 여기서 집계 함수(여기선 람다함수)는 두 개의 인자를 받아야 한다.\n",
    "    - 첫번째 인자 : 누적자(accumulator), 두번째 인자 : 현재값(current value)이 넘어오게 된다.\n",
    "    - 누적자는 함수 실행의 시작부터 끝까지 계속해서 재사용되는 값이고, 현재값은 루프를 돌면서 계속해서 바뀌는 값이다.\n",
    "  - filter(람다함수, 리스트) : 함수를 적용시켜서 결과가 참인 값들만 새로운 리스트로 반환"
   ]
  },
  {
   "cell_type": "code",
   "execution_count": 7,
   "id": "a2a98da7",
   "metadata": {},
   "outputs": [
    {
     "data": {
      "text/plain": [
       "3"
      ]
     },
     "execution_count": 7,
     "metadata": {},
     "output_type": "execute_result"
    }
   ],
   "source": [
    "# lambda\n",
    "(lambda a, b : a+b)(1, 2)"
   ]
  },
  {
   "cell_type": "code",
   "execution_count": 9,
   "id": "e4bd1031",
   "metadata": {},
   "outputs": [
    {
     "data": {
      "text/plain": [
       "[0, 1, 4, 9, 16]"
      ]
     },
     "execution_count": 9,
     "metadata": {},
     "output_type": "execute_result"
    }
   ],
   "source": [
    "# map(람다함수, 리스트)\n",
    "# 리스트 원소 전체에 제곱 한 방에 가능해져!!!!!!        (이걸 알기 전에는 포문 돌리거나 넘파이 사용)\n",
    "list(map(lambda x:x**2, range(5)))"
   ]
  },
  {
   "cell_type": "code",
   "execution_count": 11,
   "id": "0b50fe0e",
   "metadata": {
    "scrolled": true
   },
   "outputs": [
    {
     "data": {
      "text/plain": [
       "120"
      ]
     },
     "execution_count": 11,
     "metadata": {},
     "output_type": "execute_result"
    }
   ],
   "source": [
    "# reduce(람다함수, 시퀀스(문자열, 리스트, 튜플))\n",
    "# 리스트 원소 전체 곱하기 가능                          (이걸 알기 전에는 포문 돌려야 헀어)\n",
    "from functools import reduce\n",
    "reduce(lambda x, y:x*y, [1, 2, 3, 4, 5])"
   ]
  },
  {
   "cell_type": "code",
   "execution_count": 13,
   "id": "f84a0129",
   "metadata": {},
   "outputs": [
    {
     "name": "stdout",
     "output_type": "stream",
     "text": [
      "[0, 1, 2, 3, 4]\n",
      "[1, 3, 5, 7, 9]\n"
     ]
    }
   ],
   "source": [
    "# filter(람다함수, 리스트)\n",
    "# 참(거짓)인 애들만 모으려고 할 때                      (이걸 알기 전에는 for문 + if문 돌려야 했어)\n",
    "print(list(filter(lambda x: x < 5, range(10))))\n",
    "# 홀수만 모으려고 할 때\n",
    "print(list(filter(lambda x: x % 2, range(10))))"
   ]
  },
  {
   "cell_type": "markdown",
   "id": "62cf0418",
   "metadata": {},
   "source": [
    "### 내장함수\n",
    "- import 없이 사용 가능\n",
    "- sum() : iterable(리스트, 사전, 튜플) 객체에 대해 원소의 합 반환\n",
    "- min(), max() : 파라미터 2개 이상 중 가장 작은/큰 값 반환\n",
    "- eval() : 문자열 형식으로 들어온 수식을 계산\n",
    "- sorted() : iterable객체 정렬\n",
    "  - 리스트의 원소로 리스트, 튜플이 존재할 때 특정 기준에 따라 정렬 가능\n",
    "    - key 속성으로 정렬 기준 명시 가능\n",
    "  - reverse 속성으로 뒤집기 가능"
   ]
  },
  {
   "cell_type": "code",
   "execution_count": 3,
   "id": "74f68e89",
   "metadata": {},
   "outputs": [
    {
     "name": "stdout",
     "output_type": "stream",
     "text": [
      "6\n",
      "6\n",
      "6\n"
     ]
    }
   ],
   "source": [
    "# sum()\n",
    "print(sum([1, 2, 3]))\n",
    "print(sum((1, 2, 3)))\n",
    "print(sum({1, 2, 3}))"
   ]
  },
  {
   "cell_type": "code",
   "execution_count": 4,
   "id": "b4110db4",
   "metadata": {},
   "outputs": [
    {
     "name": "stdout",
     "output_type": "stream",
     "text": [
      "-6\n"
     ]
    }
   ],
   "source": [
    "# min()\n",
    "print(min(3, 76, 1, 0, -6))"
   ]
  },
  {
   "cell_type": "code",
   "execution_count": 5,
   "id": "041fbba6",
   "metadata": {},
   "outputs": [
    {
     "name": "stdout",
     "output_type": "stream",
     "text": [
      "18\n"
     ]
    }
   ],
   "source": [
    "# eval()\n",
    "print((eval(\"(3+6)*2\")))"
   ]
  },
  {
   "cell_type": "code",
   "execution_count": 15,
   "id": "62d6acc2",
   "metadata": {},
   "outputs": [
    {
     "name": "stdout",
     "output_type": "stream",
     "text": [
      "[('이순신', 75), ('홍길동', 35), ('유관순', 20)]\n"
     ]
    }
   ],
   "source": [
    "# 정렬 기준 명시\n",
    "# 리스트의 원소로 튜플이 존재할 때\n",
    "arr = [('홍길동', 35), ('이순신', 75), ('유관순', 20)]\n",
    "result = sorted(arr, key = lambda x:x[1], reverse = True)  # 각 원소의 인덱스 1번째 값이 key\n",
    "print(result)"
   ]
  },
  {
   "cell_type": "markdown",
   "id": "de5ec224",
   "metadata": {},
   "source": [
    "### itertools\n",
    "- 반복되는 데이터 처리\n",
    "- 순열 : permutaions(iterable 객체, r) : iterable 객체에서 r개를 뽑아 나열하는 모든 경우\n",
    "- 조합 : combinations(iterable 객체, r) : iterable 객체에서 r개를 뽑아 순서 없이 나열하는 모든 경우\n",
    "- 중복순열 : product(iterable 객체, repeat=r) : iterable 객체에서 중복 허용하여 r개를 뽑아 나열하는 모든 경우\n",
    "- 중복조합 : combinations_with_replacement(iterable 객체, r) : iterable 객체에서 중복 허용하여 r개를 뽑아 순서 없이 나열하는 모든 경우"
   ]
  },
  {
   "cell_type": "code",
   "execution_count": 17,
   "id": "22bf6f7d",
   "metadata": {},
   "outputs": [
    {
     "name": "stdout",
     "output_type": "stream",
     "text": [
      "[('A', 'B', 'C'), ('A', 'C', 'B'), ('B', 'A', 'C'), ('B', 'C', 'A'), ('C', 'A', 'B'), ('C', 'B', 'A')]\n"
     ]
    }
   ],
   "source": [
    "from itertools import permutations\n",
    "\n",
    "data = ['A', 'B', 'C']\n",
    "result = list(permutations(data, 3))\n",
    "print(result)"
   ]
  },
  {
   "cell_type": "code",
   "execution_count": 19,
   "id": "f4a3408e",
   "metadata": {},
   "outputs": [
    {
     "name": "stdout",
     "output_type": "stream",
     "text": [
      "[('A', 'B'), ('A', 'C'), ('B', 'C')]\n"
     ]
    }
   ],
   "source": [
    "from itertools import combinations\n",
    "\n",
    "data = ['A', 'B', 'C']\n",
    "result = list(combinations(data, 2))\n",
    "print(result)"
   ]
  },
  {
   "cell_type": "code",
   "execution_count": 22,
   "id": "c96e506a",
   "metadata": {},
   "outputs": [
    {
     "name": "stdout",
     "output_type": "stream",
     "text": [
      "[('A', 'A', 'A'), ('A', 'A', 'B'), ('A', 'A', 'C'), ('A', 'B', 'A'), ('A', 'B', 'B'), ('A', 'B', 'C'), ('A', 'C', 'A'), ('A', 'C', 'B'), ('A', 'C', 'C'), ('B', 'A', 'A'), ('B', 'A', 'B'), ('B', 'A', 'C'), ('B', 'B', 'A'), ('B', 'B', 'B'), ('B', 'B', 'C'), ('B', 'C', 'A'), ('B', 'C', 'B'), ('B', 'C', 'C'), ('C', 'A', 'A'), ('C', 'A', 'B'), ('C', 'A', 'C'), ('C', 'B', 'A'), ('C', 'B', 'B'), ('C', 'B', 'C'), ('C', 'C', 'A'), ('C', 'C', 'B'), ('C', 'C', 'C')]\n"
     ]
    }
   ],
   "source": [
    "from itertools import product\n",
    "\n",
    "data = ['A', 'B', 'C']\n",
    "result = list(product(data, repeat = 3))\n",
    "print(result)"
   ]
  },
  {
   "cell_type": "code",
   "execution_count": 23,
   "id": "d7e6e746",
   "metadata": {},
   "outputs": [
    {
     "name": "stdout",
     "output_type": "stream",
     "text": [
      "[('A', 'A'), ('A', 'B'), ('A', 'C'), ('B', 'B'), ('B', 'C'), ('C', 'C')]\n"
     ]
    }
   ],
   "source": [
    "from itertools import combinations_with_replacement\n",
    "\n",
    "data = ['A', 'B', 'C']\n",
    "result = list(combinations_with_replacement(data, 2))\n",
    "print(result)"
   ]
  },
  {
   "cell_type": "markdown",
   "id": "279c52d2",
   "metadata": {},
   "source": [
    "### heapq\n",
    "- 우선순위 큐 : 다익스트라 최단 경로 알고리즘 등\n",
    "- PriorityQueue 보다 빨라\n",
    "- 원소를 힙에 넣었다 빼는 것만으로 오름차순 정렬 가능 : 시간복잡도 O(NlogN) (파이썬의 힙은 최소 힙으로 구성되어 있으므로)\n",
    "- heapq.heappush(힙 리스트, 값) : 힙에 원소 삽입\n",
    "- heapq.heappop(힙 리스트)) : 힙의 원소 꺼내기"
   ]
  },
  {
   "cell_type": "code",
   "execution_count": 26,
   "id": "439c8e2a",
   "metadata": {},
   "outputs": [
    {
     "name": "stdout",
     "output_type": "stream",
     "text": [
      "[1, 1, 4, 5, 6, 7, 8, 9]\n"
     ]
    }
   ],
   "source": [
    "import heapq\n",
    "\n",
    "def heapsort(iterable):\n",
    "    h = []\n",
    "    result = []\n",
    "    # 힙에 원소 삽입\n",
    "    for value in iterable:\n",
    "        heapq.heappush(h, value)\n",
    "    # 원소 꺼내서 리스트에 담기\n",
    "    for _ in range(len(h)):\n",
    "        result.append(heapq.heappop(h))\n",
    "    return result\n",
    "\n",
    "result = heapsort([4, 6, 5, 7, 1, 1, 8, 9])\n",
    "print(result)"
   ]
  },
  {
   "cell_type": "code",
   "execution_count": 27,
   "id": "396ce38b",
   "metadata": {},
   "outputs": [
    {
     "name": "stdout",
     "output_type": "stream",
     "text": [
      "[9, 8, 7, 6, 5, 4, 1, 1]\n"
     ]
    }
   ],
   "source": [
    "# 내림차순 정렬 : 최대힙 구현할 때는 원소의 부호 임시로 변경\n",
    "import heapq\n",
    "\n",
    "def heapsort(iterable):\n",
    "    h = []\n",
    "    result = []\n",
    "    # 힙에 원소 삽입\n",
    "    for value in iterable:\n",
    "        heapq.heappush(h, -value)    #부호를 붙여서 담고\n",
    "    # 원소 꺼내서 리스트에 담기\n",
    "    for _ in range(len(h)):\n",
    "        result.append(-heapq.heappop(h)) #부호를 붙여서 빼면 돼\n",
    "    return result\n",
    "\n",
    "result = heapsort([4, 6, 5, 7, 1, 1, 8, 9])\n",
    "print(result)"
   ]
  },
  {
   "cell_type": "markdown",
   "id": "147d2470",
   "metadata": {},
   "source": [
    "### bisect (정렬된 배열을 전제로 함)\n",
    "- 정렬된 배열에서 특정 원소 찾을 때 유용\n",
    "- 시간복잡도 O(logN)\n",
    "- bisect_left(리스트, x) : x 데이터 삽입할 가장 왼쪽 인덱스\n",
    "- bisect_right(리스트, x) : x 데이터 삽입할 가장 오른쪽 인덱스\n",
    "- 정렬된 배열에서 값이 특정 범위에 속하는 원소의 개수 찾을 때 유용\n",
    "  - left_value <= a <= right_value 인 원소의 개수\n",
    "  - 시간복잡도 O(logN)\n",
    "  - left_value = a = right_value 이면 a의 갯수"
   ]
  },
  {
   "cell_type": "code",
   "execution_count": 28,
   "id": "9395d1ad",
   "metadata": {},
   "outputs": [
    {
     "name": "stdout",
     "output_type": "stream",
     "text": [
      "2\n",
      "4\n"
     ]
    }
   ],
   "source": [
    "from bisect import bisect_left, bisect_right\n",
    "#           ↓2     ↓4\n",
    "arr = [1, 2,   4, 4,    5, 6, 9]\n",
    "x = 4\n",
    "\n",
    "print(bisect_left(arr, x))\n",
    "print(bisect_right(arr, x))"
   ]
  },
  {
   "cell_type": "code",
   "execution_count": 29,
   "id": "39b26789",
   "metadata": {},
   "outputs": [
    {
     "name": "stdout",
     "output_type": "stream",
     "text": [
      "2\n",
      "9\n"
     ]
    }
   ],
   "source": [
    "# 특정 범위에 속하는 원소 개수\n",
    "from bisect import bisect_left, bisect_right\n",
    "\n",
    "def count_by_range(a, left_value, right_value):\n",
    "    left_index = bisect_left(a, left_value)\n",
    "    right_index = bisect_right(a, right_value)\n",
    "    return right_index - left_index\n",
    "\n",
    "arr = [1, 2, 3, 3, 3, 4, 4, 5, 5, 6, 6, 7, 8, 9]\n",
    "\n",
    "# 값이 4인 데이터 개수\n",
    "print(count_by_range(arr, 4, 4))\n",
    "\n",
    "# [3, 6] 범위에 있는 데이터 개수\n",
    "print(count_by_range(arr, 3, 6))"
   ]
  },
  {
   "cell_type": "markdown",
   "id": "f793957f",
   "metadata": {},
   "source": [
    "### collections\n",
    "- deque 자료구조\n",
    "  - 파이썬에서는 deque 사용해 큐를 구현\n",
    "  - 리스트는 맨 앞 원소 추가/제거 시 O(N). deque는 앞/뒤 추가/제거 모두 O(1)\n",
    "  - 인덱싱, 슬라이싱은 불가\n",
    "  - 스택의 대용으로도 사용\n",
    "  - popleft() : 맨 앞 삭제\n",
    "  - pop() : 맨 끝 삭제\n",
    "  - appendleft() : 맨 앞 삽입\n",
    "  - append() : 맨 끝 삽입\n",
    "  - 즉, **큐에서는 삽입 append(), 삭제 popleft()**\n",
    "- Counter 자료구조\n",
    "  - 등장 횟수 세기\n",
    "  - Counter(iterable 객체) : 각 원소 개수를 dic으로 => key : 원소, value : 갯수\n",
    "- +) defaultdict 자료구조\n",
    "  - 원소 갯수 세서 dic에 담을 때 초기값 0으로 셋팅해주는 => Counter 자료구조 알게 됐으니 필요 없어진 방법론"
   ]
  },
  {
   "cell_type": "code",
   "execution_count": 35,
   "id": "a6b0964c",
   "metadata": {},
   "outputs": [
    {
     "name": "stdout",
     "output_type": "stream",
     "text": [
      "[3, 4, 5, 6]\n"
     ]
    }
   ],
   "source": [
    "from collections import deque\n",
    "\n",
    "data = deque([1, 2, 3, 4, 5])\n",
    "data.append(6)\n",
    "data.popleft()\n",
    "data.popleft()\n",
    "print(list(data))"
   ]
  },
  {
   "cell_type": "code",
   "execution_count": 39,
   "id": "89798f20",
   "metadata": {},
   "outputs": [
    {
     "name": "stdout",
     "output_type": "stream",
     "text": [
      "{'red': 2, 'blue': 3, 'black': 1}\n",
      "2\n",
      "3\n"
     ]
    }
   ],
   "source": [
    "from collections import Counter\n",
    "\n",
    "counter = Counter(['red', 'red', 'blue', 'blue', 'blue', 'black'])\n",
    "print(dict(counter))\n",
    "print(counter['red'])\n",
    "print(counter['blue'])"
   ]
  },
  {
   "cell_type": "markdown",
   "id": "cc7a4603",
   "metadata": {},
   "source": [
    "### math\n",
    "- factorial(n) : n 팩토리얼\n",
    "- sqrt(n) : 제곱근 n\n",
    "- gcd(a, b) : a와 b의 최대공약수\n",
    "- 파이 pi\n",
    "- 자연상수 e"
   ]
  },
  {
   "cell_type": "code",
   "execution_count": 40,
   "id": "5470b8e4",
   "metadata": {},
   "outputs": [
    {
     "name": "stdout",
     "output_type": "stream",
     "text": [
      "120\n",
      "2.6457513110645907\n",
      "7\n",
      "3.141592653589793\n",
      "2.718281828459045\n"
     ]
    }
   ],
   "source": [
    "import math\n",
    "\n",
    "print(math.factorial(5))\n",
    "print(math.sqrt(7))\n",
    "print(math.gcd(21, 14))\n",
    "print(math.pi)\n",
    "print(math.e)"
   ]
  },
  {
   "cell_type": "markdown",
   "id": "abe8fbb0",
   "metadata": {},
   "source": [
    "# 7. 자신만의 알고리즘 노트 만들기\n",
    "- 자신만의 라이브러리 관리\n",
    "- 함수와 함께 사용 예시도 기록"
   ]
  },
  {
   "cell_type": "markdown",
   "id": "931f6fe9",
   "metadata": {},
   "source": [
    "# ==============================================="
   ]
  },
  {
   "cell_type": "markdown",
   "id": "22868c48",
   "metadata": {},
   "source": [
    "# 필요한 개념 추가"
   ]
  },
  {
   "cell_type": "markdown",
   "id": "230254fe",
   "metadata": {},
   "source": [
    "### defaultdict =====> Counter 자료구조로 파훼됨\n",
    "- 출처 : 점프 투 파이썬 라이브러리 예제 https://wikidocs.net/104993\n",
    "- 값(value)에 초깃값을 지정하여 딕셔너리를 생성하는 모듈\n",
    "- 언제 사용? 딕셔너리로 집계용 코드를 작성할 때는 항상 초깃값에 신경 써야 한다. => defaultdict\n",
    "- d = defaultdict(int) : int를 기준으로 생성한 딕셔너리 d의 값은 항상 0으로 자동 초기화 됨 (list는 빈 리스트)\n",
    "- defaultdict(함수) : 초기값으로 그 함수를 실행 (그래서 int를 넣으면 int()를 실행. int()는 0이야)"
   ]
  },
  {
   "cell_type": "code",
   "execution_count": 1,
   "id": "dadef556",
   "metadata": {},
   "outputs": [
    {
     "name": "stdout",
     "output_type": "stream",
     "text": [
      "{'L': 1, 'i': 2, 'f': 1, 'e': 3, ' ': 6, 's': 2, 't': 3, 'o': 5, 'h': 2, 'r': 1, ',': 1, 'Y': 1, 'u': 1, 'n': 2, 'd': 1, 'p': 1, 'y': 1, '.': 1}\n"
     ]
    }
   ],
   "source": [
    "from collections import defaultdict\n",
    "\n",
    "text = \"Life is too short, You need python.\"\n",
    "\n",
    "d = defaultdict(int)\n",
    "for c in text:\n",
    "    d[c] += 1\n",
    "\n",
    "print(dict(d))"
   ]
  },
  {
   "cell_type": "code",
   "execution_count": 41,
   "id": "d8f201e9",
   "metadata": {},
   "outputs": [
    {
     "name": "stdout",
     "output_type": "stream",
     "text": [
      "{'L': 1, 'i': 2, 'f': 1, 'e': 3, ' ': 6, 's': 2, 't': 3, 'o': 5, 'h': 2, 'r': 1, ',': 1, 'Y': 1, 'u': 1, 'n': 2, 'd': 1, 'p': 1, 'y': 1, '.': 1}\n"
     ]
    }
   ],
   "source": [
    "from collections import Counter\n",
    "\n",
    "text = \"Life is too short, You need python.\"\n",
    "\n",
    "counter = Counter(text)\n",
    "print(dict(counter))"
   ]
  },
  {
   "cell_type": "code",
   "execution_count": null,
   "id": "df708f64",
   "metadata": {},
   "outputs": [],
   "source": []
  },
  {
   "cell_type": "code",
   "execution_count": null,
   "id": "47fbc109",
   "metadata": {},
   "outputs": [],
   "source": []
  },
  {
   "cell_type": "code",
   "execution_count": null,
   "id": "1424ae55",
   "metadata": {},
   "outputs": [],
   "source": []
  },
  {
   "cell_type": "code",
   "execution_count": null,
   "id": "77129883",
   "metadata": {},
   "outputs": [],
   "source": []
  },
  {
   "cell_type": "code",
   "execution_count": null,
   "id": "c91bb13a",
   "metadata": {},
   "outputs": [],
   "source": []
  },
  {
   "cell_type": "code",
   "execution_count": null,
   "id": "5675aa5c",
   "metadata": {},
   "outputs": [],
   "source": []
  },
  {
   "cell_type": "code",
   "execution_count": null,
   "id": "1af0ea37",
   "metadata": {},
   "outputs": [],
   "source": []
  },
  {
   "cell_type": "code",
   "execution_count": null,
   "id": "8168044f",
   "metadata": {},
   "outputs": [],
   "source": []
  }
 ],
 "metadata": {
  "kernelspec": {
   "display_name": "Python 3 (ipykernel)",
   "language": "python",
   "name": "python3"
  },
  "language_info": {
   "codemirror_mode": {
    "name": "ipython",
    "version": 3
   },
   "file_extension": ".py",
   "mimetype": "text/x-python",
   "name": "python",
   "nbconvert_exporter": "python",
   "pygments_lexer": "ipython3",
   "version": "3.10.9"
  }
 },
 "nbformat": 4,
 "nbformat_minor": 5
}
