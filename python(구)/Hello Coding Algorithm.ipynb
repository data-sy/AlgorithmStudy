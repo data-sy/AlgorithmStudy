{
 "cells": [
  {
   "cell_type": "markdown",
   "id": "2f7c12bb",
   "metadata": {},
   "source": [
    "### 이진 탐색\n",
    "ㅇ binary_search : 이진 탐색 함수\n",
    "  - 찾는 원소를 반환, 없으면 None 반환\n",
    "- list : 원소 리스트\n",
    "- target : 찾는 원소\n",
    "- mid : 중간값\n",
    "- guess : 추측값"
   ]
  },
  {
   "cell_type": "code",
   "execution_count": null,
   "id": "959146f8",
   "metadata": {},
   "outputs": [],
   "source": []
  },
  {
   "cell_type": "markdown",
   "id": "fb829816",
   "metadata": {},
   "source": [
    "### 선택 정렬\n",
    "ㅇ findSmallest : 배열에서 가장 작은 원소 구하는 함수\n",
    "  - 가장 작은 정수의 index를 반환\n",
    "- smallest : 가장 작은 정수\n",
    "- smallest_index : 가장 작은 정수의 index\n",
    "\n",
    "ㅇ selectionSort : 작은 정수에서 큰 정수 순서로 정렬하는 함수\n",
    "  - 정렬된 리스트를 반환\n",
    "- arr : 기존 배열\n",
    "- newArr : 정렬된 값을 담을 새 배열"
   ]
  },
  {
   "cell_type": "code",
   "execution_count": null,
   "id": "a5975ad5",
   "metadata": {},
   "outputs": [],
   "source": []
  },
  {
   "cell_type": "markdown",
   "id": "ccf8424e",
   "metadata": {},
   "source": [
    "### 재귀함수\n",
    "ㅇ fact : 팩토리얼 함수\n",
    "\n",
    "ㅇ arr_sum : 배열의 원소 모두 더하는 함수 (재귀함수로 만들기)"
   ]
  },
  {
   "cell_type": "code",
   "execution_count": null,
   "id": "8962385b",
   "metadata": {},
   "outputs": [],
   "source": []
  },
  {
   "cell_type": "markdown",
   "id": "4ed251ea",
   "metadata": {},
   "source": [
    "### +) 꼬리재귀함수\n",
    "- 출처 : https://joooing.tistory.com/entry/%EC%9E%AC%EA%B7%80-%E2%86%92-%EA%BC%AC%EB%A6%AC-%EC%9E%AC%EA%B7%80-Tail-Recursion\n",
    "- fact : 팩토리얼 함수를 꼬리재귀로"
   ]
  },
  {
   "cell_type": "code",
   "execution_count": null,
   "id": "970a9890",
   "metadata": {},
   "outputs": [],
   "source": []
  },
  {
   "cell_type": "markdown",
   "id": "98544df8",
   "metadata": {},
   "source": [
    "### 퀵정렬\n",
    "ㅇ quicksort : 퀵정렬 함수\n",
    "- pivot : 분할 기준. (우선은 배열의 첫번째로 잡자 -> 다음에 심화시키기)\n",
    "- less : pivot보다 작거나 같은 원소로 이루어진 하위배열\n",
    "- greater :        큰"
   ]
  },
  {
   "cell_type": "code",
   "execution_count": null,
   "id": "c461f9bc",
   "metadata": {},
   "outputs": [],
   "source": []
  },
  {
   "cell_type": "code",
   "execution_count": null,
   "id": "effaf33e",
   "metadata": {},
   "outputs": [],
   "source": []
  },
  {
   "cell_type": "code",
   "execution_count": null,
   "id": "203b087a",
   "metadata": {},
   "outputs": [],
   "source": []
  },
  {
   "cell_type": "code",
   "execution_count": null,
   "id": "7218824a",
   "metadata": {},
   "outputs": [],
   "source": []
  },
  {
   "cell_type": "code",
   "execution_count": null,
   "id": "8c6d92cc",
   "metadata": {},
   "outputs": [],
   "source": []
  }
 ],
 "metadata": {
  "kernelspec": {
   "display_name": "Python 3 (ipykernel)",
   "language": "python",
   "name": "python3"
  },
  "language_info": {
   "codemirror_mode": {
    "name": "ipython",
    "version": 3
   },
   "file_extension": ".py",
   "mimetype": "text/x-python",
   "name": "python",
   "nbconvert_exporter": "python",
   "pygments_lexer": "ipython3",
   "version": "3.10.9"
  }
 },
 "nbformat": 4,
 "nbformat_minor": 5
}
