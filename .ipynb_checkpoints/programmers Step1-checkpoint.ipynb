{
 "cells": [
  {
   "cell_type": "code",
   "execution_count": 3,
   "id": "26e9fe1e",
   "metadata": {},
   "outputs": [
    {
     "name": "stdout",
     "output_type": "stream",
     "text": [
      "goood\n"
     ]
    }
   ],
   "source": [
    "from math import sqrt\n",
    "if sqrt(9) == int(sqrt(9)):\n",
    "    print(\"goood\")"
   ]
  },
  {
   "cell_type": "code",
   "execution_count": 4,
   "id": "f252efdb",
   "metadata": {},
   "outputs": [
    {
     "name": "stdout",
     "output_type": "stream",
     "text": [
      "Counter({1: 4, 2: 2, 3: 1, 4: 1, 5: 1})\n"
     ]
    }
   ],
   "source": [
    "from collections import Counter\n",
    "a = [1, 1, 2, 2, 3, 4, 5]\n",
    "cnt = Counter(a)\n",
    "cnt[1]+=cnt[2] # 가능!!\n",
    "print(cnt)"
   ]
  },
  {
   "cell_type": "code",
   "execution_count": null,
   "id": "ffc44546",
   "metadata": {},
   "outputs": [],
   "source": [
    "# 대소문자 구분 없이 알파벳 개수 세기\n",
    "# 같으면 True, 다르거나 없으면 False\n",
    "def numPY(s):\n",
    "    return s.lower().count('p') == s.lower().count('y')\n",
    "\n",
    "# 문자열 함수 그대로 이용\n",
    "# lower() 소문자로 바꾸기\n",
    "# count(찾는 원소) 개수 세기\n",
    "\n",
    "# 리턴에 조건식의 결과값 그대로 넣는\n",
    "# 없으면 False 뙈"
   ]
  },
  {
   "cell_type": "code",
   "execution_count": 5,
   "id": "efdda9c5",
   "metadata": {},
   "outputs": [
    {
     "name": "stdout",
     "output_type": "stream",
     "text": [
      "-1\n"
     ]
    }
   ],
   "source": [
    "a = 1\n",
    "b = -a\n",
    "print(b)"
   ]
  },
  {
   "cell_type": "code",
   "execution_count": 7,
   "id": "070bca18",
   "metadata": {},
   "outputs": [
    {
     "name": "stdout",
     "output_type": "stream",
     "text": [
      "-23\n"
     ]
    }
   ],
   "source": [
    "a ='123'\n",
    "b = -int(a[1:])\n",
    "print(b)"
   ]
  },
  {
   "cell_type": "code",
   "execution_count": null,
   "id": "47946781",
   "metadata": {},
   "outputs": [],
   "source": []
  },
  {
   "cell_type": "code",
   "execution_count": null,
   "id": "fbf27a4e",
   "metadata": {},
   "outputs": [],
   "source": []
  },
  {
   "cell_type": "code",
   "execution_count": null,
   "id": "1f6aa1fd",
   "metadata": {},
   "outputs": [],
   "source": []
  },
  {
   "cell_type": "code",
   "execution_count": 1,
   "id": "2c821d9c",
   "metadata": {},
   "outputs": [
    {
     "data": {
      "text/plain": [
       "2"
      ]
     },
     "execution_count": 1,
     "metadata": {},
     "output_type": "execute_result"
    }
   ],
   "source": [
    "a = [1, 2, 3]\n",
    "a.index(3) "
   ]
  },
  {
   "cell_type": "code",
   "execution_count": null,
   "id": "5f64c66e",
   "metadata": {},
   "outputs": [],
   "source": [
    "# 달리기 경주\n",
    "# 시간초과한 코드\n",
    "def solution(players, callings):\n",
    "    for i in callings :\n",
    "        k = players.index(i)\n",
    "        players[k-1], players[k] = players[k], players[k-1]\n",
    "    answer = players\n",
    "    return answer"
   ]
  },
  {
   "cell_type": "code",
   "execution_count": 2,
   "id": "f9d98b68",
   "metadata": {},
   "outputs": [
    {
     "data": {
      "text/plain": [
       "Counter({1: 1, 2: 1, 3: 1, 4: 1, 5: 3, 'd': 1})"
      ]
     },
     "execution_count": 2,
     "metadata": {},
     "output_type": "execute_result"
    }
   ],
   "source": [
    "from collections import Counter\n",
    "a = [1, 2, 3, 4, 5, 5, 5, 'd']\n",
    "Counter(a)"
   ]
  },
  {
   "cell_type": "code",
   "execution_count": 7,
   "id": "cf1cf878",
   "metadata": {},
   "outputs": [
    {
     "name": "stdout",
     "output_type": "stream",
     "text": [
      "None\n"
     ]
    }
   ],
   "source": [
    "a = [1, 2, 3, 4, 5, 5, 5, 'd']\n",
    "test = a[:6].remove(2)\n",
    "print(test)"
   ]
  },
  {
   "cell_type": "code",
   "execution_count": 12,
   "id": "ee251bf0",
   "metadata": {},
   "outputs": [
    {
     "name": "stdout",
     "output_type": "stream",
     "text": [
      "[1, 2, 3, 4, 5, 5]\n",
      "None\n",
      "[1, 3, 4, 5, 5]\n"
     ]
    }
   ],
   "source": [
    "# remove 반환값은 연산이 적용된 list\n",
    "a = [1, 2, 3, 4, 5, 5, 5, 'd']\n",
    "aa = a[:6]\n",
    "print(aa)\n",
    "print(aa.remove(2))\n",
    "print(aa)"
   ]
  },
  {
   "cell_type": "code",
   "execution_count": 13,
   "id": "85feafe5",
   "metadata": {},
   "outputs": [],
   "source": [
    "a = [1, 2, 3, 4, 5, 5, 5, 'd']\n",
    "a[:6].remove(2)"
   ]
  },
  {
   "cell_type": "code",
   "execution_count": 14,
   "id": "a268db14",
   "metadata": {},
   "outputs": [
    {
     "data": {
      "text/plain": [
       "[1, 2, 3, 4, 5, 5, 5, 'd']"
      ]
     },
     "execution_count": 14,
     "metadata": {},
     "output_type": "execute_result"
    }
   ],
   "source": [
    "a"
   ]
  },
  {
   "cell_type": "code",
   "execution_count": null,
   "id": "dfb39e2e",
   "metadata": {},
   "outputs": [],
   "source": [
    "# 실패\n",
    "# counter로 해버리면 다른 애들 때문에 뒤로 밀려났다가 다시 앞으로 오는 경우 체크하지 못함\n",
    "# 예를 들어 2등인 친구가 다른 애들 때문에 100등까지 밀려났다가 다시 50등으로 돌아왔다면 k=50인데\n",
    "# 2-50을 하게 되는거잖아.\n",
    "def solution(players, callings):\n",
    "    from collections import Counter\n",
    "    cnt = dict(Counter(callings))\n",
    "    for player in cnt.keys() :\n",
    "        i = players.index(player)\n",
    "        k = cnt[player]\n",
    "        front = players[:i-k]\n",
    "        back = players[i-k:]\n",
    "        back.remove(player)\n",
    "        players = front + [player] + back        \n",
    "    answer = players\n",
    "    return answer"
   ]
  },
  {
   "cell_type": "code",
   "execution_count": 15,
   "id": "984e5d86",
   "metadata": {},
   "outputs": [
    {
     "data": {
      "text/plain": [
       "[]"
      ]
     },
     "execution_count": 15,
     "metadata": {},
     "output_type": "execute_result"
    }
   ],
   "source": [
    "a=[1, 2, 3]\n",
    "a[:0]"
   ]
  },
  {
   "cell_type": "code",
   "execution_count": null,
   "id": "10736467",
   "metadata": {},
   "outputs": [],
   "source": [
    "a"
   ]
  },
  {
   "cell_type": "code",
   "execution_count": null,
   "id": "0916cc3b",
   "metadata": {},
   "outputs": [],
   "source": []
  },
  {
   "cell_type": "code",
   "execution_count": null,
   "id": "b5fd971c",
   "metadata": {},
   "outputs": [],
   "source": []
  },
  {
   "cell_type": "code",
   "execution_count": null,
   "id": "041b16ec",
   "metadata": {},
   "outputs": [],
   "source": []
  },
  {
   "cell_type": "code",
   "execution_count": null,
   "id": "5e143b3a",
   "metadata": {},
   "outputs": [],
   "source": []
  },
  {
   "cell_type": "code",
   "execution_count": null,
   "id": "27273876",
   "metadata": {},
   "outputs": [],
   "source": []
  }
 ],
 "metadata": {
  "kernelspec": {
   "display_name": "Python 3 (ipykernel)",
   "language": "python",
   "name": "python3"
  },
  "language_info": {
   "codemirror_mode": {
    "name": "ipython",
    "version": 3
   },
   "file_extension": ".py",
   "mimetype": "text/x-python",
   "name": "python",
   "nbconvert_exporter": "python",
   "pygments_lexer": "ipython3",
   "version": "3.7.4"
  }
 },
 "nbformat": 4,
 "nbformat_minor": 5
}
