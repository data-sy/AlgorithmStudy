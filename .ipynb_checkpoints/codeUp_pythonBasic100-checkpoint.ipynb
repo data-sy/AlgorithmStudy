{
 "cells": [
  {
   "cell_type": "markdown",
   "id": "2232e4fb",
   "metadata": {},
   "source": [
    "## 01~20"
   ]
  },
  {
   "cell_type": "code",
   "execution_count": 1,
   "id": "99ee9b86",
   "metadata": {},
   "outputs": [
    {
     "name": "stdout",
     "output_type": "stream",
     "text": [
      "문장1 문장2\n",
      "문장1 문장2\n"
     ]
    }
   ],
   "source": [
    "print(\"문장1\", \"문장2\")\n",
    "print(\"문장1 문장2\")"
   ]
  },
  {
   "cell_type": "code",
   "execution_count": 2,
   "id": "bb2fd677",
   "metadata": {},
   "outputs": [
    {
     "name": "stdout",
     "output_type": "stream",
     "text": [
      "문장1\n",
      "문장2\n"
     ]
    }
   ],
   "source": [
    "print(\"문장1\\n문장2\")"
   ]
  },
  {
   "cell_type": "code",
   "execution_count": 3,
   "id": "b8981dd4",
   "metadata": {},
   "outputs": [
    {
     "name": "stdout",
     "output_type": "stream",
     "text": [
      "C:\\Download\\'hello'.py\n"
     ]
    }
   ],
   "source": [
    "print(\"C:\\\\Download\\\\'hello'.py\")"
   ]
  },
  {
   "cell_type": "code",
   "execution_count": 4,
   "id": "6ba510f6",
   "metadata": {},
   "outputs": [
    {
     "name": "stdout",
     "output_type": "stream",
     "text": [
      "C:\\Download'hello'.py\n"
     ]
    }
   ],
   "source": [
    "# \\\\ 안 하면 \n",
    "print(\"C:\\Download\\'hello'.py\")"
   ]
  },
  {
   "cell_type": "code",
   "execution_count": 8,
   "id": "1987be28",
   "metadata": {},
   "outputs": [
    {
     "name": "stdout",
     "output_type": "stream",
     "text": [
      "Hello\n",
      "World\n",
      "print(\"Hello\\nWorld\")\n"
     ]
    }
   ],
   "source": [
    "print(\"Hello\\nWorld\")\n",
    "print('print(\"Hello\\\\nWorld\")')"
   ]
  },
  {
   "cell_type": "code",
   "execution_count": 9,
   "id": "e43e5d9a",
   "metadata": {},
   "outputs": [
    {
     "name": "stdout",
     "output_type": "stream",
     "text": [
      "s\n",
      "s\n"
     ]
    }
   ],
   "source": [
    "c = input()\n",
    "print(c)"
   ]
  },
  {
   "cell_type": "code",
   "execution_count": 12,
   "id": "4eeeb7a2",
   "metadata": {},
   "outputs": [],
   "source": [
    "# 변수명 숫자로 시작 x : 숫자로 시작하는 단어는 수로 인식하기 때문"
   ]
  },
  {
   "cell_type": "code",
   "execution_count": 11,
   "id": "5a1857bf",
   "metadata": {},
   "outputs": [
    {
     "name": "stdout",
     "output_type": "stream",
     "text": [
      "3\n",
      "<class 'str'>\n",
      "<class 'int'>\n"
     ]
    }
   ],
   "source": [
    "# 입력받은 수는 문자, 문자열 취급되므로 수로 변환해야 함\n",
    "n = input()\n",
    "print(type(n))\n",
    "n = int(n)\n",
    "print(type(n))"
   ]
  },
  {
   "cell_type": "code",
   "execution_count": null,
   "id": "a517c7f7",
   "metadata": {},
   "outputs": [],
   "source": [
    "# 입력한 값을 원하는 형태로 계산하거나 처리하기 위해서는 \n",
    "# 입력한 값이 어떤 데이터(정수, 문자, 실수, 문자열 등)인지 명확히 구분해 주어야 한다."
   ]
  },
  {
   "cell_type": "code",
   "execution_count": 13,
   "id": "5103c555",
   "metadata": {},
   "outputs": [
    {
     "name": "stdout",
     "output_type": "stream",
     "text": [
      "3\n"
     ]
    },
    {
     "ename": "ValueError",
     "evalue": "not enough values to unpack (expected 2, got 1)",
     "output_type": "error",
     "traceback": [
      "\u001b[1;31m---------------------------------------------------------------------------\u001b[0m",
      "\u001b[1;31mValueError\u001b[0m                                Traceback (most recent call last)",
      "Cell \u001b[1;32mIn[13], line 1\u001b[0m\n\u001b[1;32m----> 1\u001b[0m a, b \u001b[38;5;241m=\u001b[39m \u001b[38;5;28minput\u001b[39m()\n\u001b[0;32m      2\u001b[0m \u001b[38;5;28mprint\u001b[39m(b, a)\n",
      "\u001b[1;31mValueError\u001b[0m: not enough values to unpack (expected 2, got 1)"
     ]
    }
   ],
   "source": [
    "a, b = input()\n",
    "print(b, a)"
   ]
  },
  {
   "cell_type": "code",
   "execution_count": 14,
   "id": "636e5895",
   "metadata": {},
   "outputs": [
    {
     "name": "stdout",
     "output_type": "stream",
     "text": [
      "3, 4\n"
     ]
    },
    {
     "ename": "ValueError",
     "evalue": "too many values to unpack (expected 2)",
     "output_type": "error",
     "traceback": [
      "\u001b[1;31m---------------------------------------------------------------------------\u001b[0m",
      "\u001b[1;31mValueError\u001b[0m                                Traceback (most recent call last)",
      "Cell \u001b[1;32mIn[14], line 1\u001b[0m\n\u001b[1;32m----> 1\u001b[0m a, b \u001b[38;5;241m=\u001b[39m \u001b[38;5;28minput\u001b[39m()\n\u001b[0;32m      2\u001b[0m \u001b[38;5;28mprint\u001b[39m(b, a)\n",
      "\u001b[1;31mValueError\u001b[0m: too many values to unpack (expected 2)"
     ]
    }
   ],
   "source": [
    "a, b = input()\n",
    "print(b, a)"
   ]
  },
  {
   "cell_type": "markdown",
   "id": "a0b9dde0",
   "metadata": {},
   "source": [
    "### Q.  변수 여러 개 입력받기 A: split, map\n",
    "출처 : https://dojang.io/mod/page/view.php?id=1220\n",
    "(split 사용)\n",
    "- 변수1, 변수2 = input().split()   #공백을 기준으로 분리\n",
    "- 변수1, 변수2 = input().split(기준문자)\n",
    "- 변수1, 변수2 = input(문자열).split()\n",
    "- 변수1, 변수2 = input(문자열).split(기준문자)\n",
    "(map 사용)\n",
    "- split의 결과를 매번 int로 변환해주려니 귀찮 => map 함수 함께 사용\n",
    "- 변수1, 변수2 = map(int, input().split())\n",
    "- 변수1, 변수2 = map(int, input().split(기준문자))\n",
    "- 변수1, 변수2 = map(int, input(문자열).split())\n",
    "- 변수1, 변수2 = map(int, input(문자열).split(기준문자))"
   ]
  },
  {
   "cell_type": "code",
   "execution_count": 15,
   "id": "d39bb000",
   "metadata": {},
   "outputs": [
    {
     "name": "stdout",
     "output_type": "stream",
     "text": [
      "숫자 두 개를 입력하세요: 3 4\n",
      "7\n"
     ]
    }
   ],
   "source": [
    "a, b = map(int, input('숫자 두 개를 입력하세요: ').split())\n",
    "print(a + b)"
   ]
  },
  {
   "cell_type": "code",
   "execution_count": null,
   "id": "d9fc7756",
   "metadata": {},
   "outputs": [],
   "source": [
    "# 15번에서 나오네.."
   ]
  },
  {
   "cell_type": "code",
   "execution_count": 24,
   "id": "803b41a4",
   "metadata": {},
   "outputs": [
    {
     "name": "stdout",
     "output_type": "stream",
     "text": [
      "2:34:59\n"
     ]
    }
   ],
   "source": [
    "# print(?, ?, sep='기준문자') '기준문자'를 사이에 두고 값을 출력한다.\n",
    "print(2, 34, 59, sep=':')"
   ]
  },
  {
   "cell_type": "code",
   "execution_count": 22,
   "id": "d4ddbf57",
   "metadata": {
    "scrolled": false
   },
   "outputs": [
    {
     "ename": "SyntaxError",
     "evalue": "leading zeros in decimal integer literals are not permitted; use an 0o prefix for octal integers (3421149917.py, line 2)",
     "output_type": "error",
     "traceback": [
      "\u001b[1;36m  Cell \u001b[1;32mIn[22], line 2\u001b[1;36m\u001b[0m\n\u001b[1;33m    print(02, 34, 59, sep=':')\u001b[0m\n\u001b[1;37m          ^\u001b[0m\n\u001b[1;31mSyntaxError\u001b[0m\u001b[1;31m:\u001b[0m leading zeros in decimal integer literals are not permitted; use an 0o prefix for octal integers\n"
     ]
    }
   ],
   "source": [
    "# 정수는 0으로 시작 x\n",
    "print(02, 34, 59, sep=':')"
   ]
  },
  {
   "cell_type": "code",
   "execution_count": 28,
   "id": "f44a59c9",
   "metadata": {},
   "outputs": [
    {
     "name": "stdout",
     "output_type": "stream",
     "text": [
      "2023.05.09\n",
      "09-05-2023\n"
     ]
    }
   ],
   "source": [
    "# \"연도.월.일\"을 입력받아 \"일-월-연도\" 순서로 바꿔 출력하기\n",
    "year, month, day = input().split('.')\n",
    "print(day, month, year, sep='-')"
   ]
  },
  {
   "cell_type": "code",
   "execution_count": 29,
   "id": "cb4e1790",
   "metadata": {},
   "outputs": [
    {
     "name": "stdout",
     "output_type": "stream",
     "text": [
      "abc\n"
     ]
    },
    {
     "ename": "ValueError",
     "evalue": "empty separator",
     "output_type": "error",
     "traceback": [
      "\u001b[1;31m---------------------------------------------------------------------------\u001b[0m",
      "\u001b[1;31mValueError\u001b[0m                                Traceback (most recent call last)",
      "Cell \u001b[1;32mIn[29], line 3\u001b[0m\n\u001b[0;32m      1\u001b[0m \u001b[38;5;66;03m# 기본값은 공백이야 split() 이나 sep을 안 쓰는 것\u001b[39;00m\n\u001b[0;32m      2\u001b[0m \u001b[38;5;66;03m# 아무것도 없는 공(empty)문자는 ''으로 표현\u001b[39;00m\n\u001b[1;32m----> 3\u001b[0m a, b, c \u001b[38;5;241m=\u001b[39m \u001b[38;5;28;43minput\u001b[39;49m\u001b[43m(\u001b[49m\u001b[43m)\u001b[49m\u001b[38;5;241;43m.\u001b[39;49m\u001b[43msplit\u001b[49m\u001b[43m(\u001b[49m\u001b[38;5;124;43m'\u001b[39;49m\u001b[38;5;124;43m'\u001b[39;49m\u001b[43m)\u001b[49m\n\u001b[0;32m      4\u001b[0m \u001b[38;5;28mprint\u001b[39m(a\u001b[38;5;241m+\u001b[39mb\u001b[38;5;241m+\u001b[39mc)\n\u001b[0;32m      5\u001b[0m \u001b[38;5;28mprint\u001b[39m(a, b, c, sep\u001b[38;5;241m=\u001b[39m\u001b[38;5;124m'\u001b[39m\u001b[38;5;124m'\u001b[39m)\n",
      "\u001b[1;31mValueError\u001b[0m: empty separator"
     ]
    }
   ],
   "source": [
    "# 기본값은 공백이야 split() 이나 sep을 안 쓰는 것\n",
    "# 아무것도 없는 공(empty)문자는 ''으로 표현\n",
    "a, b, c = input().split('') # split에서는 오류나네\n",
    "print(a+b+c)\n",
    "print(a, b, c, sep='')"
   ]
  },
  {
   "cell_type": "code",
   "execution_count": 31,
   "id": "48236898",
   "metadata": {},
   "outputs": [
    {
     "name": "stdout",
     "output_type": "stream",
     "text": [
      "aaa bbbb cc\n",
      "aaabbbbcc\n"
     ]
    }
   ],
   "source": [
    "a = 'aaa'\n",
    "b = 'bbbb'\n",
    "c = 'cc'\n",
    "print(a, b, c)\n",
    "print(a, b, c, sep='')"
   ]
  },
  {
   "cell_type": "markdown",
   "id": "1f6105c0",
   "metadata": {},
   "source": [
    "## 21~"
   ]
  },
  {
   "cell_type": "code",
   "execution_count": null,
   "id": "4a84ade6",
   "metadata": {},
   "outputs": [],
   "source": []
  },
  {
   "cell_type": "code",
   "execution_count": null,
   "id": "6ddbfa6d",
   "metadata": {},
   "outputs": [],
   "source": []
  },
  {
   "cell_type": "code",
   "execution_count": null,
   "id": "7ddec69b",
   "metadata": {},
   "outputs": [],
   "source": []
  }
 ],
 "metadata": {
  "kernelspec": {
   "display_name": "Python 3 (ipykernel)",
   "language": "python",
   "name": "python3"
  },
  "language_info": {
   "codemirror_mode": {
    "name": "ipython",
    "version": 3
   },
   "file_extension": ".py",
   "mimetype": "text/x-python",
   "name": "python",
   "nbconvert_exporter": "python",
   "pygments_lexer": "ipython3",
   "version": "3.10.9"
  }
 },
 "nbformat": 4,
 "nbformat_minor": 5
}
