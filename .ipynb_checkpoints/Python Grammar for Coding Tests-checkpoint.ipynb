{
 "cells": [
  {
   "cell_type": "code",
   "execution_count": 2,
   "id": "005fb6f1",
   "metadata": {},
   "outputs": [],
   "source": [
    "# ★★★코테★★★"
   ]
  },
  {
   "cell_type": "markdown",
   "id": "396672b9",
   "metadata": {},
   "source": [
    "- 실제 개발 : 각 모듈을 클래스별로 구분하여 작성\n",
    "- 코딩 테스트용 코드 : 클래스 작성 x, 함수만으로 문제 풀이에 필요한 기능을 모듈화\n",
    "\n",
    "∴ 클래스 문법 제외"
   ]
  },
  {
   "cell_type": "markdown",
   "id": "24dd2a6e",
   "metadata": {},
   "source": [
    "# 1. 자료형"
   ]
  },
  {
   "cell_type": "markdown",
   "id": "d1b7cdb2",
   "metadata": {},
   "source": [
    "## 1) 수 자료형\n",
    "- 코테에서 다루는 알고리즘 문제는 입출력 데이터가 대부분 정수형\n",
    "- 실수형은 빈도 낮음"
   ]
  },
  {
   "cell_type": "markdown",
   "id": "383ab7bb",
   "metadata": {},
   "source": [
    "### 정수형"
   ]
  },
  {
   "cell_type": "markdown",
   "id": "1d6c75be",
   "metadata": {},
   "source": [
    "### 실수형"
   ]
  },
  {
   "cell_type": "code",
   "execution_count": 3,
   "id": "f9f67d6f",
   "metadata": {},
   "outputs": [
    {
     "name": "stdout",
     "output_type": "stream",
     "text": [
      "5.0\n",
      "-0.7\n"
     ]
    }
   ],
   "source": [
    "# 소수부, 정수부 0 생략 가능\n",
    "a = 5.\n",
    "print(a)\n",
    "b = -.7\n",
    "print(b)"
   ]
  },
  {
   "cell_type": "code",
   "execution_count": 5,
   "id": "3b716026",
   "metadata": {},
   "outputs": [
    {
     "name": "stdout",
     "output_type": "stream",
     "text": [
      "1000000000.0\n",
      "752.5\n",
      "3.952\n"
     ]
    }
   ],
   "source": [
    "# 유효숫자e지수 = 유효숫자*10^지수\n",
    "# 최단 경로 문제 : 무한(INF)을 표현할 때 사용\n",
    "\n",
    "a = 1e9      # 코테 : 10억\n",
    "print(a)\n",
    "\n",
    "b = 75.25e1\n",
    "print(b)\n",
    "c= 3952e-3\n",
    "print(c)"
   ]
  },
  {
   "cell_type": "code",
   "execution_count": 12,
   "id": "c2372a14",
   "metadata": {},
   "outputs": [
    {
     "name": "stdout",
     "output_type": "stream",
     "text": [
      "0.8999999999999999\n"
     ]
    }
   ],
   "source": [
    "# 컴퓨터는 실수를 정확하게 표현하지 못함\n",
    "# 2진수 체계이므로\n",
    "a = 0.3 + 0.6\n",
    "print(a)"
   ]
  },
  {
   "cell_type": "code",
   "execution_count": 13,
   "id": "22904507",
   "metadata": {},
   "outputs": [
    {
     "name": "stdout",
     "output_type": "stream",
     "text": [
      "0.9\n",
      "123.46\n"
     ]
    }
   ],
   "source": [
    "# 실수값 비교할 때는 round() 함수 사용\n",
    "# round() 함수 : round(실수, 소수 자리수) 반올림하는 함수\n",
    "\n",
    "print(round(a, 4))    # ★★★코테★★★ : 소수점 다섯 번째 자리에서 반올림한 결과가 같으면 정답 인정 조건\n",
    "\n",
    "b = round(123.456, 2)\n",
    "print(b)"
   ]
  },
  {
   "cell_type": "markdown",
   "id": "e19ea980",
   "metadata": {},
   "source": [
    "### 수 자료형의 연산\n",
    "- / : 나누기 연산자. 나눠진 결과 실수형으로 처리\n",
    "- // : 몫 연산자\n",
    "- % : 나머지 연산자\n",
    "- ** : 거듭제곱 연산자"
   ]
  },
  {
   "cell_type": "markdown",
   "id": "b2df86cc",
   "metadata": {},
   "source": [
    "## 2) 리스트 자료형\n",
    "- 내부적으로 배열Array을 채택\n",
    "- 연결 리스트 자료구조 기능 포함 : append(), remove() 등의 메서드 지원"
   ]
  },
  {
   "cell_type": "code",
   "execution_count": 14,
   "id": "3bbb7a6b",
   "metadata": {},
   "outputs": [
    {
     "name": "stdout",
     "output_type": "stream",
     "text": [
      "[0, 0, 0, 0, 0, 0, 0, 0, 0, 0]\n"
     ]
    }
   ],
   "source": [
    "# ★★★코테★★★ : 크기 N, 모든 값 0인 1차원 리스트 초기화\n",
    "n = 10\n",
    "a = [0]*n    # cf.원소별로 곱하려면 list는 for돌려야 해. -> 넘파이 라이브러리 간편\n",
    "print(a)"
   ]
  },
  {
   "cell_type": "code",
   "execution_count": 17,
   "id": "4fe71773",
   "metadata": {},
   "outputs": [
    {
     "data": {
      "text/plain": [
       "[5, 4, 3]"
      ]
     },
     "execution_count": 17,
     "metadata": {},
     "output_type": "execute_result"
    }
   ],
   "source": [
    "# 슬라이싱\n",
    "list = [1, 2, 3, 4, 5, 6]\n",
    "list[-2:-5:-1]"
   ]
  },
  {
   "cell_type": "markdown",
   "id": "ee794e02",
   "metadata": {},
   "source": [
    "### ㅇ 리스트 컴프리헨션 (List comprehension)\n",
    "- [표현식 for 항목 in 반복가능객체 if 조건문]\n",
    "- [표현식 for 항목1 in 반복가능객체1 if 조건문1 <br/>\n",
    "          for 항목2 in 반복가능객체2 if 조건문2<br/>\n",
    "        ...<br/>\n",
    "        for 항목n in 반복가능객체n if 조건문n]\n",
    "- 반복문을 통해 얻은 결과물로 list를 만들고 싶을 때 사용"
   ]
  },
  {
   "cell_type": "code",
   "execution_count": 1,
   "id": "37bf1ba6",
   "metadata": {},
   "outputs": [
    {
     "name": "stdout",
     "output_type": "stream",
     "text": [
      "[1, 3, 5, 7, 9, 11, 13, 15, 17, 19]\n",
      "[2, 4, 6, 8, 10, 12, 14, 16, 18, 20]\n",
      "[1, 4, 9, 16, 25, 36, 49, 64, 81]\n",
      "[2, 4, 6, 8, 10, 12, 14, 16, 18, 3, 6, 9, 12, 15, 18, 21, 24, 27, 4, 8, 12, 16, 20, 24, 28, 32, 36, 5, 10, 15, 20, 25, 30, 35, 40, 45, 6, 12, 18, 24, 30, 36, 42, 48, 54, 7, 14, 21, 28, 35, 42, 49, 56, 63, 8, 16, 24, 32, 40, 48, 56, 64, 72, 9, 18, 27, 36, 45, 54, 63, 72, 81]\n"
     ]
    }
   ],
   "source": [
    "# 리스트 컴프리헨션                 # 참고 : https://wikidocs.net/22805\n",
    "# [ ] 안에 조건문, 반복믄 가능\n",
    "\n",
    "# 0~19에서 홀수만\n",
    "arr1 = [i for i in range(20) if i%2 == 1]\n",
    "print(arr1)\n",
    "\n",
    "# 2의 배수 10개\n",
    "arr2 = [ 2*i for i in range(1, 10+1) ]\n",
    "print(arr2)\n",
    "\n",
    "# 1~9 제곱 값\n",
    "arr3 = [ i*i for i in range(1, 10)]\n",
    "print(arr3)\n",
    "\n",
    "# 구구단\n",
    "result = [x*y for x in range(2,10)\n",
    "          for y in range(1,10)]\n",
    "print(result)"
   ]
  },
  {
   "cell_type": "markdown",
   "id": "7f037bac",
   "metadata": {},
   "source": [
    "###  <font color=magenta> 오늘의 포인트 </font>\n",
    "- 특정한 크기를 가지는 2차원 리스트를 초기화할 때에는 리스트 컴프리헨션 이용해야 함!"
   ]
  },
  {
   "cell_type": "code",
   "execution_count": 30,
   "id": "22046a96",
   "metadata": {},
   "outputs": [
    {
     "data": {
      "text/plain": [
       "[[0, 0, 0, 0], [0, 0, 0, 0], [0, 0, 0, 0]]"
      ]
     },
     "execution_count": 30,
     "metadata": {},
     "output_type": "execute_result"
    }
   ],
   "source": [
    "# ★★★코테★★★: N*M 크기의 2차원 리스트 초기화\n",
    "n=3\n",
    "m=4\n",
    "arr = [[0]*m for _ in range(n)]\n",
    "arr"
   ]
  },
  {
   "cell_type": "code",
   "execution_count": 28,
   "id": "8bcf9c2d",
   "metadata": {},
   "outputs": [
    {
     "name": "stdout",
     "output_type": "stream",
     "text": [
      "Hello World\n",
      "Hello World\n",
      "Hello World\n"
     ]
    }
   ],
   "source": [
    "# cf. _ 언더바의 역할 : 반복을 위한 변수의 값을 무시하고자 할 때\n",
    "# for i 에서 i가 쓰이지 않고 반복 갯수를 세는데에만 활용 될 때\n",
    "for _ in range(3):\n",
    "    print(\"Hello World\")"
   ]
  },
  {
   "cell_type": "code",
   "execution_count": 39,
   "id": "4cca9611",
   "metadata": {},
   "outputs": [
    {
     "name": "stdout",
     "output_type": "stream",
     "text": [
      "[[0, 0, 0, 0], [0, 0, 0, 0], [0, 0, 0, 0]]\n",
      "[[0, 0, 5, 0], [0, 0, 5, 0], [0, 0, 5, 0]]\n"
     ]
    }
   ],
   "source": [
    "# [[0]*m]*n의 의미\n",
    "# n개의 [0]*m 리스트가 모두 동일한 객체에 대한 n개의 레퍼런스로 인식된다.  =============> 이 부분 이론 좀 더 알아보기!!!\n",
    "# test[0], test[1], test[2]가 모두 한 객체 [0, 0, 5, 0]에 대한 레퍼런스\n",
    "\n",
    "# 초기화 할 땐 모두 0이라 티가 안나지만\n",
    "test = [[0]*m]*n\n",
    "print(test)\n",
    "\n",
    "# \n",
    "test[1][2] = 5\n",
    "print(test)"
   ]
  },
  {
   "cell_type": "markdown",
   "id": "29cfc535",
   "metadata": {},
   "source": [
    "### 리스트 메서드\n",
    " ★★★코테★★★ : 눈여겨 볼 메서드\n",
    "- append() : 맨 뒤에 추가 , O(1)\n",
    "- Insert(삽입할 위치 인덱스, 삽입할 값) : 원하는 위치에 추가 , O(N)  => insert를 남발하면 시간 초과\n",
    "- remove(삭제할 값) : 여러 개이면 하나 삭제 , O(N)"
   ]
  },
  {
   "cell_type": "code",
   "execution_count": 1,
   "id": "cd66c00d",
   "metadata": {},
   "outputs": [
    {
     "name": "stdout",
     "output_type": "stream",
     "text": [
      "[1, 2, 4]\n"
     ]
    }
   ],
   "source": [
    "# 특정한 값 모두 제거\n",
    "list = [1, 2, 3, 4, 5, 5, 5]\n",
    "remove_set = {3, 5}   # 제거할 값들\n",
    "\n",
    "# remove_set에 포함되지 않은 값만 저장\n",
    "result = [i for i in list if i not in remove_set]   # list에 포함된 원소를 하나씩 확인\n",
    "print(result)"
   ]
  },
  {
   "cell_type": "markdown",
   "id": "577aa85b",
   "metadata": {},
   "source": [
    "## 3)  문자열 자료형\n",
    "- 내부적으로 리스트와 같이 처리됨 => 인덱싱, 슬라이싱 가능"
   ]
  },
  {
   "cell_type": "markdown",
   "id": "1edad04a",
   "metadata": {},
   "source": [
    "### 문자열 초기화"
   ]
  },
  {
   "cell_type": "markdown",
   "id": "4d796f27",
   "metadata": {},
   "source": [
    "### 문자열 연산\n",
    "- \\+ : 문자열 연결\n",
    "- \\* : 문자열 반복"
   ]
  },
  {
   "cell_type": "markdown",
   "id": "7db7977b",
   "metadata": {},
   "source": [
    "## 4)  튜플 자료형\n",
    "- ★★★코테★★★ : 그래프 알고리즘 구현에서 자주 사용   예) 다익스트라 최단 경로 알고리즘\n",
    "- 우선순위 큐에 한 번 들어간 값은 변경 X => 튜플로 구성\n",
    "- (알고리즘 구현 과정에서 변경하면 안 되는 값이 변경되고 있지는 않은지 체크 가능)\n",
    "- 사용 관례 : (비용, 노드 번호)"
   ]
  },
  {
   "cell_type": "code",
   "execution_count": 3,
   "id": "b6a755db",
   "metadata": {},
   "outputs": [
    {
     "ename": "TypeError",
     "evalue": "'tuple' object does not support item assignment",
     "output_type": "error",
     "traceback": [
      "\u001b[1;31m---------------------------------------------------------------------------\u001b[0m",
      "\u001b[1;31mTypeError\u001b[0m                                 Traceback (most recent call last)",
      "Cell \u001b[1;32mIn[3], line 3\u001b[0m\n\u001b[0;32m      1\u001b[0m \u001b[38;5;66;03m# 한 번 선언된 값 변경 불가능\u001b[39;00m\n\u001b[0;32m      2\u001b[0m \u001b[38;5;28mtuple\u001b[39m \u001b[38;5;241m=\u001b[39m (\u001b[38;5;241m1\u001b[39m, \u001b[38;5;241m2\u001b[39m, \u001b[38;5;241m3\u001b[39m, \u001b[38;5;241m4\u001b[39m)\n\u001b[1;32m----> 3\u001b[0m \u001b[38;5;28mtuple\u001b[39m[\u001b[38;5;241m2\u001b[39m] \u001b[38;5;241m=\u001b[39m \u001b[38;5;241m5\u001b[39m\n",
      "\u001b[1;31mTypeError\u001b[0m: 'tuple' object does not support item assignment"
     ]
    }
   ],
   "source": [
    "# 한 번 선언된 값 변경 불가능\n",
    "tuple = (1, 2, 3, 4)\n",
    "tuple[2] = 5\n",
    "# item assignment : 원소의 대입 => 즉, 대입연산자(=)를 사용하여 값을 변경할 수 없다."
   ]
  },
  {
   "cell_type": "markdown",
   "id": "e2eca4ff",
   "metadata": {},
   "source": [
    "## 5)  사전 자료형\n",
    "- 내부적으로 해시 테이블 (Hash Table) 이용 => 검색, 수정 O(1)   즉, 빠르게 동작\n",
    "- 변경 불가능한 자료형 (수, 문자열, 튜플)을 Key로 사용"
   ]
  },
  {
   "cell_type": "code",
   "execution_count": 4,
   "id": "c91c26b0",
   "metadata": {},
   "outputs": [
    {
     "name": "stdout",
     "output_type": "stream",
     "text": [
      "'사과'를 키로 가지는 데이터 존재\n"
     ]
    }
   ],
   "source": [
    "# ★★★코테★★★ : 검색이 빠름\n",
    "data = dict()\n",
    "data['사과'] = 'Apple'\n",
    "data['바나나'] = 'Banana'\n",
    "data['코코넛'] = 'Coconut'\n",
    "\n",
    "if '사과' in data :                              # list는 원소 순서대로 다 뒤지지만 dictionary는 검색 O(1)\n",
    "    print(\"'사과'를 키로 가지는 데이터 존재\")"
   ]
  },
  {
   "cell_type": "markdown",
   "id": "d2ced9c3",
   "metadata": {},
   "source": [
    "### 사전 자료형 관련 함수"
   ]
  },
  {
   "cell_type": "code",
   "execution_count": 5,
   "id": "be7a7437",
   "metadata": {},
   "outputs": [
    {
     "name": "stdout",
     "output_type": "stream",
     "text": [
      "Apple\n",
      "Banana\n",
      "Coconut\n"
     ]
    }
   ],
   "source": [
    "# keys() : 키 리스트로\n",
    "# values() : 값 리스트로\n",
    "\n",
    "# 키에 따른 값 출력\n",
    "for key in data.keys() :\n",
    "    print(data[key])"
   ]
  },
  {
   "cell_type": "markdown",
   "id": "33299768",
   "metadata": {},
   "source": [
    "## 6)  집합 자료형\n",
    "- 중복 허용 x, 순서 x\n",
    "- 검색 O(1)\n",
    "- 특정 데이터가 이미 등장한 적이 있는지 여부 체크할 때 효과적"
   ]
  },
  {
   "cell_type": "markdown",
   "id": "40374dd3",
   "metadata": {},
   "source": [
    "### 집합 자료형의 연산\n",
    "- | : 합집합\n",
    "- & : 교집합\n",
    "- \\- : 차집합"
   ]
  },
  {
   "cell_type": "markdown",
   "id": "9c65103d",
   "metadata": {},
   "source": [
    "### 집합 자료형 관련 함수\n",
    "- add() : 추가    => O(1)\n",
    "- update(리스트) : 여러 개 추가\n",
    "- remove(삭제할 값) : 삭제    => O(1)"
   ]
  },
  {
   "cell_type": "markdown",
   "id": "07dbf6eb",
   "metadata": {},
   "source": [
    "# 2. 조건문\n",
    "- if, elif, else\n",
    "- 들여쓰기는 탭 보다는 스페이스 바 4번으로\n",
    "- True, False"
   ]
  },
  {
   "cell_type": "markdown",
   "id": "23f60e00",
   "metadata": {},
   "source": [
    "### 비교 연산자"
   ]
  },
  {
   "cell_type": "markdown",
   "id": "887e2b38",
   "metadata": {},
   "source": [
    "### 논리 연산자"
   ]
  },
  {
   "cell_type": "code",
   "execution_count": 1,
   "id": "0aa51f29",
   "metadata": {},
   "outputs": [
    {
     "name": "stdout",
     "output_type": "stream",
     "text": [
      "False\n",
      "True\n",
      "False\n"
     ]
    }
   ],
   "source": [
    "x = True\n",
    "y = False\n",
    "print(x and y)\n",
    "print(x or y)\n",
    "print(not x)"
   ]
  },
  {
   "cell_type": "markdown",
   "id": "6e958e26",
   "metadata": {},
   "source": [
    "### 기타 연산자\n",
    "- in, not in 리스트, 튜플, 문자열, 사전\n",
    "- pass : ★★★코테★★★ 조건문의 형태만 만들어두고 처리하는 부분 비워둘 때 사용\n",
    "- 조건부 표현식\n",
    "- 80<=x<90 사용 가능"
   ]
  },
  {
   "cell_type": "code",
   "execution_count": 3,
   "id": "cdf56f57",
   "metadata": {},
   "outputs": [
    {
     "name": "stdout",
     "output_type": "stream",
     "text": [
      "True\n",
      "False\n"
     ]
    }
   ],
   "source": [
    "# x in 리스트 : 리스트 안에 x가 있을 때 True 반환\n",
    "print(1 in [1,3,4])\n",
    "print(2 in [1,3,4])"
   ]
  },
  {
   "cell_type": "code",
   "execution_count": 4,
   "id": "a933da64",
   "metadata": {},
   "outputs": [
    {
     "name": "stdout",
     "output_type": "stream",
     "text": [
      "프로그램을 종료합니다.\n"
     ]
    }
   ],
   "source": [
    "# pass\n",
    "score = 86\n",
    "\n",
    "if score >= 80 :\n",
    "    pass     # 나중에 작성할 소스코드\n",
    "else :\n",
    "    print(\"성적이 80점 미만입니다.\")\n",
    "    \n",
    "print(\"프로그램을 종료합니다.\")"
   ]
  },
  {
   "cell_type": "code",
   "execution_count": 5,
   "id": "bfee6d69",
   "metadata": {},
   "outputs": [
    {
     "name": "stdout",
     "output_type": "stream",
     "text": [
      "Success\n"
     ]
    }
   ],
   "source": [
    "# 실행될 소스코드가 한 줄인 경우 간략하게 표현\n",
    "score = 85\n",
    "\n",
    "if score>=80 : result = \"Success\"\n",
    "else : result = \"Fail\"\n",
    "    \n",
    "print(result)"
   ]
  },
  {
   "cell_type": "code",
   "execution_count": 6,
   "id": "d2a82c99",
   "metadata": {},
   "outputs": [
    {
     "name": "stdout",
     "output_type": "stream",
     "text": [
      "Success\n"
     ]
    }
   ],
   "source": [
    "# 조건부 표현식으로 더 간결하게\n",
    "\n",
    "score = 85\n",
    "\n",
    "result = \"Success\" if score>=80 else \"Fail\"\n",
    "\n",
    "print(result)"
   ]
  },
  {
   "cell_type": "code",
   "execution_count": 7,
   "id": "2c09b055",
   "metadata": {},
   "outputs": [
    {
     "name": "stdout",
     "output_type": "stream",
     "text": [
      "[1, 2, 4]\n"
     ]
    }
   ],
   "source": [
    "# 조건부 표현식 : 리스트에 있는 원소의 값 변경해서 또 다른 리스트 만들 때 사용 (앞에서 했음. remove_set 이용했던 예제)\n",
    "list = [1, 2, 3, 4, 5, 5, 5]\n",
    "remove_set = {3, 5} \n",
    "\n",
    "result = [i for i in list if i not in remove_set]\n",
    "print(result)"
   ]
  },
  {
   "cell_type": "markdown",
   "id": "a0f4e922",
   "metadata": {},
   "source": [
    "# 3. 반복문\n",
    "- continue : 반복문의 처음으로 돌아감"
   ]
  },
  {
   "cell_type": "markdown",
   "id": "377bf9f0",
   "metadata": {},
   "source": [
    "## 1) while문"
   ]
  },
  {
   "cell_type": "markdown",
   "id": "a17f1f1d",
   "metadata": {},
   "source": [
    "## 2) For문\n",
    "- for 변수 in 데이터 : <br/>\n",
    "실행할 소스코드\n",
    "- 데이터 : 리스트, 튜플, 문자열, 사전, 집합\n",
    "- 모든 원소를 차례대로 하나씩 방문\n",
    "- range(시작, 끝+1, 증가)"
   ]
  },
  {
   "cell_type": "code",
   "execution_count": 10,
   "id": "f1888742",
   "metadata": {},
   "outputs": [
    {
     "name": "stdout",
     "output_type": "stream",
     "text": [
      "a\n",
      "b\n",
      "c\n",
      "b\n",
      "a\n"
     ]
    }
   ],
   "source": [
    "# 실험\n",
    "dic = { 'a' : 1, 'b' : 2 }\n",
    "sett = {'a', 'b', 'c'}\n",
    "\n",
    "for i in dic :   # 사전으로 하면 key가 나오고\n",
    "    print(i)\n",
    "for i in sett :  # 집합으로 하면 순서 상관 없이 나옴\n",
    "    print(i)"
   ]
  },
  {
   "cell_type": "code",
   "execution_count": 12,
   "id": "17c25e36",
   "metadata": {},
   "outputs": [
    {
     "name": "stdout",
     "output_type": "stream",
     "text": [
      "1번 학생은 합격입니다.\n",
      "5번 학생은 합격입니다.\n"
     ]
    }
   ],
   "source": [
    "# continue\n",
    "# 2,4번 학생은 블랙리스트. 점수가 높아도 합격하지 못하도록\n",
    "\n",
    "scores = [90, 85, 77, 65, 97]\n",
    "cheating_list = {2, 4}\n",
    "\n",
    "for i in range(5):\n",
    "    if i+1 in cheating_list:\n",
    "        continue\n",
    "    if scores[i]>=80:\n",
    "        print(f\"{i+1}번 학생은 합격입니다.\")"
   ]
  },
  {
   "cell_type": "markdown",
   "id": "9b3a12b2",
   "metadata": {},
   "source": [
    "### 중첩된 반복문\n",
    "- ★★★코테★★★ : 플로이드 워셜 알고리즘, 다이나믹 프로그래밍 등"
   ]
  },
  {
   "cell_type": "markdown",
   "id": "a6e965d9",
   "metadata": {},
   "source": [
    "# 4. 함수\n",
    "- ★★★코테★★★ : 테스트 케이스만큼 특정 알고리즘 수행 결과를 반복적으로 출력하도록 요구하는 문제 => 문제 푸는 코드를 함수화"
   ]
  },
  {
   "cell_type": "code",
   "execution_count": 13,
   "id": "e54d744e",
   "metadata": {},
   "outputs": [],
   "source": [
    "# 함수 형태\n",
    "# 매개변수, return은 없을 수 있음\n",
    "\n",
    "def 함수명(매개변수):\n",
    "\n",
    "    #실행할 소스코드\n",
    "\n",
    "    return 반환값"
   ]
  },
  {
   "cell_type": "markdown",
   "id": "d1b308d6",
   "metadata": {},
   "source": [
    "### global 키워드\n",
    "- 함수 안에서의 지역변수 x, 바깥에 선언된 변수를 바로 참조"
   ]
  },
  {
   "cell_type": "code",
   "execution_count": 1,
   "id": "89ce3f4d",
   "metadata": {},
   "outputs": [
    {
     "name": "stdout",
     "output_type": "stream",
     "text": [
      "10\n"
     ]
    }
   ],
   "source": [
    "# global\n",
    "a = 0\n",
    "\n",
    "def func():\n",
    "    global a\n",
    "    a+=1\n",
    "    \n",
    "for i in range(10):\n",
    "    func()\n",
    "    \n",
    "print(a)"
   ]
  },
  {
   "cell_type": "markdown",
   "id": "7895130c",
   "metadata": {},
   "source": [
    "### 람다 표현식\n",
    "- 함수를 한 줄에 작성\n",
    "- ★★★코테★★★ 정렬 라이브러리 사용 시, 정렬기준(key)을 설정할 때 자주 사용"
   ]
  },
  {
   "cell_type": "code",
   "execution_count": 3,
   "id": "1c5c1895",
   "metadata": {},
   "outputs": [
    {
     "name": "stdout",
     "output_type": "stream",
     "text": [
      "10\n"
     ]
    }
   ],
   "source": [
    "# 람다 표현식\n",
    "\n",
    "print((lambda a, b:a+b)(3, 7))"
   ]
  },
  {
   "cell_type": "markdown",
   "id": "7f805dec",
   "metadata": {},
   "source": [
    "# 5. 입출력"
   ]
  },
  {
   "cell_type": "code",
   "execution_count": null,
   "id": "8c82d0d6",
   "metadata": {},
   "outputs": [],
   "source": []
  },
  {
   "cell_type": "code",
   "execution_count": null,
   "id": "1c150ad0",
   "metadata": {},
   "outputs": [],
   "source": []
  },
  {
   "cell_type": "code",
   "execution_count": null,
   "id": "d3d7851a",
   "metadata": {},
   "outputs": [],
   "source": []
  },
  {
   "cell_type": "code",
   "execution_count": null,
   "id": "01d33074",
   "metadata": {},
   "outputs": [],
   "source": []
  },
  {
   "cell_type": "code",
   "execution_count": null,
   "id": "c4e5a704",
   "metadata": {},
   "outputs": [],
   "source": []
  },
  {
   "cell_type": "code",
   "execution_count": null,
   "id": "f19da11f",
   "metadata": {},
   "outputs": [],
   "source": []
  },
  {
   "cell_type": "code",
   "execution_count": null,
   "id": "e2774c3c",
   "metadata": {},
   "outputs": [],
   "source": []
  },
  {
   "cell_type": "markdown",
   "id": "451fd26c",
   "metadata": {},
   "source": [
    "# 6. 주요 라이브러리"
   ]
  },
  {
   "cell_type": "code",
   "execution_count": null,
   "id": "e47b8d5d",
   "metadata": {},
   "outputs": [],
   "source": []
  },
  {
   "cell_type": "code",
   "execution_count": null,
   "id": "38629fbc",
   "metadata": {},
   "outputs": [],
   "source": []
  },
  {
   "cell_type": "code",
   "execution_count": null,
   "id": "353b4798",
   "metadata": {},
   "outputs": [],
   "source": []
  },
  {
   "cell_type": "code",
   "execution_count": null,
   "id": "e8548a44",
   "metadata": {},
   "outputs": [],
   "source": []
  },
  {
   "cell_type": "code",
   "execution_count": null,
   "id": "9fb524e2",
   "metadata": {},
   "outputs": [],
   "source": [
    "# 실습 1\n"
   ]
  },
  {
   "cell_type": "code",
   "execution_count": null,
   "id": "8a07151b",
   "metadata": {},
   "outputs": [],
   "source": []
  },
  {
   "cell_type": "code",
   "execution_count": null,
   "id": "6313ac45",
   "metadata": {},
   "outputs": [],
   "source": []
  },
  {
   "cell_type": "code",
   "execution_count": null,
   "id": "f08be206",
   "metadata": {},
   "outputs": [],
   "source": []
  }
 ],
 "metadata": {
  "kernelspec": {
   "display_name": "Python 3 (ipykernel)",
   "language": "python",
   "name": "python3"
  },
  "language_info": {
   "codemirror_mode": {
    "name": "ipython",
    "version": 3
   },
   "file_extension": ".py",
   "mimetype": "text/x-python",
   "name": "python",
   "nbconvert_exporter": "python",
   "pygments_lexer": "ipython3",
   "version": "3.10.9"
  }
 },
 "nbformat": 4,
 "nbformat_minor": 5
}
