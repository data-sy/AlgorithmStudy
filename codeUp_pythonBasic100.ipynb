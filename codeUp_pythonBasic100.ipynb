{
 "cells": [
  {
   "cell_type": "markdown",
   "id": "2232e4fb",
   "metadata": {},
   "source": [
    "## 01~20"
   ]
  },
  {
   "cell_type": "code",
   "execution_count": 1,
   "id": "99ee9b86",
   "metadata": {},
   "outputs": [
    {
     "name": "stdout",
     "output_type": "stream",
     "text": [
      "문장1 문장2\n",
      "문장1 문장2\n"
     ]
    }
   ],
   "source": [
    "print(\"문장1\", \"문장2\")\n",
    "print(\"문장1 문장2\")"
   ]
  },
  {
   "cell_type": "code",
   "execution_count": 2,
   "id": "bb2fd677",
   "metadata": {},
   "outputs": [
    {
     "name": "stdout",
     "output_type": "stream",
     "text": [
      "문장1\n",
      "문장2\n"
     ]
    }
   ],
   "source": [
    "print(\"문장1\\n문장2\")"
   ]
  },
  {
   "cell_type": "code",
   "execution_count": 3,
   "id": "b8981dd4",
   "metadata": {},
   "outputs": [
    {
     "name": "stdout",
     "output_type": "stream",
     "text": [
      "C:\\Download\\'hello'.py\n"
     ]
    }
   ],
   "source": [
    "print(\"C:\\\\Download\\\\'hello'.py\")"
   ]
  },
  {
   "cell_type": "code",
   "execution_count": 4,
   "id": "6ba510f6",
   "metadata": {},
   "outputs": [
    {
     "name": "stdout",
     "output_type": "stream",
     "text": [
      "C:\\Download'hello'.py\n"
     ]
    }
   ],
   "source": [
    "# \\\\ 안 하면 \n",
    "print(\"C:\\Download\\'hello'.py\")"
   ]
  },
  {
   "cell_type": "code",
   "execution_count": 8,
   "id": "1987be28",
   "metadata": {},
   "outputs": [
    {
     "name": "stdout",
     "output_type": "stream",
     "text": [
      "Hello\n",
      "World\n",
      "print(\"Hello\\nWorld\")\n"
     ]
    }
   ],
   "source": [
    "print(\"Hello\\nWorld\")\n",
    "print('print(\"Hello\\\\nWorld\")')"
   ]
  },
  {
   "cell_type": "code",
   "execution_count": 9,
   "id": "e43e5d9a",
   "metadata": {},
   "outputs": [
    {
     "name": "stdout",
     "output_type": "stream",
     "text": [
      "s\n",
      "s\n"
     ]
    }
   ],
   "source": [
    "c = input()\n",
    "print(c)"
   ]
  },
  {
   "cell_type": "code",
   "execution_count": 12,
   "id": "4eeeb7a2",
   "metadata": {},
   "outputs": [],
   "source": [
    "# 변수명 숫자로 시작 x : 숫자로 시작하는 단어는 수로 인식하기 때문"
   ]
  },
  {
   "cell_type": "code",
   "execution_count": 11,
   "id": "5a1857bf",
   "metadata": {},
   "outputs": [
    {
     "name": "stdout",
     "output_type": "stream",
     "text": [
      "3\n",
      "<class 'str'>\n",
      "<class 'int'>\n"
     ]
    }
   ],
   "source": [
    "# 입력받은 수는 문자, 문자열 취급되므로 수로 변환해야 함\n",
    "n = input()\n",
    "print(type(n))\n",
    "n = int(n)\n",
    "print(type(n))"
   ]
  },
  {
   "cell_type": "code",
   "execution_count": null,
   "id": "a517c7f7",
   "metadata": {},
   "outputs": [],
   "source": [
    "# 입력한 값을 원하는 형태로 계산하거나 처리하기 위해서는 \n",
    "# 입력한 값이 어떤 데이터(정수, 문자, 실수, 문자열 등)인지 명확히 구분해 주어야 한다."
   ]
  },
  {
   "cell_type": "code",
   "execution_count": 13,
   "id": "5103c555",
   "metadata": {},
   "outputs": [
    {
     "name": "stdout",
     "output_type": "stream",
     "text": [
      "3\n"
     ]
    },
    {
     "ename": "ValueError",
     "evalue": "not enough values to unpack (expected 2, got 1)",
     "output_type": "error",
     "traceback": [
      "\u001b[1;31m---------------------------------------------------------------------------\u001b[0m",
      "\u001b[1;31mValueError\u001b[0m                                Traceback (most recent call last)",
      "Cell \u001b[1;32mIn[13], line 1\u001b[0m\n\u001b[1;32m----> 1\u001b[0m a, b \u001b[38;5;241m=\u001b[39m \u001b[38;5;28minput\u001b[39m()\n\u001b[0;32m      2\u001b[0m \u001b[38;5;28mprint\u001b[39m(b, a)\n",
      "\u001b[1;31mValueError\u001b[0m: not enough values to unpack (expected 2, got 1)"
     ]
    }
   ],
   "source": [
    "a, b = input()\n",
    "print(b, a)"
   ]
  },
  {
   "cell_type": "code",
   "execution_count": 14,
   "id": "636e5895",
   "metadata": {},
   "outputs": [
    {
     "name": "stdout",
     "output_type": "stream",
     "text": [
      "3, 4\n"
     ]
    },
    {
     "ename": "ValueError",
     "evalue": "too many values to unpack (expected 2)",
     "output_type": "error",
     "traceback": [
      "\u001b[1;31m---------------------------------------------------------------------------\u001b[0m",
      "\u001b[1;31mValueError\u001b[0m                                Traceback (most recent call last)",
      "Cell \u001b[1;32mIn[14], line 1\u001b[0m\n\u001b[1;32m----> 1\u001b[0m a, b \u001b[38;5;241m=\u001b[39m \u001b[38;5;28minput\u001b[39m()\n\u001b[0;32m      2\u001b[0m \u001b[38;5;28mprint\u001b[39m(b, a)\n",
      "\u001b[1;31mValueError\u001b[0m: too many values to unpack (expected 2)"
     ]
    }
   ],
   "source": [
    "a, b = input()\n",
    "print(b, a)"
   ]
  },
  {
   "cell_type": "markdown",
   "id": "a0b9dde0",
   "metadata": {},
   "source": [
    "### ~Q.~  변수 여러 개 입력받기 A: split, map\n",
    "출처 : https://dojang.io/mod/page/view.php?id=1220\n",
    "(split 사용)\n",
    "- 변수1, 변수2 = input().split()   #공백을 기준으로 분리\n",
    "- 변수1, 변수2 = input().split(기준문자)\n",
    "- 변수1, 변수2 = input(문자열).split()\n",
    "- 변수1, 변수2 = input(문자열).split(기준문자)\n",
    "(map 사용)\n",
    "- split의 결과를 매번 int로 변환해주려니 귀찮 => map 함수 함께 사용\n",
    "- 변수1, 변수2 = map(int, input().split())\n",
    "- 변수1, 변수2 = map(int, input().split(기준문자))\n",
    "- 변수1, 변수2 = map(int, input(문자열).split())\n",
    "- 변수1, 변수2 = map(int, input(문자열).split(기준문자))"
   ]
  },
  {
   "cell_type": "code",
   "execution_count": 15,
   "id": "d39bb000",
   "metadata": {},
   "outputs": [
    {
     "name": "stdout",
     "output_type": "stream",
     "text": [
      "숫자 두 개를 입력하세요: 3 4\n",
      "7\n"
     ]
    }
   ],
   "source": [
    "a, b = map(int, input('숫자 두 개를 입력하세요: ').split())\n",
    "print(a + b)"
   ]
  },
  {
   "cell_type": "code",
   "execution_count": null,
   "id": "d9fc7756",
   "metadata": {},
   "outputs": [],
   "source": [
    "# 15번에서 나오네.."
   ]
  },
  {
   "cell_type": "code",
   "execution_count": 24,
   "id": "803b41a4",
   "metadata": {},
   "outputs": [
    {
     "name": "stdout",
     "output_type": "stream",
     "text": [
      "2:34:59\n"
     ]
    }
   ],
   "source": [
    "# print(?, ?, sep='기준문자') '기준문자'를 사이에 두고 값을 출력한다.\n",
    "print(2, 34, 59, sep=':')"
   ]
  },
  {
   "cell_type": "code",
   "execution_count": 22,
   "id": "d4ddbf57",
   "metadata": {
    "scrolled": false
   },
   "outputs": [
    {
     "ename": "SyntaxError",
     "evalue": "leading zeros in decimal integer literals are not permitted; use an 0o prefix for octal integers (3421149917.py, line 2)",
     "output_type": "error",
     "traceback": [
      "\u001b[1;36m  Cell \u001b[1;32mIn[22], line 2\u001b[1;36m\u001b[0m\n\u001b[1;33m    print(02, 34, 59, sep=':')\u001b[0m\n\u001b[1;37m          ^\u001b[0m\n\u001b[1;31mSyntaxError\u001b[0m\u001b[1;31m:\u001b[0m leading zeros in decimal integer literals are not permitted; use an 0o prefix for octal integers\n"
     ]
    }
   ],
   "source": [
    "# 정수는 0으로 시작 x\n",
    "print(02, 34, 59, sep=':')"
   ]
  },
  {
   "cell_type": "code",
   "execution_count": 28,
   "id": "f44a59c9",
   "metadata": {},
   "outputs": [
    {
     "name": "stdout",
     "output_type": "stream",
     "text": [
      "2023.05.09\n",
      "09-05-2023\n"
     ]
    }
   ],
   "source": [
    "# \"연도.월.일\"을 입력받아 \"일-월-연도\" 순서로 바꿔 출력하기\n",
    "year, month, day = input().split('.')\n",
    "print(day, month, year, sep='-')"
   ]
  },
  {
   "cell_type": "code",
   "execution_count": 29,
   "id": "cb4e1790",
   "metadata": {},
   "outputs": [
    {
     "name": "stdout",
     "output_type": "stream",
     "text": [
      "abc\n"
     ]
    },
    {
     "ename": "ValueError",
     "evalue": "empty separator",
     "output_type": "error",
     "traceback": [
      "\u001b[1;31m---------------------------------------------------------------------------\u001b[0m",
      "\u001b[1;31mValueError\u001b[0m                                Traceback (most recent call last)",
      "Cell \u001b[1;32mIn[29], line 3\u001b[0m\n\u001b[0;32m      1\u001b[0m \u001b[38;5;66;03m# 기본값은 공백이야 split() 이나 sep을 안 쓰는 것\u001b[39;00m\n\u001b[0;32m      2\u001b[0m \u001b[38;5;66;03m# 아무것도 없는 공(empty)문자는 ''으로 표현\u001b[39;00m\n\u001b[1;32m----> 3\u001b[0m a, b, c \u001b[38;5;241m=\u001b[39m \u001b[38;5;28;43minput\u001b[39;49m\u001b[43m(\u001b[49m\u001b[43m)\u001b[49m\u001b[38;5;241;43m.\u001b[39;49m\u001b[43msplit\u001b[49m\u001b[43m(\u001b[49m\u001b[38;5;124;43m'\u001b[39;49m\u001b[38;5;124;43m'\u001b[39;49m\u001b[43m)\u001b[49m\n\u001b[0;32m      4\u001b[0m \u001b[38;5;28mprint\u001b[39m(a\u001b[38;5;241m+\u001b[39mb\u001b[38;5;241m+\u001b[39mc)\n\u001b[0;32m      5\u001b[0m \u001b[38;5;28mprint\u001b[39m(a, b, c, sep\u001b[38;5;241m=\u001b[39m\u001b[38;5;124m'\u001b[39m\u001b[38;5;124m'\u001b[39m)\n",
      "\u001b[1;31mValueError\u001b[0m: empty separator"
     ]
    }
   ],
   "source": [
    "# 기본값은 공백이야 split() 이나 sep을 안 쓰는 것\n",
    "# 아무것도 없는 공(empty)문자는 ''으로 표현\n",
    "a, b, c = input().split('') # split에서는 오류나네\n",
    "print(a+b+c)\n",
    "print(a, b, c, sep='')"
   ]
  },
  {
   "cell_type": "code",
   "execution_count": 31,
   "id": "48236898",
   "metadata": {},
   "outputs": [
    {
     "name": "stdout",
     "output_type": "stream",
     "text": [
      "aaa bbbb cc\n",
      "aaabbbbcc\n"
     ]
    }
   ],
   "source": [
    "a = 'aaa'\n",
    "b = 'bbbb'\n",
    "c = 'cc'\n",
    "print(a, b, c)\n",
    "print(a, b, c, sep='')"
   ]
  },
  {
   "cell_type": "markdown",
   "id": "1f6105c0",
   "metadata": {},
   "source": [
    "## 21~40"
   ]
  },
  {
   "cell_type": "code",
   "execution_count": 1,
   "id": "4a84ade6",
   "metadata": {},
   "outputs": [
    {
     "name": "stdout",
     "output_type": "stream",
     "text": [
      "22:55:66\n",
      "55\n"
     ]
    }
   ],
   "source": [
    "h, m, s = input().split(':')\n",
    "print(m)"
   ]
  },
  {
   "cell_type": "code",
   "execution_count": 2,
   "id": "6ddbfa6d",
   "metadata": {},
   "outputs": [
    {
     "name": "stdout",
     "output_type": "stream",
     "text": [
      "hello world\n",
      "helloworld\n"
     ]
    }
   ],
   "source": [
    "w1, w2 = input().split()\n",
    "print(w1+w2)"
   ]
  },
  {
   "cell_type": "code",
   "execution_count": 15,
   "id": "7ddec69b",
   "metadata": {
    "scrolled": true
   },
   "outputs": [
    {
     "name": "stdout",
     "output_type": "stream",
     "text": [
      "12를 16진수로 표현하면 c이다.\n",
      "12를 16진수 대문자로 표현하면 C이다.\n",
      "12를 8진수로 표현하면 14이다.\n"
     ]
    }
   ],
   "source": [
    "# 16진수 : 0 1 2 3 4 5 6 7 8 9 A B C D E F 10(십진수로16) 11(십진수로17)\n",
    "# %x, %X\n",
    "a = 12\n",
    "print('12를 16진수로 표현하면 %x이다.'%a)\n",
    "print('12를 16진수 대문자로 표현하면 %X이다.'%a)\n",
    "# 8진수 %o\n",
    "print('12를 8진수로 표현하면 %o이다.'%a)"
   ]
  },
  {
   "cell_type": "code",
   "execution_count": 12,
   "id": "a5c5d32a",
   "metadata": {
    "scrolled": true
   },
   "outputs": [
    {
     "ename": "TypeError",
     "evalue": "int() can't convert non-string with explicit base",
     "output_type": "error",
     "traceback": [
      "\u001b[1;31m---------------------------------------------------------------------------\u001b[0m",
      "\u001b[1;31mTypeError\u001b[0m                                 Traceback (most recent call last)",
      "Cell \u001b[1;32mIn[12], line 2\u001b[0m\n\u001b[0;32m      1\u001b[0m \u001b[38;5;66;03m# int(문자열, 진수) 문자열이어야 함\u001b[39;00m\n\u001b[1;32m----> 2\u001b[0m b \u001b[38;5;241m=\u001b[39m \u001b[38;5;28;43mint\u001b[39;49m\u001b[43m(\u001b[49m\u001b[38;5;241;43m12\u001b[39;49m\u001b[43m,\u001b[49m\u001b[43m \u001b[49m\u001b[38;5;241;43m16\u001b[39;49m\u001b[43m)\u001b[49m\n",
      "\u001b[1;31mTypeError\u001b[0m: int() can't convert non-string with explicit base"
     ]
    }
   ],
   "source": [
    "# int(문자열, 진수) 문자열이어야 함\n",
    "b = int(12, 16)    #16진수로 \"인식\"하라는 뜻"
   ]
  },
  {
   "cell_type": "code",
   "execution_count": 14,
   "id": "41348218",
   "metadata": {},
   "outputs": [
    {
     "data": {
      "text/plain": [
       "18"
      ]
     },
     "execution_count": 14,
     "metadata": {},
     "output_type": "execute_result"
    }
   ],
   "source": [
    "# int(문자열, 진수) 문자열이어야 함\n",
    "# 12(16)은 10진법에서 18\n",
    "int('12', 16)"
   ]
  },
  {
   "cell_type": "code",
   "execution_count": 17,
   "id": "d0b4859d",
   "metadata": {
    "scrolled": false
   },
   "outputs": [
    {
     "name": "stdout",
     "output_type": "stream",
     "text": [
      "12\n",
      "18\n"
     ]
    }
   ],
   "source": [
    "c = input()\n",
    "n = int(c, 16)\n",
    "print(n)"
   ]
  },
  {
   "cell_type": "code",
   "execution_count": null,
   "id": "fed62377",
   "metadata": {},
   "outputs": [],
   "source": [
    "b = int(12, 16) #16진수로 \"인식\"하라는 뜻 \n",
    "print('12를 16진수로 표현하면 %x이다.'%b)\n",
    "# 8진수 %o\n",
    "print('12를 8진수로 표현하면 %o이다.'%b)"
   ]
  },
  {
   "cell_type": "code",
   "execution_count": 21,
   "id": "bbdad15b",
   "metadata": {},
   "outputs": [
    {
     "name": "stdout",
     "output_type": "stream",
     "text": [
      "65\n",
      "B\n"
     ]
    }
   ],
   "source": [
    "# 문자를 유니코드로 변환 ord()\n",
    "print(ord('A'))\n",
    "# 유니코드를 문자로 변환 chr()\n",
    "print(chr(66))"
   ]
  },
  {
   "cell_type": "code",
   "execution_count": 22,
   "id": "7b9e3cc6",
   "metadata": {},
   "outputs": [
    {
     "name": "stdout",
     "output_type": "stream",
     "text": [
      "-3\n"
     ]
    }
   ],
   "source": [
    "n=3\n",
    "print(-n)"
   ]
  },
  {
   "cell_type": "code",
   "execution_count": 28,
   "id": "fc1d5be8",
   "metadata": {},
   "outputs": [
    {
     "name": "stdout",
     "output_type": "stream",
     "text": [
      "d\n"
     ]
    }
   ],
   "source": [
    "# 문자의 다음 문자 출력 (유니코드 이용)\n",
    "# 문자 -> ord로 유니코드화 -> +1 -> chr로 다시 문자로\n",
    "print(chr(ord('c')+1))"
   ]
  },
  {
   "cell_type": "code",
   "execution_count": 29,
   "id": "fdda740a",
   "metadata": {},
   "outputs": [
    {
     "name": "stdout",
     "output_type": "stream",
     "text": [
      "2 2\n",
      "0\n"
     ]
    }
   ],
   "source": [
    "a, b = map(int, input().split())\n",
    "print(a-b)"
   ]
  },
  {
   "cell_type": "code",
   "execution_count": 30,
   "id": "9bd4fc25",
   "metadata": {},
   "outputs": [
    {
     "name": "stdout",
     "output_type": "stream",
     "text": [
      "test 3\n",
      "testtesttest\n"
     ]
    }
   ],
   "source": [
    "# 단어를 n번 반복\n",
    "s, n = input().split()\n",
    "print(s*int(n))"
   ]
  },
  {
   "cell_type": "code",
   "execution_count": 31,
   "id": "788e2f57",
   "metadata": {},
   "outputs": [
    {
     "data": {
      "text/plain": [
       "81"
      ]
     },
     "execution_count": 31,
     "metadata": {},
     "output_type": "execute_result"
    }
   ],
   "source": [
    "# 거듭제곱 **\n",
    "# 일반적으로 수학 식에서 거듭제곱을 표현하는 사용하는 서컴플렉스/케릿 기호(^)는 프로그래밍언어에서 다른 의미로 쓰인다.\n",
    "3**4"
   ]
  },
  {
   "cell_type": "code",
   "execution_count": 32,
   "id": "116e3d34",
   "metadata": {},
   "outputs": [
    {
     "data": {
      "text/plain": [
       "7"
      ]
     },
     "execution_count": 32,
     "metadata": {},
     "output_type": "execute_result"
    }
   ],
   "source": [
    "# 3=11(2), 4=100(2) ^연산 하면 111(2)=7\n",
    "3^4"
   ]
  },
  {
   "cell_type": "code",
   "execution_count": 33,
   "id": "cd101c65",
   "metadata": {},
   "outputs": [
    {
     "data": {
      "text/plain": [
       "3"
      ]
     },
     "execution_count": 33,
     "metadata": {},
     "output_type": "execute_result"
    }
   ],
   "source": [
    "# 몫 : //\n",
    "10//3"
   ]
  },
  {
   "cell_type": "markdown",
   "id": "99b80961",
   "metadata": {},
   "source": [
    "## 41~58"
   ]
  },
  {
   "cell_type": "code",
   "execution_count": 1,
   "id": "68c58f69",
   "metadata": {},
   "outputs": [
    {
     "name": "stdout",
     "output_type": "stream",
     "text": [
      "3.14\n"
     ]
    }
   ],
   "source": [
    "# format(수, \".2f\") 를 사용하면 원하는 자리까지의 정확도로 반올림 된 실수 값을 만들어 준다.\n",
    "# .2는 소수점 2자리를 의미 = 즉, 3번째 자리에서 반올림\n",
    "\n",
    "a = 3.141592\n",
    "print(format(a, \".2f\"))\n",
    "\n",
    "# 컴퓨터에서 실수는 근사값\n",
    "  # 실수가 컴퓨터로 저장되기 위해서는 디지털방식으로 2진 정수화되어 저장되어야 하는데,\n",
    "  # 그 과정에서 아주 작은 부분이 저장되지 않고 사라지는 잘림(truncation) 오차가 자주 발생"
   ]
  },
  {
   "cell_type": "markdown",
   "id": "cea04abb",
   "metadata": {},
   "source": [
    "### Q.  파이썬의 포매팅 기법 모으기 (뒤에서 나올 수 있으니 우선 패스)"
   ]
  },
  {
   "cell_type": "markdown",
   "id": "d689aafa",
   "metadata": {},
   "source": [
    "#### python 프로그래밍을 처음 배울 때 좋은 습관(단계)\n",
    "1. 입력된 문자열을 정확하게 잘라낸다.(공백, 줄바꿈, 구분문자 등에 따라 정확하게 잘라낸다.)\n",
    "2. 잘라낸 데이터들을 데이터형에 맞게 변환해 변수에 저장한다. (정수, 실수, 문자, 문자열 등에 따라 정확하게 변환한다.)\n",
    "3. 값을 저장했다가 다시 사용하기 위해, 변수를 이용해 값을 저장하고, 변수를 이용해 계산을 한다.\n",
    "4. 원하는 결과 값을 필요한 형태로 만들어 출력한다.(공백, 줄바꿈, 구분자, 등에 따라 원하는 형태로 만들어 출력한다.)"
   ]
  },
  {
   "cell_type": "code",
   "execution_count": 3,
   "id": "d90c3a3e",
   "metadata": {},
   "outputs": [
    {
     "name": "stdout",
     "output_type": "stream",
     "text": [
      "20\n",
      "2\n"
     ]
    }
   ],
   "source": [
    "# 비트단위 시프트연산자 <<. >>\n",
    "# 왼쪽 비트시프트 <<n : 오른쪽에 0 n개 추가\n",
    "    # 의미 : 2**n배\n",
    "# 오른쪽 비트시프트 >>n : 왼쪽에 0(양의 정수일 때) 또는 1(음의 정수일 때) n개 추가, 오른쪽 비트 n개 제거\n",
    "    # 의미 : 1/(2**n)배 => 나눴을 때의 몫을 사용하므로 이 표현은 약간 애매하네 => 2로 나누는 걸 n번 한다고 표현해야 정확할 듯\n",
    "a = 10\n",
    "print(a<<1)\n",
    "print(a>>2) # 10//2=5, 5//2=2"
   ]
  },
  {
   "cell_type": "code",
   "execution_count": 4,
   "id": "e483f86f",
   "metadata": {},
   "outputs": [
    {
     "ename": "TypeError",
     "evalue": "unsupported operand type(s) for <<: 'float' and 'int'",
     "output_type": "error",
     "traceback": [
      "\u001b[1;31m---------------------------------------------------------------------------\u001b[0m",
      "\u001b[1;31mTypeError\u001b[0m                                 Traceback (most recent call last)",
      "Cell \u001b[1;32mIn[4], line 4\u001b[0m\n\u001b[0;32m      1\u001b[0m \u001b[38;5;66;03m# python에서 실수 값에 대한 비트시프트 연산은 허용되지 않고 오류가 발생한다.\u001b[39;00m\n\u001b[0;32m      2\u001b[0m \u001b[38;5;66;03m# (실수 값도 컴퓨터 내부적으로는 2진수 형태로 저장되고 비트시프트 처리가 될 수 있지만, python 에서는 허용하지 않는다.)\u001b[39;00m\n\u001b[0;32m      3\u001b[0m a\u001b[38;5;241m=\u001b[39m\u001b[38;5;241m10.0\u001b[39m\n\u001b[1;32m----> 4\u001b[0m \u001b[38;5;28mprint\u001b[39m(\u001b[43ma\u001b[49m\u001b[38;5;241;43m<<\u001b[39;49m\u001b[38;5;241;43m1\u001b[39;49m)\n",
      "\u001b[1;31mTypeError\u001b[0m: unsupported operand type(s) for <<: 'float' and 'int'"
     ]
    }
   ],
   "source": [
    "# python에서 실수 값에 대한 비트시프트 연산은 허용되지 않고 오류가 발생한다.\n",
    "# (실수 값도 컴퓨터 내부적으로는 2진수 형태로 저장되고 비트시프트 처리가 될 수 있지만, python 에서는 허용하지 않는다.)\n",
    "a=10.0\n",
    "print(a<<1)"
   ]
  },
  {
   "cell_type": "code",
   "execution_count": 5,
   "id": "34223c9d",
   "metadata": {},
   "outputs": [
    {
     "name": "stdout",
     "output_type": "stream",
     "text": [
      "2048\n",
      "2048\n"
     ]
    }
   ],
   "source": [
    "# a에  2**b 곱한 것\n",
    "a = 2\n",
    "b = 10\n",
    "\n",
    "# 기본적으로는 얘를 떠올리겠지\n",
    "print(a*(2**b))\n",
    "\n",
    "# 시프트연산자 사용하면 깔끔\n",
    "print(a<<b)"
   ]
  },
  {
   "cell_type": "code",
   "execution_count": 8,
   "id": "a3066e9e",
   "metadata": {},
   "outputs": [
    {
     "name": "stdout",
     "output_type": "stream",
     "text": [
      "True\n",
      "False\n"
     ]
    }
   ],
   "source": [
    "# bool( ) : 입력된 식이나 값을 평가해 불 형의 값(True 또는 False)을 출력\n",
    "    # 평가 : 식이나 값을 계산해서 결과값이 만들어지는 것\n",
    "\n",
    "n = 10\n",
    "m = 0\n",
    "print(bool(n))\n",
    "print(bool(m))\n",
    "\n",
    "# python 언어에서 정수값 0은 False(거짓)로 평가되고, 그 외의 값들은 모두 True(참)로 평가된다."
   ]
  },
  {
   "attachments": {
    "pimg6217_1.png": {
     "image/png": "[encoded data removed]"
    }
   },
   "cell_type": "markdown",
   "id": "331a070a",
   "metadata": {},
   "source": [
    "![pimg6217_1.png](attachment:pimg6217_1.png)"
   ]
  },
  {
   "cell_type": "code",
   "execution_count": null,
   "id": "ec134fdb",
   "metadata": {},
   "outputs": [],
   "source": [
    "# a = bool(int(input()))  제일 안 쪽 부터 순서대로 (input( ) -> int( ) -> bool( ) ) 각각 계산/처리/평가"
   ]
  },
  {
   "cell_type": "code",
   "execution_count": 9,
   "id": "c531ecfb",
   "metadata": {},
   "outputs": [
    {
     "name": "stdout",
     "output_type": "stream",
     "text": [
      "False\n",
      "False\n",
      "True\n"
     ]
    }
   ],
   "source": [
    "# 불리언 타입의 연산자 : not, and, or\n",
    "a = True\n",
    "b = False\n",
    "print(not a)\n",
    "print(a and b)\n",
    "print(a or b)"
   ]
  },
  {
   "cell_type": "code",
   "execution_count": 12,
   "id": "22411b64",
   "metadata": {},
   "outputs": [
    {
     "name": "stdout",
     "output_type": "stream",
     "text": [
      "True\n",
      "False\n"
     ]
    }
   ],
   "source": [
    "# XOR(exclusive or, 배타적 논리합) 연산 : 참 거짓이 서로 다를 때에만 True 로 계산 ($Z_2$의 +연산이라고 생각하면 돼 0+0=0, 1+1=0)\n",
    "a = True\n",
    "b = False\n",
    "c = True\n",
    "\n",
    "# \n",
    "print((a and (not b)) or ((not a) and b))    # T+F = 1+0 = 1 = T\n",
    "print((a and (not c)) or ((not a) and c))    # T+T = 1+1 = 0 = F"
   ]
  },
  {
   "attachments": {
    "image.png": {
     "image/png": "[encoded data removed]"
    }
   },
   "cell_type": "markdown",
   "id": "493ab8a2",
   "metadata": {},
   "source": [
    "#### XOR의 벤 다이어그램 (얘가 이해가 잘 되네)\n",
    "- 'A이면서 B가 아닌 것'(왼쪽 반달) 또는 'B이면서 A가 아닌 것'(오른쪽 반달)\n",
    "<br/>\n",
    "\n",
    "![image.png](attachment:image.png)"
   ]
  },
  {
   "attachments": {
    "image.png": {
     "image/png": "[encoded data removed]"
    }
   },
   "cell_type": "markdown",
   "id": "1216bd71",
   "metadata": {},
   "source": [
    "- XOR 게이트의 진리표 : (1, 0) (왼쪽 반달) 또는 (0, 1) (오른쪽 반달) 일 때만 1(True)\n",
    "<br/>\n",
    "\n",
    "![image.png](attachment:image.png)"
   ]
  },
  {
   "attachments": {
    "image-2.png": {
     "image/png": "[encoded data removed]"
    },
    "image.png": {
     "image/png": "[encoded data removed]"
    }
   },
   "cell_type": "markdown",
   "id": "545319a1",
   "metadata": {},
   "source": [
    "- XOR 게이트의 스위치 회로 : XOR 게이트는  출력이 ‘1’이  되기  위해서는  입력이  서로  달라야  함을  나타낸다. \n",
    "<br/>\n",
    "\n",
    "![image.png](attachment:image.png)\n",
    "<br/><br/>\n",
    "- XOR 게이트의 논리식 : and(·), or(+)\n",
    "<br/>\n",
    "\n",
    "![image-2.png](attachment:image-2.png)"
   ]
  },
  {
   "attachments": {
    "image.png": {
     "image/png": "[encoded data removed]"
    }
   },
   "cell_type": "markdown",
   "id": "fd0d7447",
   "metadata": {},
   "source": [
    "- 여기서 갈로아 체 개념도 나오네\n",
    "(출처 : https://ko.wikipedia.org/wiki/%EB%B0%B0%ED%83%80%EC%A0%81_%EB%85%BC%EB%A6%AC%ED%95%A9)\n",
    "![image.png](attachment:image.png)"
   ]
  },
  {
   "cell_type": "code",
   "execution_count": 13,
   "id": "cfad146f",
   "metadata": {},
   "outputs": [],
   "source": [
    "# 벤 다이어그램 떠올리면 쉬워\n",
    "\n",
    "# 둘 다 True 일 때만 : A and B\n",
    "# 하나라도 True 일 때 : A or B\n",
    "# True/False 서로 다를 때에만 : A xor B \n",
    "# True/False 서로 같을 때에만 : (A and B) oe (notA and notB)\n",
    "# 둘 다 Flase 일 때만 : not (A or B)"
   ]
  },
  {
   "cell_type": "markdown",
   "id": "05bcdbc4",
   "metadata": {},
   "source": [
    "## 59~70"
   ]
  },
  {
   "cell_type": "markdown",
   "id": "81d03e32",
   "metadata": {},
   "source": [
    "#### 비트단위연산자 \n",
    "- ~ : bitwise not (tilde, 틸드)\n",
    "- & : bitwise and (and, ampersand, 앰퍼센드)\n",
    "- | : bitwise or (or, vertical bar, 버티컬바, 파이프(pipe) 연산자)\n",
    "- ^ : bitwise xor (xor, circumflex/caret, 서컴플렉스/카릿)\n",
    "- << : bitwise left shift\n",
    "- \\>> : bitwise right shift\n",
    "- & 연산자 : 두 개의 ip 주소를 & 연산하여 (데이터를 주고받기 위해) 같은 네트워크에 있는지 아닌지를 판단하는데 사용\n",
    "- 이러한 비트단위 연산은 빠른 계산이 필요한 그래픽처리에서 마스크연산(특정 부분을 가리고 출력하는) 수행 시 효과적으로 사용\n",
    "  - XOR : 두 장의 이미지가 겹쳐졌을 때 색이 서로 다른 부분만 처리\n",
    "  - 배경이 되는 그림과 배경 위에서 움직이는 그림이 있을 때, 두 그림에서 차이만 골라내 배경 위에서 움직이는 그림의 색으로 바꿔주면 전체 그림을 구성하는 모든 점들의 색을 다시 계산해 입히지 않고 보다 효과적으로 그림을 처리할 수 있게 되는 것이다."
   ]
  },
  {
   "attachments": {
    "pimg6224_1.png": {
     "image/png": "[encoded data removed]"
    }
   },
   "cell_type": "markdown",
   "id": "91664da3",
   "metadata": {},
   "source": [
    "**~ : bitwise not**\n",
    "- 정수를 비트단위로 NOT 연산 (참/거짓을 바꿈)\n",
    "- ~a = -(a+1)\n",
    "- **∵** 컴퓨터에서 음수는 2의 보수로 표현\n",
    "- 부호비트를 생각하면 쉬움\n",
    "- 예) $Z_8$에서 생각해보자 (0~7)\n",
    "|0~7 로 표현|0|1|2|3|4|5|6|7|\n",
    "|:---:|:---:|:---:|:---:|:---:|:---:|:---:|:---:|:---:|\n",
    "|-4~3 으로 표현|0|1|2|3|-4|-3|-2|-1|\n",
    "|2진수로 표현<br/>(부호비트)<br/>0 x x (양수)<br/>1 x x (음수)|000|001|010|011|100|101|110|111|\n",
    "|~ 관계<br/>~a = -(a+1)||||3|- 4||||\n",
    "||||2|||-3|||\n",
    "|||1|||||-2||\n",
    "||0|||||||-1|\n",
    "\n",
    "![pimg6224_1.png](attachment:pimg6224_1.png)"
   ]
  },
  {
   "cell_type": "code",
   "execution_count": 1,
   "id": "5de4fc06",
   "metadata": {},
   "outputs": [
    {
     "name": "stdout",
     "output_type": "stream",
     "text": [
      "-6\n"
     ]
    }
   ],
   "source": [
    "a = 5\n",
    "print(~a)"
   ]
  },
  {
   "cell_type": "code",
   "execution_count": 2,
   "id": "371fd3d8",
   "metadata": {},
   "outputs": [
    {
     "name": "stdout",
     "output_type": "stream",
     "text": [
      "10\n"
     ]
    }
   ],
   "source": [
    "# 3항 연산자\n",
    "# T일때 if 조건식 else F일때\n",
    "a = 10\n",
    "b = 3\n",
    "# 두 수 크기 비교 - 큰 값 출력\n",
    "c = a if(a>=b) else b\n",
    "print(c)"
   ]
  },
  {
   "cell_type": "code",
   "execution_count": null,
   "id": "869eb983",
   "metadata": {},
   "outputs": [],
   "source": [
    "# 정수 3개 크기 비교 -> 3항 연산자 중첩으로 해결\n",
    "# 순서 : ⓐ a, b 비교 -> 그 결과를 c랑 비교했을 때 -> ⓐ이 크면 ⓐ를 선택, c가 크면 c를 선택\n",
    "# 수도코드 : ⓐ if (ⓐ>=c) else c \n",
    "\n",
    "# 크기 비교해서 나열하라고 한 게 아니라, 그냥 제일 큰 걸 찾는 거니까\n",
    "\n",
    "(a if a>=b else b) if ((a if a>=b else b)>=c) else c"
   ]
  },
  {
   "cell_type": "code",
   "execution_count": 3,
   "id": "77e81742",
   "metadata": {},
   "outputs": [
    {
     "name": "stdout",
     "output_type": "stream",
     "text": [
      "방법1 :  10 7 3\n"
     ]
    }
   ],
   "source": [
    "# 그러면 크기 비교해서 나열하는 건? 내림차순 정렬\n",
    "a = 10\n",
    "b = 3\n",
    "c = 7\n",
    "\n",
    "# 방법 1 : 제일 큰 거, 제일 작은 거, 가운데 다 따로 찾기\n",
    "# 제일 큰 거 찾기\n",
    "max = (a if a>=b else b) if ((a if a>=b else b)>=c) else c\n",
    "# 제일 작은 거 찾기\n",
    "min = (a if a<=b else b) if ((a if a<=b else b)<=c) else c\n",
    "# 가운데\n",
    "mid = a+b+c-max-min\n",
    "print(\"방법1 :\", max, mid, min)\n",
    "\n",
    "# 성능 : if 분기 6번 사용"
   ]
  },
  {
   "cell_type": "code",
   "execution_count": 4,
   "id": "3d8edffe",
   "metadata": {},
   "outputs": [
    {
     "name": "stdout",
     "output_type": "stream",
     "text": [
      "[10, 7, 3]\n"
     ]
    }
   ],
   "source": [
    "a = 10\n",
    "b = 3\n",
    "c = 7\n",
    "\n",
    "# 방법2 : 3개의 수 각각 비교\n",
    "# 참고) 경우의 수는 13가지\n",
    "\n",
    "result = []\n",
    "\n",
    "if a>=b:\n",
    "    if b>=c: result = [a, b, c]    # a>=b>=c 4가지\n",
    "    elif a>=c: result = [a, c, b]  # a>=c>b  2가지\n",
    "    else: result = [c, a, b]      # c>a>=b  2가지\n",
    "# 즉, b>a\n",
    "elif a>=c: result = [b, a, c]    # b>a>=c 2가지 \n",
    "elif b>=c: result = [b. c. a]    # b>=c>a 2가지\n",
    "else: result = [c, b, a]         # c>b>a  1까지\n",
    "\n",
    "print(result)\n",
    "\n",
    "# 성능 : if분기 5번 사용 -> 더 괜춘!\n",
    "# but 코드 짜면서 실수하기 더 쉬워 ㅜㅠ"
   ]
  },
  {
   "cell_type": "markdown",
   "id": "24b2e31d",
   "metadata": {},
   "source": [
    "### Q. 둘 중 뭘 쓰는 게 더 좋은가\n",
    "- 성능 측면에서?\n",
    "- 코드 측면에서?"
   ]
  },
  {
   "cell_type": "code",
   "execution_count": null,
   "id": "4f832bc8",
   "metadata": {},
   "outputs": [],
   "source": [
    "# 짝수 판단 : a%2==0"
   ]
  },
  {
   "cell_type": "code",
   "execution_count": 6,
   "id": "d1198fde",
   "metadata": {},
   "outputs": [],
   "source": [
    "# if 문 중첩은 and 연산자로 표현 가능\n",
    "# if A:\n",
    "#    if B:\n",
    "# 는 if (A and B) 와 같다.\n",
    "\n",
    "# 하지만 방법2는 elif가 껴있어서 연산자로 리팩토링 못 해"
   ]
  },
  {
   "cell_type": "code",
   "execution_count": null,
   "id": "4cba858f",
   "metadata": {},
   "outputs": [],
   "source": [
    "# 파이썬에는 switch문 없음\n",
    "# if-elif로 구현\n",
    "# 조건(선택사항)이 너무 많다면 dictionary 이용할 수도 있겠지만\n",
    "# 참고 : https://velog.io/@jjanmo/파이썬에서-switch문을-사용하는-방법"
   ]
  },
  {
   "cell_type": "code",
   "execution_count": 10,
   "id": "ff5b0749",
   "metadata": {},
   "outputs": [
    {
     "name": "stdout",
     "output_type": "stream",
     "text": [
      "1\n",
      "winter\n",
      "winter\n"
     ]
    }
   ],
   "source": [
    "# 월 입력받아 계절 출력\n",
    "n = int(input())\n",
    "if n in [3, 4, 5]: print(\"spring\")\n",
    "elif n in [6, 7, 8]: print(\"summer\")\n",
    "elif n in [9, 10, 11]: print(\"fall\")\n",
    "elif n in [12, 1, 2]: print(\"winter\")\n",
    "else : print(\"숫자를 바르게 입력하세요.\")\n",
    "    \n",
    "# 수의 특성을 이용한 다른 코드\n",
    "if n//3==1: print(\"spring\")\n",
    "elif n//3==2: print(\"summer\")\n",
    "elif n//3==3: print(\"fall\")\n",
    "else : print(\"winter\")"
   ]
  },
  {
   "cell_type": "markdown",
   "id": "db646745",
   "metadata": {},
   "source": [
    "## 71~85"
   ]
  },
  {
   "cell_type": "code",
   "execution_count": 3,
   "id": "f1068f04",
   "metadata": {},
   "outputs": [
    {
     "ename": "SyntaxError",
     "evalue": "'function call' is an illegal expression for augmented assignment (783427540.py, line 6)",
     "output_type": "error",
     "traceback": [
      "\u001b[1;36m  Cell \u001b[1;32mIn[3], line 6\u001b[1;36m\u001b[0m\n\u001b[1;33m    ord(a)+=1 #함수에는 +=연산자 사용 못 하나 봐.\u001b[0m\n\u001b[1;37m    ^\u001b[0m\n\u001b[1;31mSyntaxError\u001b[0m\u001b[1;31m:\u001b[0m 'function call' is an illegal expression for augmented assignment\n"
     ]
    }
   ],
   "source": [
    "# 입력받은 알파벳까지 출력하기 (소문자)\n",
    "c = input(\"알파벳 소문자를 입력하세요. : \")\n",
    "a = 'a'\n",
    "while a != c:\n",
    "    print(a)\n",
    "    ord(a)+=1 #함수에는 +=연산자 사용 못 하나 봐."
   ]
  },
  {
   "cell_type": "markdown",
   "id": "c34eb94a",
   "metadata": {},
   "source": [
    "### Augmented Assignment(복합 할당) : +=. *=\n",
    "- 파이썬에서는 a+=1을 완전한   a=a+1이라 할 수 없다.\n",
    "출처 : https://velog.io/@doondoony/python-augmented-assignment-statements\n",
    "- a+=1 : a값을 한 번만 평가하여 할당. 내부적으로 \\_\\_inadd__() 메소드를 사용\n",
    "- a=a+1 : 내부적으로 \\_\\_add__() 메소드를 사용\n",
    "- 보통의 확장된 연산자는 축약 문법과 비슷하게 동작 하지만, \"가변값\"에 대한 연산 수행 시 조금 달라짐\n",
    "- 세부 내용은 지금 수준에서는 완벽한 이해 어려우니 우선 pass. 복습할 때 다시 봐보자!"
   ]
  },
  {
   "cell_type": "code",
   "execution_count": 5,
   "id": "7cbe42e5",
   "metadata": {},
   "outputs": [
    {
     "ename": "SyntaxError",
     "evalue": "invalid syntax (1846024936.py, line 2)",
     "output_type": "error",
     "traceback": [
      "\u001b[1;36m  Cell \u001b[1;32mIn[5], line 2\u001b[1;36m\u001b[0m\n\u001b[1;33m    n++\u001b[0m\n\u001b[1;37m       ^\u001b[0m\n\u001b[1;31mSyntaxError\u001b[0m\u001b[1;31m:\u001b[0m invalid syntax\n"
     ]
    }
   ],
   "source": [
    "n=3\n",
    "n++ # 증감 연산자도 없어\n",
    "print(n)"
   ]
  },
  {
   "cell_type": "code",
   "execution_count": 10,
   "id": "8b3310ce",
   "metadata": {},
   "outputs": [
    {
     "name": "stdout",
     "output_type": "stream",
     "text": [
      "알파벳 소문자를 입력하세요. : e\n",
      "a\n",
      "99\n",
      "b\n",
      "100\n",
      "c\n",
      "101\n",
      "d\n",
      "102\n",
      "e\n",
      "103\n"
     ]
    }
   ],
   "source": [
    "c = input(\"알파벳 소문자를 입력하세요. : \")\n",
    "a = 'a'\n",
    "while a <= c: # 알파벳끼리 크기비교 가능\n",
    "    print(a)\n",
    "    a=chr(ord(a)+1)\n",
    "    test=ord(a)+1\n",
    "    print(test)"
   ]
  },
  {
   "cell_type": "code",
   "execution_count": 21,
   "id": "facb7805",
   "metadata": {},
   "outputs": [
    {
     "name": "stdout",
     "output_type": "stream",
     "text": [
      "55\n",
      "1\n",
      "2\n",
      "3\n",
      "4\n",
      "5\n",
      "6\n",
      "7\n",
      "8\n",
      "9\n",
      "10\n",
      "출력 : 10\n",
      "55\n"
     ]
    }
   ],
   "source": [
    "# 1, 2, 3, ~ 을 계속 더해 나갈 때, 그 합이 입력한 정수(0~1000)보다 작을 때까지만 계속 더하기\n",
    "n = int(input())\n",
    "m=0\n",
    "sum = 0\n",
    "while sum < n:\n",
    "    m+=1\n",
    "    sum+=m\n",
    "    print(m)\n",
    "print(\"출력 :\", m)\n",
    "print(sum)"
   ]
  },
  {
   "cell_type": "code",
   "execution_count": 29,
   "id": "895d1ee3",
   "metadata": {},
   "outputs": [
    {
     "name": "stdout",
     "output_type": "stream",
     "text": [
      "A, B, C, D, E, F 중 하나를 입력하세요 :  B\n",
      "b * 1 = b\n",
      "b * 2 = 16\n",
      "b * 3 = 21\n",
      "b * 4 = 2c\n",
      "b * 5 = 37\n",
      "b * 6 = 42\n",
      "b * 7 = 4d\n",
      "b * 8 = 58\n",
      "b * 9 = 63\n",
      "b * a = 6e\n",
      "b * b = 79\n",
      "b * c = 84\n",
      "b * d = 8f\n",
      "b * e = 9a\n",
      "b * f = a5\n"
     ]
    }
   ],
   "source": [
    "# 16진수 구구단\n",
    "n = int(input(\"A, B, C, D, E, F 중 하나를 입력하세요 : \"), 16)\n",
    "\n",
    "for i in range(1, 16):\n",
    "    print(\"%x * %x = %x\"%(n, i, n*i))"
   ]
  },
  {
   "cell_type": "code",
   "execution_count": 27,
   "id": "bed8cfae",
   "metadata": {},
   "outputs": [
    {
     "name": "stdout",
     "output_type": "stream",
     "text": [
      "e + 3\n"
     ]
    }
   ],
   "source": [
    "a = 14\n",
    "n = 3\n",
    "print(\"%x + %x\" %(a, n))"
   ]
  },
  {
   "cell_type": "code",
   "execution_count": 32,
   "id": "e1f7c3a3",
   "metadata": {},
   "outputs": [
    {
     "name": "stdout",
     "output_type": "stream",
     "text": [
      "1 2 X 4 5 X 7 8 X 10 11 12 X 14 15 X 17 18 X 20 21 22 X 24 25 X 27 28 X "
     ]
    }
   ],
   "source": [
    "# 369게임. 1의 자리 뿐만 아니라 10의 자리까지 확인\n",
    "          # 33이어도 박수 한 번만 치는 버전으로\n",
    "n= 29  # 30보다 작은 정수\n",
    "X = [3, 6, 9]\n",
    "for i in range(1, n+1):\n",
    "    if (i%10 in X) or (i/10 in X) : # 사실 30미만의 수를 받기 때문에 십의 자리가 3, 6, 9 가 될 일은 없으니 i/10 in X는 없애도 되긴 함\n",
    "        print('X', end=' ')\n",
    "    else :\n",
    "        print(i, end=' ')"
   ]
  },
  {
   "cell_type": "code",
   "execution_count": 35,
   "id": "99b57d26",
   "metadata": {},
   "outputs": [
    {
     "name": "stdout",
     "output_type": "stream",
     "text": [
      "2 2 2\n",
      "0 0 0\n",
      "0 0 1\n",
      "0 1 0\n",
      "0 1 1\n",
      "1 0 0\n",
      "1 0 1\n",
      "1 1 0\n",
      "1 1 1\n",
      "8\n"
     ]
    }
   ],
   "source": [
    "# 빛 섞어 색 만들기\n",
    "r, g, b = map(int, input().split())\n",
    "cnt = 0\n",
    "for i in range(r):\n",
    "    for j in range(g):\n",
    "        for k in range(b):\n",
    "            print(i, j, k)\n",
    "            cnt+=1\n",
    "print(cnt)"
   ]
  },
  {
   "cell_type": "code",
   "execution_count": 41,
   "id": "7c3963bb",
   "metadata": {},
   "outputs": [
    {
     "name": "stdout",
     "output_type": "stream",
     "text": [
      "1.7 MB\n"
     ]
    }
   ],
   "source": [
    "# 소리 파일 저장용량 계산\n",
    "\n",
    "# PCM 방법 (*.wav파일) \n",
    "# h : 1초 동안 마이크로 소리강약을 체크하는 횟수 (헤르쯔, Hz 는 1초에 몇 번?)\n",
    "# b :한 번 체크한 값을 저장할 때 사용하는 비트수 (1비트를 사용하면 0 또는 1 두 가지, 16비트를 사용하면 2**16가지..)\n",
    "# c :좌우 등 소리를 저장할 트랙 개수인 채널 개수 (모노는 1개, 스테레오는 2개의 트랙으로 저장함을 의미)\n",
    "# s : 녹음할 시간(초)\n",
    "# 예) 일반적인 CD 음질(44.1KHz, 16bit, 스테레오)로 1초 동안 저장하려면 44100 * 16 * 2 * 1 bit의 저장공간 필요\n",
    "      # 44100*16*2*1/8(비트)/1024(바이트)/1024(키로바이트) 로 계산하면 약 0.168 MB(메가바이트) \n",
    "# 8bit = 1byte, 1024byte = 1KB, 키로->메가->기가->테라\n",
    "h = 44100\n",
    "b = 16\n",
    "c = 2\n",
    "s = 10\n",
    "result = h*b*c*s/8/1024/1024\n",
    "print(\"%.1f\"%result, \"MB\")"
   ]
  },
  {
   "cell_type": "code",
   "execution_count": null,
   "id": "5a6bc4f5",
   "metadata": {},
   "outputs": [],
   "source": [
    "# 그림 파일 저장용량 계산\n",
    "\n",
    "# 비트맵 방식, 래스터 방식 (*.bmp 파일)\n",
    "# 그림을 구성하는 한 점(pixel, 픽셀)의 색상을 빨강(r), 초록(g), 파랑(b)의 3가지의 빛의 세기 값으로 따로 변환하여 저장\n",
    "# r, g, b 각 색에 대해서 8비트(0~255, 256가지 가능)씩을 사용 => 한 점의 색상은 8+8+8=24비트로 표현 => 2**24가지\n",
    "# w : 가로 해상도\n",
    "# h : 세로 해상도\n",
    "# b : 한 픽셀을 저장하기 위한 비트\n",
    "# 예) 일반적인 1024 * 768 사이즈(해상도)의 각 점에 대해 24비트(rgb 각각 8비트씩 3개)로 저장하려면 1024 * 768 * 24 bit의 저장공간 필요\n",
    "      # 1024*768*24/8(비트)/1024(바이트)/1024(키로바이트) 로 계산하면 약 2.25 MB(메가바이트)"
   ]
  },
  {
   "cell_type": "markdown",
   "id": "d95e036a",
   "metadata": {},
   "source": [
    "## 86~91"
   ]
  },
  {
   "cell_type": "code",
   "execution_count": 2,
   "id": "70d7eaa4",
   "metadata": {},
   "outputs": [
    {
     "name": "stdout",
     "output_type": "stream",
     "text": [
      "13\n",
      "13\n"
     ]
    }
   ],
   "source": [
    "# 88\n",
    "# 등차수열\n",
    "a = 1 # 시작값\n",
    "d = 3 # 등차값\n",
    "n = 5 # 몇 번째 수인지\n",
    "cnt = 1\n",
    "sum1, sum2 = 0, 0\n",
    "\n",
    "# 그냥 수식으로...\n",
    "sum1 = a+(n-1)*d\n",
    "print(sum1)\n",
    "\n",
    "# while문으로\n",
    "sum2 = a\n",
    "while cnt<n :\n",
    "    sum2+=d\n",
    "    cnt+=1\n",
    "print(sum2)"
   ]
  },
  {
   "cell_type": "code",
   "execution_count": 9,
   "id": "477846d4",
   "metadata": {
    "scrolled": true
   },
   "outputs": [
    {
     "name": "stdout",
     "output_type": "stream",
     "text": [
      "1 -2 1 8\n",
      "-85\n"
     ]
    }
   ],
   "source": [
    "# 90\n",
    "# 시작 값(a), 곱할 값(m), 더할 값(d), 몇 번째 인지를 나타내는 정수(n)가 공백을 두고 입력된다.\n",
    "# (a, m, d는 -50 ~ +50, n은 10이하의 자연수)\n",
    "# a -> m*a+d\n",
    "a = 1\n",
    "m = -2\n",
    "d = 1\n",
    "n = 8\n",
    "\n",
    "# 진짜 수열처럼 처리\n",
    "a, m, d, n = map(int, input().split())\n",
    "x = a\n",
    "for _ in range(n-1):\n",
    "    x = m*x+d\n",
    "print(x)"
   ]
  },
  {
   "cell_type": "code",
   "execution_count": 15,
   "id": "b710e322",
   "metadata": {},
   "outputs": [
    {
     "name": "stdout",
     "output_type": "stream",
     "text": [
      "63\n",
      "63\n"
     ]
    }
   ],
   "source": [
    "# 91\n",
    "# 로그인 날짜가 다른 3명이 다시 함께 로그인하게 되는 날은? \n",
    "# 세 수의 최소공배수\n",
    "a=3\n",
    "b=7\n",
    "c=9\n",
    "\n",
    "# 최소공배수 구하는 수학적 공식을 코드로 변경하려면 - 소인수분해부터 만들어야 해 - 복잡\n",
    "# 그냥 개념으로 접근하면 : 가장 작은 공배수 = 수를 키워보면서 모두의 배수가 되는 최초의 순간에 멈추면 돼\n",
    "#a, b, c = map(int, input().split())\n",
    "l = 1\n",
    "while True:\n",
    "    if l%a==0 and l%b==0 and l%c==0:\n",
    "        break\n",
    "    l+=1\n",
    "print(l)\n",
    "\n",
    "#a, b, c = map(int, input().split())\n",
    "l = 1\n",
    "while l%a!=0 or l%b!=0 or l%c!=0:\n",
    "    l+=1\n",
    "print(l)"
   ]
  },
  {
   "cell_type": "markdown",
   "id": "37727945",
   "metadata": {},
   "source": [
    "## 92~96"
   ]
  },
  {
   "cell_type": "code",
   "execution_count": 4,
   "id": "5f675835",
   "metadata": {},
   "outputs": [
    {
     "name": "stdout",
     "output_type": "stream",
     "text": [
      "1 2 3 4\n",
      "[1, 2, 3, 4]\n"
     ]
    }
   ],
   "source": [
    "# 공백으로 입력받은 값들을 리스트로\n",
    "arr = list(map(int, input().split()))\n",
    "print(arr)"
   ]
  },
  {
   "cell_type": "code",
   "execution_count": 7,
   "id": "25f4bf48",
   "metadata": {},
   "outputs": [
    {
     "name": "stdout",
     "output_type": "stream",
     "text": [
      "1 1 2 2 1 1 1 1 \n",
      "1 2 1 1 2 1 1 0 1 0 0 0 0 0 0 0 0 0 0 0 0 0 0 "
     ]
    }
   ],
   "source": [
    "# 92\n",
    "# 출석 번호를 n번 무작위로 불렀을 때, 각 번호(1 ~ 23)가 불린 횟수를 각각 출력\n",
    "# 입력 : 첫 줄 : 출석 번호를 부른 횟수 n(1 ~ 10000), 둘째 줄 : 무작위로 부른 n개의 번호(1 ~ 23)가 공백을 두고 순서대로 입력\n",
    "# 출력 : 1번부터 번호가 불린 횟수를 순서대로 공백으로 구분하여 한 줄로 출력한다.\n",
    "from collections import defaultdict\n",
    "\n",
    "n = 10\n",
    "call = [1, 3, 2, 2, 5, 6, 7, 4, 5, 9]\n",
    "dic = defaultdict(int)\n",
    "\n",
    "for i in call :\n",
    "    dic[i]+=1\n",
    "# 이러면 출석 안 불렀던 애들은 안 떠\n",
    "for i in dic :\n",
    "    print(dic[i], end=' ')\n",
    "print()\n",
    "# range로 모두 불러줘야 해\n",
    "for i in range(1, 24) :\n",
    "    print(dic[i], end=' ')"
   ]
  },
  {
   "cell_type": "code",
   "execution_count": 11,
   "id": "98bffd18",
   "metadata": {
    "scrolled": true
   },
   "outputs": [
    {
     "name": "stdout",
     "output_type": "stream",
     "text": [
      "5\n",
      "1 1\n",
      "[[1, 1]]\n",
      "2 2\n",
      "[[1, 1], [2, 2]]\n",
      "3 3\n",
      "[[1, 1], [2, 2], [3, 3]]\n",
      "4 4\n",
      "[[1, 1], [2, 2], [3, 3], [4, 4]]\n",
      "5 5\n",
      "[[1, 1], [2, 2], [3, 3], [4, 4], [5, 5]]\n"
     ]
    }
   ],
   "source": [
    "#95\n",
    "# 바둑판(19 * 19)에 n개의 흰 돌 놓기\n",
    "# 입력 : 첫 줄 : 흰 돌 개수(n), 둘째 줄 부터 n+1 번째 줄까지 : 흰 돌을 놓을 좌표(x, y)가 n줄 입력된다.\n",
    "# 1<= n <=10, x, y 좌표는 1 ~ 19 까지, 똑같은 좌표는 입력되지 않는다.\n",
    "\n",
    "# 입력값 의도대로 잘 들어가는지 테스트\n",
    "n = int(input())\n",
    "arr = []\n",
    "for _ in range(n):\n",
    "    a, b = map(int, input().split())\n",
    "    arr.append([a, b])\n",
    "    print(arr)"
   ]
  },
  {
   "cell_type": "code",
   "execution_count": 14,
   "id": "7f5c21d5",
   "metadata": {},
   "outputs": [],
   "source": [
    "n=5\n",
    "arr = [[1, 1], [2, 2], [3, 3], [4, 4], [5, 5]]\n",
    "\n",
    "# 바둑판 초기화\n",
    "\n",
    "# 원초적인 방법\n",
    "arr1 = []\n",
    "for i in range(20):\n",
    "    arr1.append([])\n",
    "    for j in range(20):\n",
    "        arr1[i].append(0)\n",
    "\n",
    "# 리스트 컴프리헨션 사용\n",
    "# [0]*19 자리를 for문으로 넣는다면\n",
    "# [[0 for j in range(20)] for i in range(20)]\n",
    "\n",
    "arr2 = [[0]*19 for _ in range(20)]"
   ]
  },
  {
   "cell_type": "code",
   "execution_count": 19,
   "id": "3620ed13",
   "metadata": {},
   "outputs": [
    {
     "name": "stdout",
     "output_type": "stream",
     "text": [
      "1 0 0 0 0 0 0 0 0 0 0 0 0 0 0 0 0 0 0 \n",
      "0 1 0 0 0 0 0 0 0 0 0 0 0 0 0 0 0 0 0 \n",
      "0 0 1 0 0 0 0 0 0 0 0 0 0 0 0 0 0 0 0 \n",
      "0 0 0 1 0 0 0 0 0 0 0 0 0 0 0 0 0 0 0 \n",
      "0 0 0 0 1 0 0 0 0 0 0 0 0 0 0 0 0 0 0 \n",
      "0 0 0 0 0 0 0 0 0 0 0 0 0 0 0 0 0 0 0 \n",
      "0 0 0 0 0 0 0 0 0 0 0 0 0 0 0 0 0 0 0 \n",
      "0 0 0 0 0 0 0 0 0 0 0 0 0 0 0 0 0 0 0 \n",
      "0 0 0 0 0 0 0 0 0 0 0 0 0 0 0 0 0 0 0 \n",
      "0 0 0 0 0 0 0 0 0 0 0 0 0 0 0 0 0 0 0 \n",
      "0 0 0 0 0 0 0 0 0 0 0 0 0 0 0 0 0 0 0 \n",
      "0 0 0 0 0 0 0 0 0 0 0 0 0 0 0 0 0 0 0 \n",
      "0 0 0 0 0 0 0 0 0 0 0 0 0 0 0 0 0 0 0 \n",
      "0 0 0 0 0 0 0 0 0 0 0 0 0 0 0 0 0 0 0 \n",
      "0 0 0 0 0 0 0 0 0 0 0 0 0 0 0 0 0 0 0 \n",
      "0 0 0 0 0 0 0 0 0 0 0 0 0 0 0 0 0 0 0 \n",
      "0 0 0 0 0 0 0 0 0 0 0 0 0 0 0 0 0 0 0 \n",
      "0 0 0 0 0 0 0 0 0 0 0 0 0 0 0 0 0 0 0 \n",
      "0 0 0 0 0 0 0 0 0 0 0 0 0 0 0 0 0 0 0 \n",
      "0 0 0 0 0 0 0 0 0 0 0 0 0 0 0 0 0 0 0 \n"
     ]
    }
   ],
   "source": [
    "# 최종 풀이\n",
    "n=5\n",
    "arr = [[1, 1], [2, 2], [3, 3], [4, 4], [5, 5]]\n",
    "arr2 = [[0]*19 for _ in range(20)]\n",
    "\n",
    "for i, j in arr :\n",
    "    arr2[i-1][j-1]=1\n",
    "\n",
    "# 출력\n",
    "for i in arr2:\n",
    "    for j in i:\n",
    "        print(j, end=' ')\n",
    "    print()"
   ]
  },
  {
   "cell_type": "code",
   "execution_count": 9,
   "id": "b3be2fbe",
   "metadata": {},
   "outputs": [
    {
     "data": {
      "text/plain": [
       "[1, 2, 3, 4]"
      ]
     },
     "execution_count": 9,
     "metadata": {},
     "output_type": "execute_result"
    }
   ],
   "source": [
    "arr=[1, 2, 3]\n",
    "arr+=[4]\n",
    "arr"
   ]
  },
  {
   "cell_type": "code",
   "execution_count": 17,
   "id": "dc4afea2",
   "metadata": {},
   "outputs": [
    {
     "name": "stdout",
     "output_type": "stream",
     "text": [
      "1 2\n",
      "3 4\n",
      "5 6\n"
     ]
    }
   ],
   "source": [
    "arr=[[1, 2], [3, 4], (5, 6)]\n",
    "for i,j in arr:\n",
    "    print(i, j)"
   ]
  },
  {
   "cell_type": "markdown",
   "id": "2e808a47",
   "metadata": {},
   "source": [
    "### 비트를 토글하는 방법\n",
    "- 출처 : https://blog.naver.com/tipsware/222070621264\n",
    "- XOR 연산\n",
    "  - x ^ 0 : 값 유지 (0^0=0, 1^0=1)\n",
    "  - x ^ 1 : 값 반전 (0^1=1, 1^1=0)"
   ]
  },
  {
   "cell_type": "code",
   "execution_count": 26,
   "id": "8c52c9c2",
   "metadata": {},
   "outputs": [
    {
     "name": "stdout",
     "output_type": "stream",
     "text": [
      "[0, 0, 0, 0, 0, 0, 0, 0, 0, 0, 1, 0, 1, 0, 0, 0, 0, 0, 0, 0]\n",
      "[0, 0, 0, 0, 0, 0, 0, 0, 0, 0, 1, 0, 1, 0, 0, 0, 0, 0, 0, 0]\n",
      "[0, 0, 0, 0, 0, 0, 0, 0, 0, 0, 1, 0, 1, 0, 0, 0, 0, 0, 0, 0]\n",
      "[0, 0, 0, 0, 0, 0, 0, 0, 0, 0, 1, 0, 1, 0, 0, 0, 0, 0, 0, 0]\n",
      "[0, 0, 0, 0, 0, 0, 0, 0, 0, 0, 1, 0, 1, 0, 0, 0, 0, 0, 0, 0]\n",
      "[0, 0, 0, 0, 0, 0, 0, 0, 0, 0, 1, 0, 1, 0, 0, 0, 0, 0, 0, 0]\n",
      "[0, 0, 0, 0, 0, 0, 0, 0, 0, 0, 1, 0, 1, 0, 0, 0, 0, 0, 0, 0]\n",
      "[0, 0, 0, 0, 0, 0, 0, 0, 0, 0, 1, 0, 1, 0, 0, 0, 0, 0, 0, 0]\n",
      "[0, 0, 0, 0, 0, 0, 0, 0, 0, 0, 1, 0, 1, 0, 0, 0, 0, 0, 0, 0]\n",
      "[0, 0, 0, 0, 0, 0, 0, 0, 0, 0, 1, 0, 1, 0, 0, 0, 0, 0, 0, 0]\n",
      "[1, 1, 1, 1, 1, 1, 1, 1, 1, 1, 1, 1, 1, 1, 1, 1, 1, 1, 1, 1]\n",
      "[0, 0, 0, 0, 0, 0, 0, 0, 0, 0, 1, 0, 1, 0, 0, 0, 0, 0, 0, 0]\n",
      "[1, 1, 1, 1, 1, 1, 1, 1, 1, 1, 1, 1, 1, 1, 1, 1, 1, 1, 1, 1]\n",
      "[0, 0, 0, 0, 0, 0, 0, 0, 0, 0, 1, 0, 1, 0, 0, 0, 0, 0, 0, 0]\n",
      "[0, 0, 0, 0, 0, 0, 0, 0, 0, 0, 1, 0, 1, 0, 0, 0, 0, 0, 0, 0]\n",
      "[0, 0, 0, 0, 0, 0, 0, 0, 0, 0, 1, 0, 1, 0, 0, 0, 0, 0, 0, 0]\n",
      "[0, 0, 0, 0, 0, 0, 0, 0, 0, 0, 1, 0, 1, 0, 0, 0, 0, 0, 0, 0]\n",
      "[0, 0, 0, 0, 0, 0, 0, 0, 0, 0, 1, 0, 1, 0, 0, 0, 0, 0, 0, 0]\n",
      "[0, 0, 0, 0, 0, 0, 0, 0, 0, 0, 1, 0, 1, 0, 0, 0, 0, 0, 0, 0]\n",
      "[0, 0, 0, 0, 0, 0, 0, 0, 0, 0, 1, 0, 1, 0, 0, 0, 0, 0, 0, 0]\n",
      "============================================================\n",
      "[0, 0, 0, 0, 0, 0, 0, 0, 0, 0, 0, 0, 0, 0, 0, 0, 0, 0, 0, 0]\n",
      "[0, 0, 0, 0, 0, 0, 0, 0, 0, 0, 0, 0, 0, 0, 0, 0, 0, 0, 0, 0]\n",
      "[0, 0, 0, 0, 0, 0, 0, 0, 0, 0, 0, 0, 0, 0, 0, 0, 0, 0, 0, 0]\n",
      "[0, 0, 0, 0, 0, 0, 0, 0, 0, 0, 0, 0, 0, 0, 0, 0, 0, 0, 0, 0]\n",
      "[0, 0, 0, 0, 0, 0, 0, 0, 0, 0, 0, 0, 0, 0, 0, 0, 0, 0, 0, 0]\n",
      "[0, 0, 0, 0, 0, 0, 0, 0, 0, 0, 0, 0, 0, 0, 0, 0, 0, 0, 0, 0]\n",
      "[0, 0, 0, 0, 0, 0, 0, 0, 0, 0, 0, 0, 0, 0, 0, 0, 0, 0, 0, 0]\n",
      "[0, 0, 0, 0, 0, 0, 0, 0, 0, 0, 0, 0, 0, 0, 0, 0, 0, 0, 0, 0]\n",
      "[0, 0, 0, 0, 0, 0, 0, 0, 0, 0, 0, 0, 0, 0, 0, 0, 0, 0, 0, 0]\n",
      "[0, 0, 0, 0, 0, 0, 0, 0, 0, 0, 0, 0, 0, 0, 0, 0, 0, 0, 0, 0]\n",
      "[0, 0, 0, 0, 0, 0, 0, 0, 0, 0, 0, 0, 0, 0, 0, 0, 0, 0, 0, 0]\n",
      "[0, 0, 0, 0, 0, 0, 0, 0, 0, 0, 0, 0, 0, 0, 0, 0, 0, 0, 0, 0]\n",
      "[0, 0, 0, 0, 0, 0, 0, 0, 0, 0, 0, 0, 0, 0, 0, 0, 0, 0, 0, 0]\n",
      "[0, 0, 0, 0, 0, 0, 0, 0, 0, 0, 0, 0, 0, 0, 0, 0, 0, 0, 0, 0]\n",
      "[0, 0, 0, 0, 0, 0, 0, 0, 0, 0, 0, 0, 0, 0, 0, 0, 0, 0, 0, 0]\n",
      "[0, 0, 0, 0, 0, 0, 0, 0, 0, 0, 0, 0, 0, 0, 0, 0, 0, 0, 0, 0]\n",
      "[0, 0, 0, 0, 0, 0, 0, 0, 0, 0, 0, 0, 0, 0, 0, 0, 0, 0, 0, 0]\n",
      "[0, 0, 0, 0, 0, 0, 0, 0, 0, 0, 0, 0, 0, 0, 0, 0, 0, 0, 0, 0]\n",
      "[0, 0, 0, 0, 0, 0, 0, 0, 0, 0, 0, 0, 0, 0, 0, 0, 0, 0, 0, 0]\n",
      "[0, 0, 0, 0, 0, 0, 0, 0, 0, 0, 0, 0, 0, 0, 0, 0, 0, 0, 0, 0]\n"
     ]
    }
   ],
   "source": [
    "# 96\n",
    "# 바둑알 십자 뒤집기\n",
    "# 입력 : 1 바둑판, 2 뒤집기 횟수 n, 뒤집을 중심 좌표 n개\n",
    "\n",
    "# 입력 바둑판 : 10, 12은 1을 넣고, 나머지는 0인 배열\n",
    "arr = []\n",
    "for i in range(20):\n",
    "    arr.append([])\n",
    "    for j in range(20):\n",
    "        k = 1 if i in [10, 12] or j in [10, 12] else 0\n",
    "        arr[i].append(k)\n",
    "for ar in arr :\n",
    "    print(ar)\n",
    "print('============================================================')\n",
    "n = 2\n",
    "turn = [[10, 10], [12, 12]] # n의 개수에 맞춰서 구성되겠지\n",
    "i_turn = [ i[0] for i in turn ]\n",
    "j_turn = [ i[1] for i in turn ]\n",
    "\n",
    "for i in range(20):\n",
    "    for j in range(20):\n",
    "        if i in i_turn or j in j_turn: # 오답 : 또는(or)으로 처리하니까 둘 다 만족하는 경우에도 한 번만 실행\n",
    "            arr[i][j] = arr[i][j]^1\n",
    "for ar in arr :\n",
    "    print(ar)"
   ]
  },
  {
   "cell_type": "code",
   "execution_count": 27,
   "id": "c8306987",
   "metadata": {},
   "outputs": [
    {
     "name": "stdout",
     "output_type": "stream",
     "text": [
      "[0, 0, 0, 0, 0, 0, 0, 0, 0, 0, 0, 0, 0, 0, 0, 0, 0, 0, 0, 0]\n",
      "[0, 0, 0, 0, 0, 0, 0, 0, 0, 0, 0, 0, 0, 0, 0, 0, 0, 0, 0, 0]\n",
      "[0, 0, 0, 0, 0, 0, 0, 0, 0, 0, 0, 0, 0, 0, 0, 0, 0, 0, 0, 0]\n",
      "[0, 0, 0, 0, 0, 0, 0, 0, 0, 0, 0, 0, 0, 0, 0, 0, 0, 0, 0, 0]\n",
      "[0, 0, 0, 0, 0, 0, 0, 0, 0, 0, 0, 0, 0, 0, 0, 0, 0, 0, 0, 0]\n",
      "[0, 0, 0, 0, 0, 0, 0, 0, 0, 0, 0, 0, 0, 0, 0, 0, 0, 0, 0, 0]\n",
      "[0, 0, 0, 0, 0, 0, 0, 0, 0, 0, 0, 0, 0, 0, 0, 0, 0, 0, 0, 0]\n",
      "[0, 0, 0, 0, 0, 0, 0, 0, 0, 0, 0, 0, 0, 0, 0, 0, 0, 0, 0, 0]\n",
      "[0, 0, 0, 0, 0, 0, 0, 0, 0, 0, 0, 0, 0, 0, 0, 0, 0, 0, 0, 0]\n",
      "[0, 0, 0, 0, 0, 0, 0, 0, 0, 0, 0, 0, 0, 0, 0, 0, 0, 0, 0, 0]\n",
      "[0, 0, 0, 0, 0, 0, 0, 0, 0, 0, 1, 0, 1, 0, 0, 0, 0, 0, 0, 0]\n",
      "[0, 0, 0, 0, 0, 0, 0, 0, 0, 0, 0, 0, 0, 0, 0, 0, 0, 0, 0, 0]\n",
      "[0, 0, 0, 0, 0, 0, 0, 0, 0, 0, 1, 0, 1, 0, 0, 0, 0, 0, 0, 0]\n",
      "[0, 0, 0, 0, 0, 0, 0, 0, 0, 0, 0, 0, 0, 0, 0, 0, 0, 0, 0, 0]\n",
      "[0, 0, 0, 0, 0, 0, 0, 0, 0, 0, 0, 0, 0, 0, 0, 0, 0, 0, 0, 0]\n",
      "[0, 0, 0, 0, 0, 0, 0, 0, 0, 0, 0, 0, 0, 0, 0, 0, 0, 0, 0, 0]\n",
      "[0, 0, 0, 0, 0, 0, 0, 0, 0, 0, 0, 0, 0, 0, 0, 0, 0, 0, 0, 0]\n",
      "[0, 0, 0, 0, 0, 0, 0, 0, 0, 0, 0, 0, 0, 0, 0, 0, 0, 0, 0, 0]\n",
      "[0, 0, 0, 0, 0, 0, 0, 0, 0, 0, 0, 0, 0, 0, 0, 0, 0, 0, 0, 0]\n",
      "[0, 0, 0, 0, 0, 0, 0, 0, 0, 0, 0, 0, 0, 0, 0, 0, 0, 0, 0, 0]\n"
     ]
    }
   ],
   "source": [
    "arr = []\n",
    "for i in range(20):\n",
    "    arr.append([])\n",
    "    for j in range(20):\n",
    "        k = 1 if i in [10, 12] or j in [10, 12] else 0\n",
    "        arr[i].append(k)\n",
    "\n",
    "n = 2\n",
    "turn = [[10, 10], [12, 12]] # n의 개수에 맞춰서 구성되겠지\n",
    "i_turn = [ i[0] for i in turn ]\n",
    "j_turn = [ i[1] for i in turn ]\n",
    "\n",
    "for i in range(20):\n",
    "    for j in range(20):\n",
    "        if i in i_turn:\n",
    "            arr[i][j] ^=1\n",
    "        if j in j_turn:\n",
    "            arr[i][j] ^=1\n",
    "for ar in arr :\n",
    "    print(ar)"
   ]
  },
  {
   "cell_type": "code",
   "execution_count": 30,
   "id": "eb31dd1d",
   "metadata": {
    "scrolled": true
   },
   "outputs": [
    {
     "name": "stdout",
     "output_type": "stream",
     "text": [
      "1\n"
     ]
    }
   ],
   "source": [
    "a = 0\n",
    "a^=1\n",
    "print(a)"
   ]
  },
  {
   "cell_type": "code",
   "execution_count": 42,
   "id": "d96693b6",
   "metadata": {
    "scrolled": true
   },
   "outputs": [
    {
     "name": "stdout",
     "output_type": "stream",
     "text": [
      "[1, 1, 0, 0, 0]\n",
      "[0, 0, 1, 0, 1]\n",
      "[0, 0, 1, 0, 1]\n",
      "[0, 0, 1, 0, 1]\n",
      "[0, 0, 0, 0, 1]\n"
     ]
    }
   ],
   "source": [
    "#97\n",
    "# 설탕과자 뽑기\n",
    "# 입력 : 격자판의 세로(h), 가로(w) (1 <= w, h <= 100), 막대의 개수(n)(1 <= n <= 10)\n",
    "        # 각 막대의 길이(l), 방향(d)(가로 0 or 세로1), 좌표(x, y) (1 <= x <= 100-h, 1 <= y <= 100-w) \n",
    "# 출력 : 막대에 의해 가려진 경우 1, 아닌 경우 0으로 출력한다. 공백으로 구분\n",
    "\n",
    "h, w = 5, 5\n",
    "arr = [[0]*w for _ in range(h)]\n",
    "n = 3\n",
    "# 입력받는다면\n",
    "#for _ in range(n):\n",
    "#    tmp = list(map(int, input().split()))\n",
    "#    ldxy.append(tmp)\n",
    "#    print(ldxy)\n",
    "ldxy = [[2, 0, 1, 1], [3, 1, 2, 3], [4, 1, 2, 5]]\n",
    "\n",
    "for bar in ldxy :\n",
    "    #print(\"막대 시작\")\n",
    "    l, d, x, y = bar[0], bar[1], bar[2]-1, bar[3]-1    # x,y가 1에서 시작하는 좌표이므로 인덱스 상으로는 -1 해줘야 함\n",
    "    if d == 0 :\n",
    "        for i in range(l):\n",
    "            arr[x][y+i]=1\n",
    "    #        print(\"가로로 : \", x, y+i)\n",
    "    else :\n",
    "        for i in range(l):\n",
    "            arr[x+i][y]=1\n",
    "    #        print(\"세로로 : \", x+i, y)\n",
    "    #print(\"막대 끝\")\n",
    "            \n",
    "for ar in arr :\n",
    "    print(ar)"
   ]
  },
  {
   "attachments": {
    "pimg6262_2.png": {
     "image/png": "[encoded data removed]"
    }
   },
   "cell_type": "markdown",
   "id": "cd876d21",
   "metadata": {},
   "source": [
    "![pimg6262_2.png](attachment:pimg6262_2.png)"
   ]
  },
  {
   "cell_type": "code",
   "execution_count": 49,
   "id": "5be5e952",
   "metadata": {},
   "outputs": [
    {
     "name": "stdout",
     "output_type": "stream",
     "text": [
      "[1, 1, 1, 1, 1, 1, 1, 1, 1, 1]\n",
      "[1, 0, 0, 1, 0, 0, 0, 0, 0, 1]\n",
      "[1, 0, 0, 1, 1, 1, 0, 0, 0, 1]\n",
      "[1, 0, 0, 0, 0, 0, 0, 1, 0, 1]\n",
      "[1, 0, 0, 0, 0, 0, 0, 1, 0, 1]\n",
      "[1, 0, 0, 0, 0, 1, 0, 1, 0, 1]\n",
      "[1, 0, 0, 0, 0, 1, 2, 1, 0, 1]\n",
      "[1, 0, 0, 0, 0, 1, 0, 0, 0, 1]\n",
      "[1, 0, 0, 0, 0, 0, 0, 0, 0, 1]\n",
      "[1, 1, 1, 1, 1, 1, 1, 1, 1, 1]\n",
      "============================================================\n",
      "[1, 1, 1, 1, 1, 1, 1, 1, 1, 1]\n",
      "[1, 9, 9, 1, 0, 0, 0, 0, 0, 1]\n",
      "[1, 0, 9, 1, 1, 1, 0, 0, 0, 1]\n",
      "[1, 0, 9, 9, 9, 9, 9, 1, 0, 1]\n",
      "[1, 0, 0, 0, 0, 0, 9, 1, 0, 1]\n",
      "[1, 0, 0, 0, 0, 1, 9, 1, 0, 1]\n",
      "[1, 0, 0, 0, 0, 1, 2, 1, 0, 1]\n",
      "[1, 0, 0, 0, 0, 1, 0, 0, 0, 1]\n",
      "[1, 0, 0, 0, 0, 0, 0, 0, 0, 1]\n",
      "[1, 1, 1, 1, 1, 1, 1, 1, 1, 1]\n"
     ]
    }
   ],
   "source": [
    "# 98\n",
    "# 성실한 개미 : 개미는 오른쪽으로 움직이다가 벽을 만나면 아래쪽으로 움직여 & 오른쪽에 길이 나타나면 다시 오른쪽으로 움직\n",
    "            # 벽을 만나면 방향을 튼다 (x), 오른쪽에 벽이 없으면 오른쪽으로 움직이고 있으면 아래로 움직인다. (o)\n",
    "# 입력 : 미로 상자 : 0(갈 수 있는 곳), 1(벽 또는 장애물), 먹이 2\n",
    "# 출력 : 이동 경로를 9로 표시\n",
    "# 미로 상자 테두리는 벽. 즉, 모두 1, 개미는 (2, 2)에서 출발\n",
    "# 미로 상자\n",
    "f_list = [[1, 3], [2, 3], [2, 4], [2, 5], [3, 7], [4, 7], [5, 5], [5, 7], [6, 5], [6, 7], [7, 5]]\n",
    "feed = [6, 6]\n",
    "arr = [[0]*10 for _ in range(10)]\n",
    "for i in range(10):\n",
    "    for j in range(10):\n",
    "        if [i,j] in f_list or i in [0, 9] or j in [0,9]  : arr[i][j]=1\n",
    "arr[feed[0]][feed[1]]=2\n",
    "for ar in arr :\n",
    "    print (ar)\n",
    "print('============================================================')\n",
    "i, j = 1, 1\n",
    "while arr[i][j] != 2 : # 오답 : 마지막에도 먹이를 먹어야 해\n",
    "    while arr[i][j] == 0 :\n",
    "        arr[i][j] = 9\n",
    "        j += 1\n",
    "    j -= 1\n",
    "    i += 1\n",
    "    if i == 9 : break\n",
    "for ar in arr :\n",
    "    print (ar)        "
   ]
  },
  {
   "cell_type": "code",
   "execution_count": 51,
   "id": "1b606a61",
   "metadata": {},
   "outputs": [
    {
     "name": "stdout",
     "output_type": "stream",
     "text": [
      "[1, 1, 1, 1, 1, 1, 1, 1, 1, 1]\n",
      "[1, 9, 9, 1, 0, 0, 0, 0, 0, 1]\n",
      "[1, 0, 9, 1, 1, 1, 0, 0, 0, 1]\n",
      "[1, 0, 9, 9, 9, 9, 9, 1, 0, 1]\n",
      "[1, 0, 0, 0, 0, 0, 9, 1, 0, 1]\n",
      "[1, 0, 0, 0, 0, 1, 9, 1, 0, 1]\n",
      "[1, 0, 0, 0, 0, 1, 9, 1, 0, 1]\n",
      "[1, 0, 0, 0, 0, 1, 0, 0, 0, 1]\n",
      "[1, 0, 0, 0, 0, 0, 0, 0, 0, 1]\n",
      "[1, 1, 1, 1, 1, 1, 1, 1, 1, 1]\n"
     ]
    }
   ],
   "source": [
    "f_list = [[1, 3], [2, 3], [2, 4], [2, 5], [3, 7], [4, 7], [5, 5], [5, 7], [6, 5], [6, 7], [7, 5]]\n",
    "feed = [6, 6]\n",
    "arr = [[0]*10 for _ in range(10)]\n",
    "for i in range(10):\n",
    "    for j in range(10):\n",
    "        if [i,j] in f_list or i in [0, 9] or j in [0,9]  : arr[i][j]=1\n",
    "arr[feed[0]][feed[1]]=2\n",
    "\n",
    "i, j = 1, 1\n",
    "while arr[i][j] != 2 :\n",
    "    while arr[i][j] == 0 :\n",
    "        if arr[i][j] == 2 :\n",
    "            \n",
    "        arr[i][j] = 9\n",
    "        j += 1\n",
    "        if \n",
    "    \n",
    "    j -= 1\n",
    "    i += 1\n",
    "    if i == 9 : break\n",
    "\n",
    "if arr[i][j] == 2:\n",
    "    arr[i][j] = 9   # 그냥 넣으면 맨 아래 벽에 닿아서 멈췄을 때도 9가 되니까, 먹이일 때만 바꾸기\n",
    "\n",
    "for ar in arr :\n",
    "    print (ar) \n",
    "    \n",
    "    \n",
    "# 오답 : 제공된 테스트 케이스는 만족하지만 벽 없이 바로 먹이를 만나는 경우를 놓침"
   ]
  },
  {
   "cell_type": "markdown",
   "id": "ee445049",
   "metadata": {},
   "source": [
    "- 모든 경우를 빠짐 없이 체크할 수 있어야 해\n",
    "  - case1 : (1, 1)에서 바로 먹이를 만나는 경우\n",
    "  - case2 : 0 0 0 2 벽을 만나보지 않고 먹이를 만나는 경우  \n",
    "  - 아래 세 경우가 독립적으로 이루어지는 코드가 있다면 best\n",
    "- arr[i][j]의 값\n",
    "|값이 이럴 때| -> 값 바꿔주고|-> 후처리| 반복 |\n",
    "|:---:|:---:|:---:|:---:|\n",
    "|0|9|j+=1|1또는2가 나올 때까지 반복|\n",
    "|1||j-=1,i+=0|\n",
    "|2|9|break|"
   ]
  },
  {
   "cell_type": "code",
   "execution_count": 61,
   "id": "4e488599",
   "metadata": {},
   "outputs": [
    {
     "name": "stdout",
     "output_type": "stream",
     "text": [
      "[1, 1, 1, 1, 1, 1, 1, 1, 1, 1]\n",
      "[1, 9, 9, 1, 0, 0, 0, 0, 0, 1]\n",
      "[1, 0, 9, 1, 1, 1, 0, 0, 0, 1]\n",
      "[1, 0, 9, 9, 9, 9, 9, 1, 0, 1]\n",
      "[1, 0, 0, 0, 0, 0, 9, 1, 0, 1]\n",
      "[1, 0, 0, 0, 0, 1, 9, 1, 0, 1]\n",
      "[1, 0, 0, 0, 0, 1, 9, 1, 0, 1]\n",
      "[1, 0, 0, 0, 0, 1, 0, 0, 0, 1]\n",
      "[1, 0, 0, 0, 0, 0, 0, 0, 0, 1]\n",
      "[1, 1, 1, 1, 1, 1, 1, 1, 1, 1]\n",
      "============================================================\n",
      "[1, 1, 1, 1, 1, 1, 1, 1, 1, 1]\n",
      "[1, 9, 0, 1, 0, 0, 0, 0, 0, 1]\n",
      "[1, 0, 0, 1, 1, 1, 0, 0, 0, 1]\n",
      "[1, 0, 0, 0, 0, 0, 0, 1, 0, 1]\n",
      "[1, 0, 0, 0, 0, 0, 0, 1, 0, 1]\n",
      "[1, 0, 0, 0, 0, 1, 0, 1, 0, 1]\n",
      "[1, 0, 0, 0, 0, 1, 0, 1, 0, 1]\n",
      "[1, 0, 0, 0, 0, 1, 0, 0, 0, 1]\n",
      "[1, 0, 0, 0, 0, 0, 0, 0, 0, 1]\n",
      "[1, 1, 1, 1, 1, 1, 1, 1, 1, 1]\n",
      "============================================================\n",
      "[1, 1, 1, 1, 1, 1, 1, 1, 1, 1]\n",
      "[1, 9, 9, 9, 0, 0, 0, 0, 0, 1]\n",
      "[1, 0, 0, 1, 1, 1, 0, 0, 0, 1]\n",
      "[1, 0, 0, 0, 0, 0, 0, 1, 0, 1]\n",
      "[1, 0, 0, 0, 0, 0, 0, 1, 0, 1]\n",
      "[1, 0, 0, 0, 0, 1, 0, 1, 0, 1]\n",
      "[1, 0, 0, 0, 0, 1, 0, 1, 0, 1]\n",
      "[1, 0, 0, 0, 0, 1, 0, 0, 0, 1]\n",
      "[1, 0, 0, 0, 0, 0, 0, 0, 0, 1]\n",
      "[1, 1, 1, 1, 1, 1, 1, 1, 1, 1]\n",
      "============================================================\n",
      "[1, 1, 1, 1, 1, 1, 1, 1, 1, 1]\n",
      "[1, 9, 9, 1, 0, 0, 2, 0, 0, 1]\n",
      "[1, 0, 9, 1, 1, 1, 0, 0, 0, 1]\n",
      "[1, 0, 9, 9, 9, 9, 9, 1, 0, 1]\n",
      "[1, 0, 0, 0, 0, 0, 9, 1, 0, 1]\n",
      "[1, 0, 0, 0, 0, 1, 9, 1, 0, 1]\n",
      "[1, 0, 0, 0, 0, 1, 9, 1, 0, 1]\n",
      "[1, 0, 0, 0, 0, 1, 9, 9, 9, 1]\n",
      "[1, 0, 0, 0, 0, 0, 0, 0, 9, 1]\n",
      "[1, 1, 1, 1, 1, 1, 1, 1, 1, 1]\n"
     ]
    }
   ],
   "source": [
    "# 함수로 만드니까 리턴값을 다르게 줄 수 있어서 조건문들도 깔끔해지네! 굿!\n",
    "# 입력인자 : 먹이 위치\n",
    "def find_feed(x, y):\n",
    "    f_list = [[1, 3], [2, 3], [2, 4], [2, 5], [3, 7], [4, 7], [5, 5], [5, 7], [6, 5], [6, 7], [7, 5]]\n",
    "    arr = [[0]*10 for _ in range(10)]\n",
    "    for i in range(10):\n",
    "        for j in range(10):\n",
    "            if [i,j] in f_list or i in [0, 9] or j in [0,9]  : arr[i][j]=1\n",
    "    arr[x][y]=2   \n",
    "    i, j = 1, 1\n",
    "    while arr[i][j] != 2 :\n",
    "        while arr[i][j] == 0 :\n",
    "            arr[i][j] = 9\n",
    "            j += 1\n",
    "        if arr[i][j] == 1 :\n",
    "            j -= 1\n",
    "            i += 1\n",
    "        if i == 9 : return arr\n",
    "    arr[i][j] = 9\n",
    "    return arr\n",
    "\n",
    "# 제공된 케이스\n",
    "arr = find_feed(6, 6)\n",
    "for ar in arr :\n",
    "    print (ar)\n",
    "print('============================================================')\n",
    "\n",
    "# case1 : (1, 1)에 먹이가 있을 때\n",
    "arr = find_feed(1, 1)\n",
    "for ar in arr :\n",
    "    print (ar)\n",
    "print('============================================================')\n",
    "\n",
    "# case2 : 0 0 0 2 벽 안 만나고 먹이 바로 만나는 경우\n",
    "arr = find_feed(1, 3)\n",
    "for ar in arr :\n",
    "    print (ar)\n",
    "print('============================================================')\n",
    "\n",
    "# case3 : 먹이를 못 만나고 끝나는 경우\n",
    "arr = find_feed(1, 6)\n",
    "for ar in arr :\n",
    "    print (ar)"
   ]
  },
  {
   "cell_type": "code",
   "execution_count": null,
   "id": "8f9d916d",
   "metadata": {},
   "outputs": [],
   "source": []
  },
  {
   "cell_type": "code",
   "execution_count": null,
   "id": "735f8b06",
   "metadata": {},
   "outputs": [],
   "source": []
  },
  {
   "cell_type": "code",
   "execution_count": null,
   "id": "7ccfe7f6",
   "metadata": {},
   "outputs": [],
   "source": []
  },
  {
   "cell_type": "code",
   "execution_count": null,
   "id": "1984b2b7",
   "metadata": {},
   "outputs": [],
   "source": []
  },
  {
   "cell_type": "code",
   "execution_count": null,
   "id": "af6f256f",
   "metadata": {},
   "outputs": [],
   "source": []
  }
 ],
 "metadata": {
  "kernelspec": {
   "display_name": "Python 3 (ipykernel)",
   "language": "python",
   "name": "python3"
  },
  "language_info": {
   "codemirror_mode": {
    "name": "ipython",
    "version": 3
   },
   "file_extension": ".py",
   "mimetype": "text/x-python",
   "name": "python",
   "nbconvert_exporter": "python",
   "pygments_lexer": "ipython3",
   "version": "3.10.9"
  }
 },
 "nbformat": 4,
 "nbformat_minor": 5
}
